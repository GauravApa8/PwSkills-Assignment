{
  "nbformat": 4,
  "nbformat_minor": 0,
  "metadata": {
    "colab": {
      "provenance": []
    },
    "kernelspec": {
      "name": "python3",
      "display_name": "Python 3"
    },
    "language_info": {
      "name": "python"
    }
  },
  "cells": [
    {
      "cell_type": "markdown",
      "source": [
        "1. What is Python, and why is it popular?  \n",
        "Ans. Python is a high-level, general purpose programming language which is known for its readability and versatility.\n",
        "And it is popular because it has a large labraries and framework, it is easy to use for beginners, it has readale syntax and it has versatile applications across various fields, and a large, supportive community."
      ],
      "metadata": {
        "id": "f48WCt0kYWyZ"
      }
    },
    {
      "cell_type": "markdown",
      "source": [
        "2.  What is an interpreter in Python?   \n",
        "Ans. In Python, An interpreter is a program that reads and executes Python code line by line."
      ],
      "metadata": {
        "id": "uqpQBuelYVU7"
      }
    },
    {
      "cell_type": "markdown",
      "source": [
        "3. What are pre-defined keywords in Python?   \n",
        "Ans. Keywords are predefined words that hold a special meaning and have specific purpose in python. To view keywords in python simply type help('keywords') and run. I have run the command for example."
      ],
      "metadata": {
        "id": "S55AJfgrbV7r"
      }
    },
    {
      "cell_type": "code",
      "source": [
        "help('keywords')"
      ],
      "metadata": {
        "colab": {
          "base_uri": "https://localhost:8080/"
        },
        "id": "H-OiijeWdOWx",
        "outputId": "0b7c02e8-28bf-465f-95cf-29c9bbb8d94c"
      },
      "execution_count": null,
      "outputs": [
        {
          "output_type": "stream",
          "name": "stdout",
          "text": [
            "\n",
            "Here is a list of the Python keywords.  Enter any keyword to get more help.\n",
            "\n",
            "False               class               from                or\n",
            "None                continue            global              pass\n",
            "True                def                 if                  raise\n",
            "and                 del                 import              return\n",
            "as                  elif                in                  try\n",
            "assert              else                is                  while\n",
            "async               except              lambda              with\n",
            "await               finally             nonlocal            yield\n",
            "break               for                 not                 \n",
            "\n"
          ]
        }
      ]
    },
    {
      "cell_type": "markdown",
      "source": [
        "4. Can keywords be used as variable names?  \n",
        "Ans. No, keywords can't be used as variable name. Because keywords are pre-defined words in python. Keywords are reserved words with specific meanings that the compiler or interpreter uses to understand the syntax of the code. Using a keyword as a variable name would create ambiguity and cause errors."
      ],
      "metadata": {
        "id": "3M_MDnsLdnee"
      }
    },
    {
      "cell_type": "markdown",
      "source": [
        "5. What is mutability in Python?   \n",
        "Ans. Objects whose state or value can be changed after they are created are as called mutable objects. List is a type of mutable objects in python."
      ],
      "metadata": {
        "id": "A9FYvpHJelA7"
      }
    },
    {
      "cell_type": "markdown",
      "source": [
        "6. Why are lists mutable, but tuples are immutable?   \n",
        "Ans. Because tuples use parentheses instead of square brackets, and the items in tuples cannot be modified."
      ],
      "metadata": {
        "id": "4zgWn1qCemyY"
      }
    },
    {
      "cell_type": "markdown",
      "source": [
        "7.  What is the difference between “==” and “is” operators in Python?   \n",
        "Ans. The \"==\" operator checks for equality of value between two objects. And \"is\" operator compares the memory location of the two objects."
      ],
      "metadata": {
        "id": "SV0_I4V3enFl"
      }
    },
    {
      "cell_type": "markdown",
      "source": [
        "8. What are logical operators in Python?   \n",
        "Ans. Logical operators in Python are used to combine or modify boolean expressions (True or False). There are three logical operators in Python: \"and\", \"or\", and \"not\". Some examples for the logical operators are:\n",
        "True and True = True,\n",
        "True and False = False,\n",
        "False and False = False,\n",
        "False and True = False,\n",
        "True or True = True,\n",
        "True or False = True,\n",
        "not True = False,\n",
        "not False = True,"
      ],
      "metadata": {
        "id": "l0oU0HiXenWr"
      }
    },
    {
      "cell_type": "markdown",
      "source": [
        "9.  What is type casting in Python?   \n",
        "Ans. The preocess of changing the data type of a value/object. There are two type of Type Casting: a) Implicit casting and b) Explicit casting."
      ],
      "metadata": {
        "id": "Kt4MWBW6ennA"
      }
    },
    {
      "cell_type": "markdown",
      "source": [
        "10.  What is the difference between implicit and explicit type casting?    \n",
        "Ans. In Implicit type casting python understand the datatype.   \n",
        "While in Explicit type casting python convert data type using inbuilt function i.e. str(), int(), float(), bool(), list(), tuple(), set() and dict()."
      ],
      "metadata": {
        "id": "1cjrdV4qenzW"
      }
    },
    {
      "cell_type": "markdown",
      "source": [
        "11.  What is the purpose of conditional statements in Python?    \n",
        "Ans. In Python, Conditional statements helps you to code decisions based on some pre-conditions and is to control the flow of execution in a program based on whether specific conditions are met. They allow a program to make decisions and execute different blocks of code accordingly."
      ],
      "metadata": {
        "id": "ckuqsp1aen_f"
      }
    },
    {
      "cell_type": "markdown",
      "source": [
        "12.  How does the elif statement work?    \n",
        "Ans. The “elif” keyword in Python, stands for “else if”. It can be used in conditional statements to check for multiple conditions. For example, if the first condition is false, it moves on to the next “elif” statement to check if that condition is true."
      ],
      "metadata": {
        "id": "fqvGteSneoZI"
      }
    },
    {
      "cell_type": "markdown",
      "source": [
        "13.  What is the difference between for and while loops?    \n",
        "Ans. The main difference between \"for\" and \"while\" loops lies in when the number of iterations is known beforehand. \"for\" loops are used when the number of iterations is known or can be easily determined at the beginning of the loop, while \"while\" loops are used when the number of iterations is dependent on a dynamic condition and is not known in advance."
      ],
      "metadata": {
        "id": "tZOmPs5VeqR-"
      }
    },
    {
      "cell_type": "markdown",
      "source": [
        "14.  Describe a scenario where a while loop is more suitable than a for loop.   \n",
        "Ans. A scenario where a while loop is more suitable than a for loop is when the number of iterations needed is not known in advance. This often occurs when the loop's continuation depends on a condition being met rather than iterating over a predefined sequence.     \n",
        "Consider a program that prompts the user for input until they enter a specific word, such as \"quit.\" A while loop is well-suited for this task because the number of times the loop needs to run depends on the user's input, which is unknown beforehand."
      ],
      "metadata": {
        "id": "MCyCaOkveqo-"
      }
    },
    {
      "cell_type": "code",
      "source": [
        "user_input = \"\"\n",
        "while user_input.lower() != \"quit\":\n",
        "    user_input = input(\"Enter text (type 'quit' to exit): \")\n",
        "    print(\"You entered:\", user_input)\n",
        "print(\"Exiting program.\")"
      ],
      "metadata": {
        "colab": {
          "base_uri": "https://localhost:8080/"
        },
        "id": "iyDFuL3d4GB9",
        "outputId": "7abd2650-95d1-4e64-e14d-5a1de54e31dc"
      },
      "execution_count": null,
      "outputs": [
        {
          "output_type": "stream",
          "name": "stdout",
          "text": [
            "Enter text (type 'quit' to exit): Gaurav\n",
            "You entered: Gaurav\n",
            "Enter text (type 'quit' to exit): Aparna\n",
            "You entered: Aparna\n",
            "Enter text (type 'quit' to exit): Mummy\n",
            "You entered: Mummy\n",
            "Enter text (type 'quit' to exit): Papa\n",
            "You entered: Papa\n",
            "Enter text (type 'quit' to exit): Quit\n",
            "You entered: Quit\n",
            "Exiting program.\n"
          ]
        }
      ]
    },
    {
      "cell_type": "markdown",
      "source": [
        "Practical Questions:\n",
        "1.  Write a Python program to print \"Hello, World!\"."
      ],
      "metadata": {
        "id": "h_myFcW74aLe"
      }
    },
    {
      "cell_type": "code",
      "source": [
        "print(\"Hello World!\")"
      ],
      "metadata": {
        "colab": {
          "base_uri": "https://localhost:8080/"
        },
        "id": "Q10cnOx44pAq",
        "outputId": "aba3a800-e731-40fc-cc83-d9c8d81c9f2c"
      },
      "execution_count": null,
      "outputs": [
        {
          "output_type": "stream",
          "name": "stdout",
          "text": [
            "Hello World!\n"
          ]
        }
      ]
    },
    {
      "cell_type": "markdown",
      "source": [
        "2. Write a Python program that displays your name and age."
      ],
      "metadata": {
        "id": "2hjKkXyR4v3Z"
      }
    },
    {
      "cell_type": "code",
      "source": [
        "print(\"My name is Gaurav Suman\")\n",
        "print(\"My age is 26\")"
      ],
      "metadata": {
        "colab": {
          "base_uri": "https://localhost:8080/"
        },
        "id": "5SzzfbDA442d",
        "outputId": "32e13bbb-ed57-49ef-8930-2ce8fcd3e48b"
      },
      "execution_count": null,
      "outputs": [
        {
          "output_type": "stream",
          "name": "stdout",
          "text": [
            "My name is Gaurav Suman\n",
            "My age is 26\n"
          ]
        }
      ]
    },
    {
      "cell_type": "markdown",
      "source": [
        "3.  Write code to print all the pre-defined keywords in Python using the keyword library."
      ],
      "metadata": {
        "id": "aG5w3-KJ5ICY"
      }
    },
    {
      "cell_type": "code",
      "source": [
        "help('keywords')"
      ],
      "metadata": {
        "colab": {
          "base_uri": "https://localhost:8080/"
        },
        "id": "y9ppLtNc5L6C",
        "outputId": "11c5eb76-cc0f-4415-81d6-2c0965c45b82"
      },
      "execution_count": null,
      "outputs": [
        {
          "output_type": "stream",
          "name": "stdout",
          "text": [
            "\n",
            "Here is a list of the Python keywords.  Enter any keyword to get more help.\n",
            "\n",
            "False               class               from                or\n",
            "None                continue            global              pass\n",
            "True                def                 if                  raise\n",
            "and                 del                 import              return\n",
            "as                  elif                in                  try\n",
            "assert              else                is                  while\n",
            "async               except              lambda              with\n",
            "await               finally             nonlocal            yield\n",
            "break               for                 not                 \n",
            "\n"
          ]
        }
      ]
    },
    {
      "cell_type": "markdown",
      "source": [
        "4.  Write a program that checks if a given word is a Python keyword."
      ],
      "metadata": {
        "id": "JDr7U49p5T7H"
      }
    },
    {
      "cell_type": "code",
      "source": [
        "import keyword\n",
        "\n",
        "def is_keyword(word):\n",
        "  \"\"\"Checks if a given word is a Python keyword.\n",
        "\n",
        "  Args:\n",
        "    word: The word to check.\n",
        "\n",
        "  Returns:\n",
        "    True if the word is a keyword, False otherwise.\n",
        "  \"\"\"\n",
        "  return keyword.iskeyword(word)\n",
        "\n",
        "# Get input from the user\n",
        "word = input(\"Enter a word: \")\n",
        "\n",
        "# Check if the word is a keyword and print the result\n",
        "if is_keyword(word):\n",
        "  print(f\"'{word}' is a Python keyword.\")\n",
        "else:\n",
        "  print(f\"'{word}' is not a Python keyword.\")"
      ],
      "metadata": {
        "colab": {
          "base_uri": "https://localhost:8080/"
        },
        "id": "_Ka8__Jf5bgA",
        "outputId": "16d3af27-0295-474b-eb22-9d84852d53f8"
      },
      "execution_count": null,
      "outputs": [
        {
          "output_type": "stream",
          "name": "stdout",
          "text": [
            "Enter a word: Gaurav\n",
            "'Gaurav' is not a Python keyword.\n"
          ]
        }
      ]
    },
    {
      "cell_type": "code",
      "source": [
        "import keyword\n",
        "\n",
        "def is_keyword(word):\n",
        "  \"\"\"Checks if a given word is a Python keyword.\n",
        "\n",
        "  Args:\n",
        "    word: The word to check.\n",
        "\n",
        "  Returns:\n",
        "    True if the word is a keyword, False otherwise.\n",
        "  \"\"\"\n",
        "  return keyword.iskeyword(word)\n",
        "\n",
        "# Get input from the user\n",
        "word = input(\"Enter a word: \")\n",
        "\n",
        "# Check if the word is a keyword and print the result\n",
        "if is_keyword(word):\n",
        "  print(f\"'{word}' is a Python keyword.\")\n",
        "else:\n",
        "  print(f\"'{word}' is not a Python keyword.\")"
      ],
      "metadata": {
        "colab": {
          "base_uri": "https://localhost:8080/"
        },
        "id": "NBOgQmYP5r1C",
        "outputId": "5226a063-ce0a-4085-dc67-6fb307fceb0b"
      },
      "execution_count": null,
      "outputs": [
        {
          "output_type": "stream",
          "name": "stdout",
          "text": [
            "Enter a word: if\n",
            "'if' is a Python keyword.\n"
          ]
        }
      ]
    },
    {
      "cell_type": "markdown",
      "source": [
        "5. Create a list and tuple in Python, and demonstrate how attempting to change an element works differently\n",
        "for each."
      ],
      "metadata": {
        "id": "yL2ws7366F-g"
      }
    },
    {
      "cell_type": "code",
      "source": [
        "list_count = [1,2,3,4,5]\n",
        "tuple_count = {1,\"Gaurav\",95,\"PwSkills\"}\n",
        "print(type(list_count))\n",
        "print(type(tuple_count))"
      ],
      "metadata": {
        "colab": {
          "base_uri": "https://localhost:8080/"
        },
        "id": "vGStuQnj6cln",
        "outputId": "dbc4fc19-68c7-4daf-838b-7980695588e4"
      },
      "execution_count": null,
      "outputs": [
        {
          "output_type": "stream",
          "name": "stdout",
          "text": [
            "<class 'list'>\n",
            "<class 'set'>\n"
          ]
        }
      ]
    },
    {
      "cell_type": "code",
      "source": [
        "#Changing/modification in list\n",
        "list_count[3] = \"Gaurav\"\n",
        "print(\"Modified list: \",list_count)"
      ],
      "metadata": {
        "colab": {
          "base_uri": "https://localhost:8080/"
        },
        "id": "zC8oBqCr7Ivq",
        "outputId": "e116ab4e-5011-4de5-ff68-8fbed97da158"
      },
      "execution_count": null,
      "outputs": [
        {
          "output_type": "stream",
          "name": "stdout",
          "text": [
            "Modified list:  [1, 2, 3, 'Gaurav', 5]\n"
          ]
        }
      ]
    },
    {
      "cell_type": "code",
      "source": [
        "#Changing/modification in tuple\n",
        "try:\n",
        "    tuple_count[1] = 20\n",
        "except TypeError as e:\n",
        "    print(\"Error:\", e)"
      ],
      "metadata": {
        "colab": {
          "base_uri": "https://localhost:8080/"
        },
        "id": "e5ihcpOI7n-m",
        "outputId": "1cdb9cdb-e575-4359-f100-b106ae175adc"
      },
      "execution_count": null,
      "outputs": [
        {
          "output_type": "stream",
          "name": "stdout",
          "text": [
            "Error: 'set' object does not support item assignment\n"
          ]
        }
      ]
    },
    {
      "cell_type": "markdown",
      "source": [
        "6.  Write a function to demonstrate the behavior of mutable and immutable arguments."
      ],
      "metadata": {
        "id": "g8jEUZZJ9CkD"
      }
    },
    {
      "cell_type": "code",
      "source": [
        "#mutable objects are lists\n",
        "mutable_obj = [1, \"Ajay\", 55, \"Pwskills\"]\n",
        "print(\"This is mutable object:\", mutable_obj)"
      ],
      "metadata": {
        "colab": {
          "base_uri": "https://localhost:8080/"
        },
        "id": "sxju-QUc9IC_",
        "outputId": "df75a477-2433-47c1-ab42-848764c0ae95"
      },
      "execution_count": null,
      "outputs": [
        {
          "output_type": "stream",
          "name": "stdout",
          "text": [
            "This is mutable object: [1, 'Ajay', 55, 'Pwskills']\n"
          ]
        }
      ]
    },
    {
      "cell_type": "code",
      "source": [
        "#when Changing and modification done in mutable objects\n",
        "mutable_obj[0] = \"First_change\"\n",
        "mutable_obj[3] = \"Second_change\"\n",
        "print(\"After changes done in mutable objects: \", mutable_obj)"
      ],
      "metadata": {
        "colab": {
          "base_uri": "https://localhost:8080/"
        },
        "id": "GgW3COdk9oRA",
        "outputId": "7b8f6ebf-e5dd-4543-e768-4b00bcf537b2"
      },
      "execution_count": null,
      "outputs": [
        {
          "output_type": "stream",
          "name": "stdout",
          "text": [
            "After changes done in mutable objects:  ['First_change', 'Ajay', 55, 'Second_change']\n"
          ]
        }
      ]
    },
    {
      "cell_type": "code",
      "source": [
        "#Immutable objects are tuples and strings\n",
        "tuple_obj = (\"pwskills\",43, 45, \"tuples\", \"Immutable\")\n",
        "str_obj =\"Pwskills Enhance skills\"\n",
        "print(\"This is immutable objects: \", tuple_obj)\n",
        "print(\"This is immutable objects: \", str_obj)"
      ],
      "metadata": {
        "colab": {
          "base_uri": "https://localhost:8080/"
        },
        "id": "jh9ksWt2-KOF",
        "outputId": "a326fd8d-8c57-46e2-cc4a-909ce92d9ea4"
      },
      "execution_count": null,
      "outputs": [
        {
          "output_type": "stream",
          "name": "stdout",
          "text": [
            "This is immutable objects:  ('pwskills', 43, 45, 'tuples', 'Immutable')\n",
            "This is immutable objects:  Pwskills Enhance skills\n"
          ]
        }
      ]
    },
    {
      "cell_type": "code",
      "source": [
        "#When changing and modification done on Immutable objects:\n",
        "try:\n",
        "  tuple_obj[0] = \"First_change\"\n",
        "except TypeError as ep:\n",
        "    print(\"Immutable objects can't be changed or modified: \", ep)\n",
        "try:\n",
        "  str_obj[2] = \"Second_change\"\n",
        "except TypeError as a:\n",
        "  print(\"Immutable objects can't be changed or modified: \", a)"
      ],
      "metadata": {
        "colab": {
          "base_uri": "https://localhost:8080/"
        },
        "id": "xRXR5H5E_Kzx",
        "outputId": "cffa522e-0f88-47b6-b7f8-16678cd8ba86"
      },
      "execution_count": null,
      "outputs": [
        {
          "output_type": "stream",
          "name": "stdout",
          "text": [
            "Immutable objects can't be changed or modified:  'tuple' object does not support item assignment\n",
            "Immutable objects can't be changed or modified:  'str' object does not support item assignment\n"
          ]
        }
      ]
    },
    {
      "cell_type": "markdown",
      "source": [
        "7.  Write a program that performs basic arithmetic operations on two user-input numbers."
      ],
      "metadata": {
        "id": "oC_9ntuzCdkn"
      }
    },
    {
      "cell_type": "code",
      "source": [
        "a = float(input(\"Enter the first number: \"))\n",
        "b = float(input(\"Enter the second number: \"))\n",
        "add = a + b\n",
        "sub = a - b\n",
        "mul = a * b\n",
        "print(\"The result is: \", add)\n",
        "print(\"The result is: \", sub)\n",
        "print(\"The result is: \", mul)\n",
        "if b != 0:\n",
        "  div = a / b\n",
        "  print(\"The result is: \", div)\n",
        "else:\n",
        "  print(\"The number is not divisible by Zero.\")\n"
      ],
      "metadata": {
        "id": "HO7-vMbLCiDf",
        "colab": {
          "base_uri": "https://localhost:8080/"
        },
        "outputId": "9d058012-4752-4e19-8ed6-ade3c793ffe5"
      },
      "execution_count": 28,
      "outputs": [
        {
          "output_type": "stream",
          "name": "stdout",
          "text": [
            "Enter the first number: 4584\n",
            "Enter the second number: 54\n",
            "The result is:  4638.0\n",
            "The result is:  4530.0\n",
            "The result is:  247536.0\n",
            "The result is:  84.88888888888889\n"
          ]
        }
      ]
    },
    {
      "cell_type": "markdown",
      "source": [
        "8. Write a program to demonstrate the use of logical operators."
      ],
      "metadata": {
        "id": "aF1xFN5WvC8S"
      }
    },
    {
      "cell_type": "code",
      "source": [
        "#Logical operators are (And, Or & Not)\n",
        "a = True\n",
        "b = False\n",
        "c = True\n",
        "\n",
        "#And logical operator\n",
        "print(\"A and B are:\", a and b)\n",
        "print(\"A and C are:\", a and c)\n",
        "print(\"B and C are:\", b and c)\n",
        "\n",
        "#OR Logical operator\n",
        "print(\"A or B are:\", a or b)\n",
        "print(\"A or C are:\", a or c)\n",
        "print(\"B or C are:\", b or c)\n",
        "\n",
        "#NOT logical operator\n",
        "print(\"A not B are:\", not b)\n",
        "print(\"C not A are:\", not a)\n",
        "print(\"B not C are:\", not c)"
      ],
      "metadata": {
        "colab": {
          "base_uri": "https://localhost:8080/"
        },
        "id": "QFSfvhZevMIG",
        "outputId": "a62c9034-2bbf-4edb-a37e-b81b4db8a7ea"
      },
      "execution_count": 69,
      "outputs": [
        {
          "output_type": "stream",
          "name": "stdout",
          "text": [
            "A and B are: False\n",
            "A and C are: True\n",
            "B and C are: False\n",
            "A or B are: True\n",
            "A or C are: True\n",
            "B or C are: True\n",
            "A not B are: True\n",
            "C not A are: False\n",
            "B not C are: False\n"
          ]
        }
      ]
    },
    {
      "cell_type": "markdown",
      "source": [
        "9.  Write a Python program to convert user input from string to integer, float, and boolean types."
      ],
      "metadata": {
        "id": "LE7DZfGvGFOY"
      }
    },
    {
      "cell_type": "code",
      "source": [
        "str_input = str(input(\"Enter the string: \"))\n",
        "#Converting String into Integer.\n",
        "try:\n",
        "  int1 = int(str_input)\n",
        "  print(int1)\n",
        "except ValueError:\n",
        "  print(\"Invalid input: cannot convert to integer\")\n",
        "\n",
        "#Converting String into Float.\n",
        "try:\n",
        "  float1 = float(str_input)\n",
        "  print(float1)\n",
        "except ValueError:\n",
        "  print(\"Invalid input: cannot convert to float\")\n",
        "\n",
        "#Converting String to Boolean.\n",
        "if str_input.lower() == \"true\":\n",
        "      boolean_value = True\n",
        "      print(f\"Boolean: {boolean_value}\")\n",
        "elif str_input.lower() == \"false\":\n",
        "      boolean_value = False\n",
        "      print(f\"Boolean: {boolean_value}\")\n",
        "else:\n",
        "      print(\"Not a boolean.\")"
      ],
      "metadata": {
        "colab": {
          "base_uri": "https://localhost:8080/"
        },
        "id": "O2NLVpnwIZJW",
        "outputId": "b672d47d-aa77-4011-e48a-0a000394a661"
      },
      "execution_count": 108,
      "outputs": [
        {
          "output_type": "stream",
          "name": "stdout",
          "text": [
            "Enter the string: 45.5\n",
            "Invalid input: cannot convert to integer\n",
            "45.5\n",
            "Not a boolean.\n"
          ]
        }
      ]
    },
    {
      "cell_type": "markdown",
      "source": [
        "10. Write code to demonstrate type casting with list elements."
      ],
      "metadata": {
        "id": "SBl8mCCHQU1n"
      }
    },
    {
      "cell_type": "code",
      "source": [
        "#The given beow are the examples of Explicit type casting which we are doing #manually to convert list into integers, floats etc.\n",
        "user_input = [1, 'Gaurav', 3.5, '23', \"Pwskills\", 44, 87, \"True\", \"False\"]\n",
        "#Converting list into integer.\n",
        "int_list1 = []\n",
        "for item in user_input:\n",
        "  try:\n",
        "    int_list1.append(int(item))\n",
        "  except ValueError:\n",
        "    print(f\"\\nThis element '{item}' is not converted into Integer value.\")\n",
        "print(\"\\nAnd the rest of the elements are in integers: \", int_list1)\n",
        "\n",
        "#converting list into float\n",
        "float_list1 = []\n",
        "for elem in user_input:\n",
        "  try:\n",
        "    float_list1.append(float(elem))\n",
        "  except ValueError:\n",
        "    print(f\"\\nThis element '{elem}' is not converted into float.\")\n",
        "print(\"\\nAnd the rest of the elements are in floats: \", float_list1)\n",
        "\n",
        "#The given below examples are of Implicit type casting.\n",
        "list3 = [4, 5, 3.0, 5.3, 7,]\n",
        "result_list3 = 0\n",
        "for add in list3:\n",
        "  result_list3 += add\n",
        "print(\"\\nThe addition of the list is:\\n \", result_list3)\n",
        "#Here in implicit type casting the addition is done automatically while there #is integer value or float and if we add some string value it will give error."
      ],
      "metadata": {
        "colab": {
          "base_uri": "https://localhost:8080/"
        },
        "id": "YgS_par2QYxD",
        "outputId": "5644dfff-262c-49cf-cd9c-5151268febe0"
      },
      "execution_count": 178,
      "outputs": [
        {
          "output_type": "stream",
          "name": "stdout",
          "text": [
            "\n",
            "This element 'Gaurav' is not converted into Integer value.\n",
            "\n",
            "This element 'Pwskills' is not converted into Integer value.\n",
            "\n",
            "This element 'True' is not converted into Integer value.\n",
            "\n",
            "This element 'False' is not converted into Integer value.\n",
            "\n",
            "And the rest of the elements are in integers:  [1, 3, 23, 44, 87]\n",
            "\n",
            "This element 'Gaurav' is not converted into float.\n",
            "\n",
            "This element 'Pwskills' is not converted into float.\n",
            "\n",
            "This element 'True' is not converted into float.\n",
            "\n",
            "This element 'False' is not converted into float.\n",
            "\n",
            "And the rest of the elements are in floats:  [1.0, 3.5, 23.0, 44.0, 87.0]\n",
            "\n",
            "The addition of the list is:\n",
            "  24.3\n"
          ]
        }
      ]
    },
    {
      "cell_type": "markdown",
      "source": [
        "11. Write a program that checks if a number is positive, negative, or zero."
      ],
      "metadata": {
        "id": "35f4UrqkljRU"
      }
    },
    {
      "cell_type": "code",
      "source": [
        "num = float(input(\"ENter the number:\"))\n",
        "#def num(n):\n",
        "if num > 0:\n",
        "    print(\"The number is Positive.\")\n",
        "elif num < 0:\n",
        "    print(\"The number is negative.\")\n",
        "else:\n",
        "    print(\"The number is zero.\")"
      ],
      "metadata": {
        "colab": {
          "base_uri": "https://localhost:8080/"
        },
        "id": "z9pOyVkTlnjp",
        "outputId": "3bc4033c-dd17-4e7d-c667-18d386cfe047"
      },
      "execution_count": 194,
      "outputs": [
        {
          "output_type": "stream",
          "name": "stdout",
          "text": [
            "ENter the number:50\n",
            "The number is Positive.\n"
          ]
        }
      ]
    },
    {
      "cell_type": "markdown",
      "source": [
        "12.  Write a for loop to print numbers from 1 to 10."
      ],
      "metadata": {
        "id": "_CTzs0FZo9Cc"
      }
    },
    {
      "cell_type": "code",
      "source": [
        "# This is one method in which we can print number in the range which we assign.\n",
        "for num in range(1, 11):\n",
        "  print(num)\n",
        "\n",
        "# This is second method in which we assign two variable and then print the #number in between that varialbes.\n",
        "i = 1\n",
        "j = 10\n",
        "for num1 in range(i, j+1):\n",
        "  print(\"\\n\",num1)"
      ],
      "metadata": {
        "colab": {
          "base_uri": "https://localhost:8080/"
        },
        "id": "C14IfPb5pCtH",
        "outputId": "8caa60fc-5663-4331-98a5-7f5bf9fae24e"
      },
      "execution_count": 203,
      "outputs": [
        {
          "output_type": "stream",
          "name": "stdout",
          "text": [
            "1\n",
            "2\n",
            "3\n",
            "4\n",
            "5\n",
            "6\n",
            "7\n",
            "8\n",
            "9\n",
            "10\n",
            "\n",
            " 1\n",
            "\n",
            " 2\n",
            "\n",
            " 3\n",
            "\n",
            " 4\n",
            "\n",
            " 5\n",
            "\n",
            " 6\n",
            "\n",
            " 7\n",
            "\n",
            " 8\n",
            "\n",
            " 9\n",
            "\n",
            " 10\n"
          ]
        }
      ]
    },
    {
      "cell_type": "markdown",
      "source": [
        "13.  Write a Python program to find the sum of all even numbers between 1 and 50."
      ],
      "metadata": {
        "id": "-clKAm4lrKhe"
      }
    },
    {
      "cell_type": "code",
      "source": [
        "#This is the method in which we assign the number and print the sum of the even number.\n",
        "sum = 0\n",
        "for num in range(2, 51, 2):\n",
        "  sum = sum + num\n",
        "  print(\"The even number is: \", num)\n",
        "print(\"The sum of all the above even numbers are: \", sum)\n",
        "\n",
        "#This is the method in which we want the number from the user and then sum all the even numbers inside the range.\n",
        "User_input3 = int(input(\"Enter the number: \"))\n",
        "sum1 = 0\n",
        "i = 0\n",
        "while i <= User_input3:\n",
        "  if i % 2 == 0:\n",
        "    print(i)\n",
        "    sum1 += i\n",
        "  i += 1\n",
        "print(f\"Sum of all the even numbers which user has inserted: \", sum1)"
      ],
      "metadata": {
        "colab": {
          "base_uri": "https://localhost:8080/"
        },
        "id": "1qlzeow2rN91",
        "outputId": "dd79aacc-5f59-4bcb-bda8-7dff5d25b459"
      },
      "execution_count": 216,
      "outputs": [
        {
          "output_type": "stream",
          "name": "stdout",
          "text": [
            "The even number is:  2\n",
            "The even number is:  4\n",
            "The even number is:  6\n",
            "The even number is:  8\n",
            "The even number is:  10\n",
            "The even number is:  12\n",
            "The even number is:  14\n",
            "The even number is:  16\n",
            "The even number is:  18\n",
            "The even number is:  20\n",
            "The even number is:  22\n",
            "The even number is:  24\n",
            "The even number is:  26\n",
            "The even number is:  28\n",
            "The even number is:  30\n",
            "The even number is:  32\n",
            "The even number is:  34\n",
            "The even number is:  36\n",
            "The even number is:  38\n",
            "The even number is:  40\n",
            "The even number is:  42\n",
            "The even number is:  44\n",
            "The even number is:  46\n",
            "The even number is:  48\n",
            "The even number is:  50\n",
            "The sum of all the above even numbers are:  650\n",
            "Enter the number: 50\n",
            "0\n",
            "2\n",
            "4\n",
            "6\n",
            "8\n",
            "10\n",
            "12\n",
            "14\n",
            "16\n",
            "18\n",
            "20\n",
            "22\n",
            "24\n",
            "26\n",
            "28\n",
            "30\n",
            "32\n",
            "34\n",
            "36\n",
            "38\n",
            "40\n",
            "42\n",
            "44\n",
            "46\n",
            "48\n",
            "50\n",
            "Sum of all the even numbers which user has inserted:  650\n"
          ]
        }
      ]
    },
    {
      "cell_type": "markdown",
      "source": [
        "14.  Write a program to reverse a string using a while loop."
      ],
      "metadata": {
        "id": "57YjMnHgwBLk"
      }
    },
    {
      "cell_type": "code",
      "source": [
        "def reverse_string(user_input4):\n",
        "    rev_str = \"\"\n",
        "    input5 = len(user_input4) - 1\n",
        "    while input5 >= 0:\n",
        "        rev_str = rev_str + user_input4[input5]\n",
        "        input5 = input5 - 1\n",
        "    return rev_str\n",
        "\n",
        "user_input4 = input(\"Enter the string want to reverse:\\n\")\n",
        "rev_str = reverse_string(user_input4)\n",
        "print(\"\\nThe Reversed string is:\\n\", rev_str)"
      ],
      "metadata": {
        "colab": {
          "base_uri": "https://localhost:8080/"
        },
        "id": "HuLUmQa0wKO_",
        "outputId": "bb78d3e5-60fc-4435-ed33-1493c73c52d0"
      },
      "execution_count": 242,
      "outputs": [
        {
          "output_type": "stream",
          "name": "stdout",
          "text": [
            "Enter the string want to reverse:\n",
            "varuaG\n",
            "\n",
            "The Reversed string is:\n",
            " Gaurav\n"
          ]
        }
      ]
    },
    {
      "cell_type": "markdown",
      "source": [
        "15. Write a Python program to calculate the factorial of a number provided by the user using a while loop."
      ],
      "metadata": {
        "id": "q38lfXgF5Jmu"
      }
    },
    {
      "cell_type": "code",
      "source": [
        "def fact(num2):\n",
        "  if num2 < 0:\n",
        "    return\n",
        "  elif num2 == 0:\n",
        "    return 1\n",
        "  else:\n",
        "    factorial = 1\n",
        "  while num2 > 0:\n",
        "    factorial = factorial * num2\n",
        "    num2 = num2 - 1\n",
        "  return factorial\n",
        "try:\n",
        "  num3 = int(input(\"Enter the integer number which you want your factorial: \"))\n",
        "  result = fact(num3)\n",
        "  print(f\"The factorial of the {num3} is {result}\")\n",
        "except ValueError:\n",
        "  print(\"Enter the valid integer number.\")"
      ],
      "metadata": {
        "colab": {
          "base_uri": "https://localhost:8080/"
        },
        "id": "6TPASrrg-Qff",
        "outputId": "fb0f60b3-755c-425e-9ed6-89255fdc53a9"
      },
      "execution_count": 253,
      "outputs": [
        {
          "output_type": "stream",
          "name": "stdout",
          "text": [
            "Enter the integer number which you want your factorial: 6\n",
            "The factorial of the 6 is 720\n"
          ]
        }
      ]
    }
  ]
}