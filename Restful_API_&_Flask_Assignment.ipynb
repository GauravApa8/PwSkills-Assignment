{
  "nbformat": 4,
  "nbformat_minor": 0,
  "metadata": {
    "colab": {
      "provenance": []
    },
    "kernelspec": {
      "name": "python3",
      "display_name": "Python 3"
    },
    "language_info": {
      "name": "python"
    }
  },
  "cells": [
    {
      "cell_type": "markdown",
      "source": [
        "**Theory Questions**"
      ],
      "metadata": {
        "id": "u4lEbDG4I-4J"
      }
    },
    {
      "cell_type": "markdown",
      "source": [
        "1. What is a RESTful API?  \n",
        "Ans.  \n",
        "A RESTful API (Representational State Transfer API) is a type of web service that follows the principles of REST architecture, which is a set of guidelines for building scalable and easy-to-use web services."
      ],
      "metadata": {
        "id": "HIxkEb48JElZ"
      }
    },
    {
      "cell_type": "markdown",
      "source": [
        "2.  Explain the concept of API specification.  \n",
        "Ans.  \n",
        "Key Concepts of RESTful API:  \n",
        " 1. Client-Server Architecture:  \n",
        " *   The client (e.g., browser or app) and the server (e.g., API backend) are separate entities.\n",
        " *   The client sends HTTP requests, and the server returns responses (usually in JSON or XML format).\n",
        " 2. Stateless:\n",
        " *   Each request from the client to the server must contain all the information needed to understand and process the request.\n",
        " *   The server does not store any client context between requests.\n",
        " 3. Resources:  \n",
        " *   Everything in a RESTful API is considered a resource (e.g., users, products, orders).\n",
        " *   Resources are identified by URLs (Uniform Resource Locators).  \n",
        "Example:  \n",
        "GET /users – Get all users  \n",
        "GET /users/1 – Get user with ID 1  \n",
        "POST /users – Create a new user  \n",
        "PUT /users/1 – Update user with ID 1  \n",
        "DELETE /users/1 – Delete user with ID 1  \n",
        " 4. HTTP Methods:  \n",
        " *   GET – Retrieve data\n",
        " *   POST – Create a new resource\n",
        " *   PUT or PATCH – Update a resource\n",
        " *   DELETE – Remove a resource\n",
        " 5. Use of Standard HTTP Status Codes:  \n",
        " *   200 OK – Successful request\n",
        " *   201 Created – Resource created successfully\n",
        " *   400 Bad Request – Invalid request from the client\n",
        " *   401 Unauthorized – Authentication needed\n",
        " *   404 Not Found – Resource not found\n",
        " *   500 Internal Server Error – Problem on the server\n",
        " 6. JSON/XML Format:  \n",
        " *   Most RESTful APIs use JSON as the format for request and response bodies.\n"
      ],
      "metadata": {
        "id": "QFsHKvSIJ-ng"
      }
    },
    {
      "cell_type": "markdown",
      "source": [
        "3. What is Flask, and why is it popular for building APIs?  \n",
        "Ans.  \n",
        "Flask is a lightweight, open-source web framework written in Python, used for building web applications and APIs.  \n",
        " *   Microframework: Flask is called a micro framework because it provides the core tools to build a web app or API but doesn't include built-in tools like database abstraction layers or form validation—you can add only what you need.\n",
        " *   WSGI-compliant: It uses Werkzeug (a WSGI toolkit) and Jinja2 (a templating engine).   \n",
        "  1. Reason:  \n",
        " *   Simple and Lightweight\n",
        " *   Flexible\n",
        " *   Extensible\n",
        " *   Pythonic\n",
        " *   Quick Development\n",
        " *   Testing Friendly  \n",
        "  2. Explanation:  \n",
        " *   You can create a working REST API in just a few lines of code. Perfect for beginners or quick prototypes.\n",
        " *   You have full control over architecture and third-party tools. It doesn’t force a specific project structure.\n",
        " *   You can easily add features with extensions like Flask-RESTful, Flask-JWT, SQLAlchemy, etc.\n",
        " *   If you know Python, Flask feels natural and intuitive.\n",
        " *   Great for rapid prototyping and MVPs (Minimum Viable Products).\n",
        " *   Has built-in support for unit testing.   \n",
        "\n",
        "Simple Flask Example:  \n",
        "\"\"\"\n",
        "from flask import Flask, jsonify, request  \n",
        "app = Flask(__name__)  \n",
        "@app.route('/hello', methods=['GET'])  \n",
        "def hello():  \n",
        "    return jsonify({\"message\": \"Hello, World!\"})  \n",
        "@app.route('/add', methods=['POST'])  \n",
        "def add():  \n",
        "    data = request.json  \n",
        "    result = data['a'] + data['b']  \n",
        "return jsonify({\"result\": result})  \n",
        "if __name__ == '__main__':  \n",
        "    app.run(debug=True)\n",
        "\"\"\"\n",
        "\n",
        "\n",
        "\n",
        "\n",
        "\n",
        "\n",
        "\n",
        "\n"
      ],
      "metadata": {
        "id": "JWnTkksmL2sm"
      }
    },
    {
      "cell_type": "markdown",
      "source": [
        "4.  What is routing in Flask?  \n",
        "Ans.  \n",
        "Routing in Flask refers to the process of associating a URL (or route) with a specific function (called a view function) that runs when a client accesses that URL."
      ],
      "metadata": {
        "id": "gcjusZKdTJXx"
      }
    },
    {
      "cell_type": "markdown",
      "source": [
        "5. How do you create a simple Flask application?    \n",
        "Ans.  \n",
        "from flask import Flask, jsonify, request  \n",
        "app = Flask(name)  \n",
        "@app.route('/hello', methods=['GET'])  \n",
        "def hello():  \n",
        "    return jsonify({\"message\": \"Hello, World!\"})\n",
        "@app.route('/add', methods=['POST'])  \n",
        "def add():  \n",
        "    data = request.json  \n",
        "    result = data['a'] + data['b']  \n",
        "    return jsonify({\"result\": result})  \n",
        "if name == 'main':  \n",
        "    app.run(debug=True)"
      ],
      "metadata": {
        "id": "cbfBpDi2SgTT"
      }
    },
    {
      "cell_type": "markdown",
      "source": [
        "6. What are HTTP methods used in RESTful APIs?   \n",
        "Ans.  \n",
        "In RESTful APIs, HTTP methods define the type of action you want to perform on a resource (like users, products, orders, etc.).  \n",
        "\n",
        " Example of HTTP methods are:  \n",
        " GET  :  Retrieve data  :  Used to fetch data from the server (read-only).  \n",
        " POST : Create new resource : Sends data to the server to create something new.  \n",
        " PUT  : Update entire resource : Replaces an existing resource with new data.  \n",
        " DELETE  : Remove resource : Deletes a specified resource.\n",
        " PATCH  : Update part of resource : Updates part of an existing resource."
      ],
      "metadata": {
        "id": "jAtBrUQqUYVy"
      }
    },
    {
      "cell_type": "markdown",
      "source": [
        "7. What is the purpose of the @app.route() decorator in Flask?  \n",
        "Ans.  \n",
        "The @app.route() decorator in Flask is used to bind a URL (route) to a specific function—called a view function—so that when a user visits that URL, Flask knows which function to run.  \n",
        "Purpose of @app.route():  \n",
        " *   It registers a route with the Flask application.\n",
        " *   It connects a URL path (like /, /about, /user/<name>) to a Python function.\n",
        " *   It tells Flask: “When someone accesses this URL, run this function and return the response.”\n",
        "\n"
      ],
      "metadata": {
        "id": "8tMuy0cxWDtB"
      }
    },
    {
      "cell_type": "markdown",
      "source": [
        "8.  What is the difference between GET and POST HTTP methods?  \n",
        "Ans.  \n",
        "The GET and POST HTTP methods are both used to send requests to a server, but they serve different purposes and behave very differently.  \n",
        " Feature ---------------- **GET** ----------------------------------------------**POST**  \n",
        " Purpose --------------- Retrieve data (read-only) ------------- Submit data to the server  \n",
        " Data Location ------ Sent in the URL (query string)-------Sent in the request body  \n",
        " Visibility --------------- Visible in browser address bar ---- Hidden from the user  \n",
        " Use Case ------------- Searching, reading info (e.g., articles, users) -------- Form submissions, data uploads  \n",
        " Caching ---------------- Yes, often cached by browsers ------ No, typically not cached  \n",
        " Bookmarkable ------ Yes (because it's in the URL) --------- No  \n",
        " Security ----------------- Less secure (data exposed in URL) ----- More secure (data in body)  \n",
        " Idempotent ------------ Yes – same request = same result -------- No – repeated requests can cause side effects (like multiple entries)"
      ],
      "metadata": {
        "id": "n9bpQChAWw9N"
      }
    },
    {
      "cell_type": "markdown",
      "source": [
        "9. How do you handle errors in Flask APIs?  \n",
        "Ans.  \n",
        "Handling errors properly in Flask APIs is important for giving clear feedback to users and developers, and for maintaining app stability.  \n",
        "Common Ways to Handle Errors in Flask:  \n",
        "Method ------------------------------------------------------ Use For  \n",
        "abort(status_code) ----------------------------------- Quick exit with error code  \n",
        "@app.errorhandler() ---------------------------------- Custom error responses  \n",
        "try/except blocks --------------------------------------- Catch and handle exceptions  \n",
        "Input validation ----------------------------------------- Prevent bad requests early"
      ],
      "metadata": {
        "id": "qMW2l-NdZ8Pq"
      }
    },
    {
      "cell_type": "markdown",
      "source": [
        "10. How do you connect Flask to a SQL database?  \n",
        "Ans.  \n",
        "To connect Flask to a SQL database, you can use libraries like:  \n",
        " *   SQLAlchemy (most popular ORM)\n",
        " *   Flask-SQLAlchemy (simplifies using SQLAlchemy in Flask)  \n",
        "Steps to connect Flask to a SQL database:  \n",
        "Step ------------------------------------------- Tool/Command  \n",
        "Install dependencies ------------------ pip install Flask Flask-SQLAlchemy  \n",
        "Configure DB URI ------------------------ app.config['SQLALCHEMY_DATABASE_URI']  \n",
        "Define models ----------------------------- Use db.Model subclasses  \n",
        "Create tables ------------------------------- db.create_all()  \n",
        "CRUD operations ------------------------- Use db.session and .query()  \n",
        "\n",
        "Supported Databases via SQLAlchemy:  \n",
        "*   SQLite (sqlite:///)\n",
        "*   PostgreSQL (postgresql://)\n",
        "*   MySQL/MariaDB (mysql+pymysql://)\n",
        "*   Oracle, MSSQL (less common in Flask projects)\n",
        "\n",
        "\n",
        "\n",
        "\n"
      ],
      "metadata": {
        "id": "0u-BmNKoa51i"
      }
    },
    {
      "cell_type": "markdown",
      "source": [
        "11.  What is the role of Flask-SQLAlchemy?  \n",
        "Ans.  \n",
        "*   Flask-SQLAlchemy is an extension for Flask that integrates SQLAlchemy—a\n",
        "powerful SQL toolkit and Object Relational Mapper (ORM)—into Flask applications.\n",
        "*   Flask-SQLAlchemy helps Flask apps connect to and interact with SQL databases using Python objects instead of raw SQL queries.\n",
        "\n"
      ],
      "metadata": {
        "id": "BdbVT-jvcrYV"
      }
    },
    {
      "cell_type": "markdown",
      "source": [
        "12.  What are Flask blueprints, and how are they useful?  \n",
        "Ans.  \n",
        "*   Flask Blueprints are a way to organize a large Flask application into smaller, modular components.\n",
        "Think of them like mini-apps within your main app.\n",
        "*   Blueprints allow you to split your app into manageable pieces, which is essential for scalability, reusability, and team collaboration.  \n"
      ],
      "metadata": {
        "id": "mnIPecGBddXU"
      }
    },
    {
      "cell_type": "markdown",
      "source": [
        "13. What is the purpose of Flask's request object?  \n",
        "Ans.  \n",
        "The request object in Flask is used to access data sent from the client (browser, app, Postman, etc.) to the server.  \n",
        "In short: request holds all incoming request data like form inputs, JSON payloads, URL parameters, headers, cookies, etc."
      ],
      "metadata": {
        "id": "93lepGSgeH_p"
      }
    },
    {
      "cell_type": "markdown",
      "source": [
        "14. How do you create a RESTful API endpoint using Flask?  \n",
        "Ans.  \n",
        "Creating a RESTful API in Flask involves:\n",
        " *   Setting up Flask\n",
        " *   Defining routes using @app.route()\n",
        " *   Using HTTP methods like GET, POST, PUT, DELETE\n",
        " *   Returning JSON responses  \n",
        "To test endpoints with:\n",
        " *   Postman\n",
        " *   Curl\n",
        " *   JavaScript Fetch or Axios\n",
        "\n",
        "\n",
        "\n"
      ],
      "metadata": {
        "id": "mdl0tyixef21"
      }
    },
    {
      "cell_type": "markdown",
      "source": [
        "15. What is the purpose of Flask's jsonify() function?  \n",
        "Ans.  \n",
        "Flask’s jsonify() function is used to convert Python data (like dicts or lists) into a proper JSON response that can be returned to the client (browser, API consumer, etc.).  \n",
        "In Simple Terms:  \n",
        "jsonify() = Python data → JSON + correct HTTP response + correct headers  \n",
        "\n",
        " Purpose of using Flask's Jsonify() functions are:\n",
        " *   Clean and Readable\n",
        " *   Sets proper HTTP headers\n",
        " *   Automatically serializes Python dicts/lists into JSON\n",
        " *   Handles Unicode, dates, and numbers correctly\n",
        " *   Used in REST APIs for communication between client and server\n",
        "\n"
      ],
      "metadata": {
        "id": "9jCEoxhofvBW"
      }
    },
    {
      "cell_type": "markdown",
      "source": [
        "16. Explain Flask’s url_for() function?  \n",
        "Ans.  \n",
        "*   Flask’s url_for() function is used to dynamically generate URLs for view functions (routes) by referencing the function name, instead of hardcoding the URL paths.\n",
        "*   It ensures your URLs stay correct even if you change route paths later, making your app more maintainable and flexible.  \n",
        "Benefits of url_for() are:  \n",
        " *   Dynamic: URLs update automatically when route changes\n",
        " *   Clean: Avoids hardcoding paths\n",
        " *   Reusable: Works with parameters and query strings\n",
        " *   Template-friendly: Perfect for use in HTML templates ({{ url_for(...) }})  \n",
        " Other uses of url_for():\n",
        " *   Link to a static file : Example : url_for('static', filename='style.css') → /static/style.css\n",
        " *   Use in templates : Example : {{ url_for('home') }} inside Jinja templates\n",
        " *   Pass query params : Example : url_for('search', q='flask') → /search?q=flask\n",
        "\n",
        "\n",
        "\n",
        "\n",
        "\n",
        "\n",
        "\n"
      ],
      "metadata": {
        "id": "Ez6Ab4BdgumT"
      }
    },
    {
      "cell_type": "markdown",
      "source": [
        "17. How does Flask handle static files (CSS, JavaScript, etc.)?  \n",
        "Ans.  \n",
        "Flask provides a straightforward mechanism for handling static files such as CSS stylesheets, JavaScript files, images, and other assets that do not change dynamically.  \n",
        " 1.   Static Folder Convention:\n",
        " *   By default, Flask expects static files to reside in a folder named static located in the root directory of your Flask application.\n",
        " *   Within this static folder, it is common practice to organize files into subdirectories like css, js, and images for better structure.\n",
        " 2.   Referencing Static Files in Templates:\n",
        " *   To link to static files within your Jinja2 templates (HTML files), you use the url_for() function with the special static endpoint.\n",
        " *   The filename argument specifies the path to the static file relative to the static folder.\n"
      ],
      "metadata": {
        "id": "ZnhT0Un5iKpn"
      }
    },
    {
      "cell_type": "markdown",
      "source": [
        "18. What is an API specification, and how does it help in building a Flask API?  \n",
        "Ans.  \n",
        "A REST API (Representational State Transfer API) is a way for applications to communicate over the web using standard HTTP methods. It allows clients (such as web or mobile apps) to interact with a server by sending requests and receiving responses, typically in JSON format.  \n",
        "It helps in building a Flask API by these important points:  \n",
        " *   Clear Communication: Teams (front-end, back-end, QA) know how to use the API\n",
        " *   Auto-Documentation: Tools like Swagger UI can auto-generate docs\n",
        " *   Validation: You can validate incoming requests using the spec\n",
        " *   Testing: QA teams can test against defined behaviors\n",
        " *   Mocking: Clients can simulate API responses without backend\n",
        " *   Code Generation: Auto-generate Flask boilerplate or client SDKs\n",
        "\n"
      ],
      "metadata": {
        "id": "iJbvlTNAi0kF"
      }
    },
    {
      "cell_type": "markdown",
      "source": [
        "19. What are HTTP status codes, and why are they important in a Flask API?  \n",
        "Ans.  \n",
        "HTTP status codes are three-digit codes that indicate the outcome of an API request. They are included in the API's response to the API client, and they include important information that helps the client know how to proceed. HTTP status codes help communicate the result of an API request clearly to clients (like browsers, mobile apps, or front-end developers).  \n",
        "They are important in a Flask API by the given points:  \n",
        " *   Makes your API predictable\n",
        " *   Helps clients handle success or failure appropriately\n",
        " *   Essential for debugging and testing\n",
        " *   Used in error handling, validations, and responses\n",
        "\n"
      ],
      "metadata": {
        "id": "mcfwYyajkFxd"
      }
    },
    {
      "cell_type": "markdown",
      "source": [
        "20. How do you handle POST requests in Flask?   \n",
        "Ans.  \n",
        "Handling POST requests in Flask involves defining a route that accepts the POST method and then accessing the data sent in the request body.  \n",
        "Here's how to do it:  \n",
        " *   Import request: You need the request object from Flask to access incoming request data.\n",
        " *   Define a route with methods=['POST'] (or ['GET', 'POST']): Specify that your route function should handle POST requests using the methods argument in the @app.route() decorator.\n",
        " *   If you want the same route to handle both GET (e.g., to display a form) and POST (to process the form submission), you would specify both:\n",
        " *   Access POST data using request.form or request.json:  \n",
        "For HTML form data (key-value pairs from <_form_> submissions): Use request.form.get('field_name') to retrieve individual fields.\n",
        " *   For JSON data (e.g., from API requests): Use request.json to access the parsed JSON data as a Python dictionary.\n",
        " *   Process the data and return a response: After retrieving the data, you can perform necessary operations (e.g., save to a database, perform calculations) and then return an appropriate response, such as a redirect, a rendered template, or JSON data.\n",
        "\n"
      ],
      "metadata": {
        "id": "4MkRhQUQk7v7"
      }
    },
    {
      "cell_type": "markdown",
      "source": [
        "21.  How would you secure a Flask API?  \n",
        "Ans.  \n",
        "Securing a Flask API involves implementing various measures across different layers of your application.  \n",
        " 1.   Authentication and Authorization:\n",
        " *   Token-based Authentication (e.g., JWT): This is a common and recommended method for APIs. Upon successful login, the server issues a JSON Web Token (JWT) to the client. The client then includes this token in the Authorization header of subsequent API requests. The Flask API uses libraries like Flask-JWT-Extended to validate the token and extract user information and permissions.\n",
        " *   Role and Permission Management: Implement a system to define user roles (e.g., admin, user) and assign specific permissions to each role. This allows you to control access to different API endpoints based on the user's authorization level.\n",
        " 2.   Data Security:\n",
        " *   HTTPS/TLS: Always use HTTPS to encrypt data in transit between the client and your Flask API, preventing eavesdropping and man-in-the-middle attacks.\n",
        " *   Secure Password Storage: Never store passwords in plain text. Use strong cryptographic hashing algorithms like Argon2, bcrypt, or scrypt to hash and salt passwords before storing them in the database.\n",
        " *   Encryption of Sensitive Data: Encrypt sensitive data at rest (e.g., in databases) and in transit (via HTTPS) to protect against data breaches.\n",
        " 3.   Input Validation and Error Handling:\n",
        " *   Input Validation: Validate all incoming data from API requests to prevent injection attacks (SQL injection, XSS) and ensure data integrity. Use libraries like Flask-WTF or implement custom validation logic.\n",
        " *   Proper Error Handling: Implement robust error handling to prevent sensitive information from being exposed in error messages. Provide generic error responses to clients and log detailed errors on the server side for debugging.\n",
        " 4.   Session Management:\n",
        " *   Secure Session Management: If using sessions (e.g., for web-based clients), ensure secure session management practices, including using strong session keys, setting appropriate cookie flags (Secure, HttpOnly, SameSite), and regenerating session IDs after authentication.\n",
        " 5.   Other Security Measures:\n",
        " *   Secret Key Management: Securely manage your Flask SECRET_KEY by storing it in environment variables or a secure configuration management system, rather than directly in your code.\n",
        " *   Rate Limiting: Implement rate limiting to prevent brute-force attacks and denial-of-service (DoS) attacks by limiting the number of requests a client can make within a specific timeframe.\n",
        " *   CORS (Cross-Origin Resource Sharing): Carefully configure CORS headers to control which origins are allowed to access your API, preventing unauthorized cross-origin requests.\n",
        " *   Security Headers: Implement security-related HTTP headers like Content-Security-Policy, X-Content-Type-Options, and X-Frame-Options to mitigate common web vulnerabilities.\n",
        " *   Regular Security Audits and Penetration Testing: Regularly conduct security audits and penetration tests to identify and address potential vulnerabilities in your Flask API.\n"
      ],
      "metadata": {
        "id": "bB-mUHB7mO9R"
      }
    },
    {
      "cell_type": "markdown",
      "source": [
        "22. What is the significance of the Flask-RESTful extension?  \n",
        "Ans.  \n",
        "Flask-RESTful is a Flask extension that simplifies the development of REST APIs. It provides a structured way to handle resources and HTTP methods, making it easier to build and organize APIs using Python and Flask. Essentially, it streamlines the process of creating web services that adhere to REST architectural principles.   \n",
        "The significance of the Flask-RESTful extensions are given below:  \n",
        " 1.   Structure and Organization:\n",
        " *   Resource-based approach: Flask-RESTful introduces the concept of \"resources\" as classes, with each class method representing an HTTP method (GET, POST, PUT, DELETE). This creates a clear structure for your API endpoints, making it more organized and maintainable.\n",
        " *   Separation of concerns: By separating resource definitions from route handling, it promotes modularity and cleaner code.\n",
        " *   Object-oriented development: Leveraging classes for resources aligns with object-oriented programming principles, enhancing code reusability and scalability.\n",
        " 2.   Simplified API Development:\n",
        " *   Automatic request parsing and response formatting: Flask-RESTful handles common tasks like parsing request data (JSON, XML, etc.) and formatting responses, reducing boilerplate code.\n",
        " *   Built-in features: It offers built-in support for input validation, error handling, and rate limiting, which are crucial for building robust and secure APIs.\n",
        " *   Integration with Flask: It seamlessly integrates with other Flask extensions, allowing you to build complex and feature-rich APIs.\n",
        " 3.   Adherence to RESTful Principles:\n",
        " *   RESTful architecture: Flask-RESTful is designed to support the REST architectural style, promoting statelessness, uniform interfaces, and resource-based interactions.\n",
        " *   Clear API design: Its resource-based approach and support for standard HTTP methods contribute to a well-defined and predictable API design.\n",
        " 4.   Efficiency and Scalability:\n",
        " *   Reduced boilerplate: By handling common tasks automatically, Flask-RESTful reduces the amount of repetitive code, allowing developers to focus on core business logic.\n",
        " *   Easy to scale: The structured and modular nature of the code makes it easier to scale the API as needed.\n",
        "\n",
        "\n",
        "\n"
      ],
      "metadata": {
        "id": "8IShRkTcn2XI"
      }
    },
    {
      "cell_type": "markdown",
      "source": [
        "23. What is the role of Flask’s session object?  \n",
        "Ans.  \n",
        "In Flask, the session object provides a way to store user-specific data across multiple requests, similar to how cookies work but with added security features. It acts like a dictionary where you can store and retrieve data associated with a particular user's session. Flask uses cryptographically signed cookies to store session data on the user's browser, making it difficult for unauthorized users to tamper with the data."
      ],
      "metadata": {
        "id": "DrRvQm7gpg1O"
      }
    },
    {
      "cell_type": "markdown",
      "source": [],
      "metadata": {
        "id": "U5xKbrzrq7r1"
      }
    }
  ]
}