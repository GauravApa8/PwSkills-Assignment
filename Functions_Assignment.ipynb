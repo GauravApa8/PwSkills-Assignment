{
  "nbformat": 4,
  "nbformat_minor": 0,
  "metadata": {
    "colab": {
      "provenance": []
    },
    "kernelspec": {
      "name": "python3",
      "display_name": "Python 3"
    },
    "language_info": {
      "name": "python"
    }
  },
  "cells": [
    {
      "cell_type": "markdown",
      "source": [
        "**Functions Assignment.**  \n",
        "**Theroy Questions:**"
      ],
      "metadata": {
        "id": "2vnTyq93efwb"
      }
    },
    {
      "cell_type": "markdown",
      "source": [
        "1.  What is the difference between a function and a method in Python?  \n",
        "Ans. In Java there is no concept of Functions. But in Python there is the concept of both Functions and Method.  \n",
        "The main differences between Method and Functions in Python are given below:  \n",
        "First Method:  \n",
        " a. Method is called by its name, but it is associated to an object (dependent).\n",
        "\n",
        " b. Method definition always includes 'self' as its first parameter.  \n",
        " c. Method is implicitly passed to the object on which it is invoked.  \n",
        " d. It may or may not return any data.  \n",
        " e. Method can operate on the data (instance variables) that is contained by the corresponding class.  \n",
        "Second Functions:  \n",
        "a. Function is block of code that is also called by its name. (independent)  \n",
        "b. The function can have different parameters or may not have any at all. If any data (parameters) are passed, they are passed explicitly.  \n",
        "c. It may or may not return any data.  \n",
        "d. Function does not deal with Class and its instance concept.  \n",
        "Basic structures of Method and Functions are given below:"
      ],
      "metadata": {
        "id": "KVkvmq5BfuPL"
      }
    },
    {
      "cell_type": "code",
      "source": [
        "#Basic structure of Method:\n",
        "class Pw :\n",
        "    def method_online (self):\n",
        "        print(\"I am in PwSkills of Data Analytics course classes. \")\n",
        "\n",
        "class_ref = Pw() # object of ABC class\n",
        "class_ref.method_online()"
      ],
      "metadata": {
        "colab": {
          "base_uri": "https://localhost:8080/"
        },
        "id": "OI7b6V4mhFeK",
        "outputId": "2050a08d-381d-4097-e7f5-97f80a78f2dc"
      },
      "execution_count": 2,
      "outputs": [
        {
          "output_type": "stream",
          "name": "stdout",
          "text": [
            "I am in PwSkills of Data Analytics course classes. \n"
          ]
        }
      ]
    },
    {
      "cell_type": "code",
      "source": [
        "#Basic structure of function:\n",
        "def addition (a, b):\n",
        "    return (a + b)\n",
        "\n",
        "print( addition(10, 12) )\n",
        "\n",
        "print( addition(15, 6) )"
      ],
      "metadata": {
        "colab": {
          "base_uri": "https://localhost:8080/"
        },
        "id": "NxfJPuL2hYTV",
        "outputId": "4993c171-4f96-4818-aef3-a41c773d5352"
      },
      "execution_count": 4,
      "outputs": [
        {
          "output_type": "stream",
          "name": "stdout",
          "text": [
            "22\n",
            "21\n"
          ]
        }
      ]
    },
    {
      "cell_type": "markdown",
      "source": [
        "2. Explain the concept of function arguments and parameters in Python.  \n",
        "Ans. The concept of function arguments and parameters in Python, when defining a function, the variables listed within the parentheses are called parameters. These are placeholders for values that the function will receive when it is called. When the function is actually called, the values passed to it are called arguments. These arguments are the actual data that the function will operate on.  \n",
        "Example:"
      ],
      "metadata": {
        "id": "Aek85UFyiaSK"
      }
    },
    {
      "cell_type": "code",
      "source": [
        "def add(x, y): # x and y are parameters which is present in under parenthesis.\n",
        "    return x + y\n",
        "\n",
        "result = add(5, 3) # 5 and 3 are arguments which we define earlier while defining parameters.\n",
        "print(result)"
      ],
      "metadata": {
        "colab": {
          "base_uri": "https://localhost:8080/"
        },
        "id": "m9_lyTHFi7O6",
        "outputId": "be6f0445-78bc-4b6b-a5f5-6dc09c802d57"
      },
      "execution_count": 5,
      "outputs": [
        {
          "output_type": "stream",
          "name": "stdout",
          "text": [
            "8\n"
          ]
        }
      ]
    },
    {
      "cell_type": "markdown",
      "source": [
        "3. What are the different ways to define and call a function in Python?  \n",
        "Ans. In Python there are many ways to define and call a function are:  \n",
        "a. Standard Function defintion: This is the most common way to define a function, using the def keyword, followed by the function name, parentheses for arguments, and a colon.  \n",
        "b. Lambda Function: Lambda functions are small, anonymous functions defined using the lambda keyword. They can take any number of arguments but can only have one expression.  \n",
        "c. Nested Function: A function can be defined inside another function. The inner function can access the outer function's variables.  \n",
        "d. Functions with default arguments: You can assign default values to function arguments, which are used if no value is provided when calling the function.  \n",
        "e. Functions with *args and **kwargs: *args allows a function to accept any number of positional arguments.  \n",
        " **kwargs allows a function to accept any number of keyword arguments.  \n",
        "f. Recursive function: A function can call itself, which is known as recursion. This is useful for tasks that can be broken down into smaller, self-similar subtasks.  \n",
        "We will see some examples from these:"
      ],
      "metadata": {
        "id": "k6moGJZTjUzK"
      }
    },
    {
      "cell_type": "code",
      "source": [
        "# Standard function defition:\n",
        "def greet(name):\n",
        "    \"\"\"This function greets the person passed in as a parameter.\"\"\"\n",
        "    print(f\"Hello, {name}!\")\n",
        "\n",
        "greet(\"Gaurav Suman\")  # Calling the function\n",
        "\n",
        "#Lambda function:\n",
        "add = lambda x, y: x + y\n",
        "print(add(5, 3))  # Calling the lambda function\n",
        "\n",
        "# Nested function:\n",
        "def outer_function(text):\n",
        "    def inner_function():\n",
        "        print(text)\n",
        "    inner_function()\n",
        "\n",
        "outer_function(\"Hello from the PwSkills online classes!\")\n",
        "\n",
        "#Functions with default arguments:\n",
        "def greet_with_message(name, message=\"Hello\"):\n",
        "    print(f\"{message}, {name}!\")\n",
        "\n",
        "greet_with_message(\"Gaurav Suman\")  # Uses the default message\n",
        "greet_with_message(\"PwSkills\", \"Good morning\")  # Overrides the default message"
      ],
      "metadata": {
        "colab": {
          "base_uri": "https://localhost:8080/"
        },
        "id": "7aLfa3X9k4_U",
        "outputId": "9f018ac3-f82a-4e55-840d-a64818e7bff3"
      },
      "execution_count": 7,
      "outputs": [
        {
          "output_type": "stream",
          "name": "stdout",
          "text": [
            "Hello, Gaurav Suman!\n",
            "8\n",
            "Hello from the PwSkills online classes!\n",
            "Hello, Gaurav Suman!\n",
            "Good morning, PwSkills!\n"
          ]
        }
      ]
    },
    {
      "cell_type": "markdown",
      "source": [
        "4. What is the purpose of the \"return\" statement in a Python function?  \n",
        "Ans: There are two purposes of \"return\" statement do in python. One is it will returning the value. And the second is it will exit from the function.  \n",
        "We will understand from some examples."
      ],
      "metadata": {
        "id": "d-M-lJuYmGQi"
      }
    },
    {
      "cell_type": "code",
      "source": [
        "def add(x, y):\n",
        "    result = x + y\n",
        "    return result  # Here we can see that the return statement is returning the value of a defined function.\n",
        "\n",
        "sum_of_numbers = add(15, 30)\n",
        "print(sum_of_numbers)\n",
        "\n",
        "def greet(name):\n",
        "    print(\"Hello, \" + name + \"!\")\n",
        "    return # Returns None implicitly and we can see that the return statement is exiting from the function.\n",
        "\n",
        "return_value = greet(\"Gaurav Suman\")\n",
        "print(return_value)"
      ],
      "metadata": {
        "colab": {
          "base_uri": "https://localhost:8080/"
        },
        "id": "tyWao6R3m16i",
        "outputId": "5b81b9dd-e54c-40cb-fb87-c05b1656bf95"
      },
      "execution_count": 9,
      "outputs": [
        {
          "output_type": "stream",
          "name": "stdout",
          "text": [
            "45\n",
            "Hello, Gaurav Suman!\n",
            "None\n"
          ]
        }
      ]
    },
    {
      "cell_type": "markdown",
      "source": [
        "5. What are iterators in Python and how do they differ from iterables?  \n",
        "Ans. Iterable is an object, that one can iterate over. It generates an Iterator when passed to iter() method.  \n",
        "An iterator is an object, which is used to iterate over an iterable object using the __next__() method. Iterators have the __next__() method, which returns the next item of the object.\n",
        "\n",
        "Note: Every iterator is also an iterable, but not every iterable is an iterator in Python."
      ],
      "metadata": {
        "id": "GivrBtGDnxiJ"
      }
    },
    {
      "cell_type": "code",
      "source": [
        "#iterable>> An iterable is any python object/sequential structure/data structure that is capable of returning its members one at a time permitting it to be iterated over in a for loop\n",
        "#example>> list, tuples\n",
        "\n",
        "list1 = [1, 2, 'Gaurav', 'Pwskills'] # Here List is an iterable object.\n",
        "for i in list1:\n",
        "  print(i)\n",
        "\n",
        "#iterator>> An iterator is an object representing a stream of data that return the data one by one\n",
        "\n",
        "str1 = \"pwskills classes\"\n",
        "for j in str1:\n",
        "  print(j)\n",
        "\n",
        "iter(str1)\n",
        "a = iter(str1)\n",
        "print(a)\n"
      ],
      "metadata": {
        "colab": {
          "base_uri": "https://localhost:8080/"
        },
        "id": "4bgHEZfkn2UF",
        "outputId": "5076cd6f-6583-4866-f8a9-51d3c780e6db"
      },
      "execution_count": 17,
      "outputs": [
        {
          "output_type": "stream",
          "name": "stdout",
          "text": [
            "1\n",
            "2\n",
            "Gaurav\n",
            "Pwskills\n",
            "p\n",
            "w\n",
            "s\n",
            "k\n",
            "i\n",
            "l\n",
            "l\n",
            "s\n",
            " \n",
            "c\n",
            "l\n",
            "a\n",
            "s\n",
            "s\n",
            "e\n",
            "s\n",
            "<str_ascii_iterator object at 0x788511385900>\n"
          ]
        }
      ]
    },
    {
      "cell_type": "code",
      "source": [
        "next(a)"
      ],
      "metadata": {
        "colab": {
          "base_uri": "https://localhost:8080/",
          "height": 35
        },
        "id": "oJgANdQPpTxW",
        "outputId": "0966521b-8cee-4daf-a382-6a1572a7d098"
      },
      "execution_count": 18,
      "outputs": [
        {
          "output_type": "execute_result",
          "data": {
            "text/plain": [
              "'p'"
            ],
            "application/vnd.google.colaboratory.intrinsic+json": {
              "type": "string"
            }
          },
          "metadata": {},
          "execution_count": 18
        }
      ]
    },
    {
      "cell_type": "code",
      "source": [
        "next(a) # it will iterate till the last word after that it will give error of StopIteration."
      ],
      "metadata": {
        "colab": {
          "base_uri": "https://localhost:8080/",
          "height": 35
        },
        "id": "n18nZ50tsvs7",
        "outputId": "7d2f0744-47a3-473c-bdd2-19d32067b979"
      },
      "execution_count": 19,
      "outputs": [
        {
          "output_type": "execute_result",
          "data": {
            "text/plain": [
              "'w'"
            ],
            "application/vnd.google.colaboratory.intrinsic+json": {
              "type": "string"
            }
          },
          "metadata": {},
          "execution_count": 19
        }
      ]
    },
    {
      "cell_type": "markdown",
      "source": [
        "6.  Explain the concept of generators in Python and how they are defined.  \n",
        "Ans. A generator function is a special type of function that returns an iterator object. Instead of using return to send back a single value, generator functions use yield to produce a series of results over time. This allows the function to generate values and pause its execution after each yield, maintaining its state between iterations."
      ],
      "metadata": {
        "id": "zAJjuh2NtA6E"
      }
    },
    {
      "cell_type": "code",
      "source": [
        "def fun(max):\n",
        "    cnt = 1\n",
        "    while cnt <= max:\n",
        "        yield cnt\n",
        "        cnt += 1\n",
        "\n",
        "ctr = fun(5)\n",
        "for n in ctr:\n",
        "    print(n)"
      ],
      "metadata": {
        "colab": {
          "base_uri": "https://localhost:8080/"
        },
        "id": "7PHeV_HltXo4",
        "outputId": "8d7b5f53-85d3-49d4-e8d8-1d8105b75af8"
      },
      "execution_count": 20,
      "outputs": [
        {
          "output_type": "stream",
          "name": "stdout",
          "text": [
            "1\n",
            "2\n",
            "3\n",
            "4\n",
            "5\n"
          ]
        }
      ]
    },
    {
      "cell_type": "markdown",
      "source": [
        "7. What are the advantages of using generators over regular functions?  \n",
        "Ans. Generators offer several advantages over regular functions, primarily concerning memory efficiency and lazy evaluation. Unlike regular functions that return a complete result immediately, generators yield values one at a time, saving memory, especially when dealing with large datasets or infinite sequences. They also allow for lazy evaluation, computing values only when needed, potentially improving performance."
      ],
      "metadata": {
        "id": "-rlMl-3QtoiW"
      }
    },
    {
      "cell_type": "code",
      "source": [
        "# generator function\n",
        "def Square():\n",
        "\n",
        "    number = 2\n",
        "\n",
        "    #Create infinite loop\n",
        "    while True:\n",
        "        # Yield the current value of 'number'\n",
        "        yield number\n",
        "\n",
        "        # Calculate the square of 'number' and update its value\n",
        "        number *= number\n",
        "\n",
        "# Create a generator object 'Sq' by calling the 'Square()' generator function\n",
        "Sq = Square()\n",
        "\n",
        "# Function call\n",
        "print(next(Sq))\n",
        "\n",
        "print(next(Sq))\n",
        "print(next(Sq))\n",
        "print(next(Sq))\n",
        "print(next(Sq))"
      ],
      "metadata": {
        "colab": {
          "base_uri": "https://localhost:8080/"
        },
        "id": "zZF8X9ZeuG_3",
        "outputId": "770ad7c3-d9b3-4410-f99c-4b8a0aac1826"
      },
      "execution_count": 22,
      "outputs": [
        {
          "output_type": "stream",
          "name": "stdout",
          "text": [
            "2\n",
            "4\n",
            "16\n",
            "256\n",
            "65536\n"
          ]
        }
      ]
    },
    {
      "cell_type": "markdown",
      "source": [
        "8.  What is a lambda function in Python and when is it typically used?  \n",
        "Ans. A lambda function in Python is a concise way to create small, anonymous functions. They are typically used when you need a simple function that will be used only once, often within another function or as an argument to a higher-order function like map, filter, or sorted. Lambda functions are defined using the lambda keyword and can take any number of arguments, but their expression must be limited to a single line."
      ],
      "metadata": {
        "id": "Ajy9Ad2xuHpp"
      }
    },
    {
      "cell_type": "code",
      "source": [
        "# without using lambda function we can square like this:\n",
        "def square1(x):\n",
        "  return x**2\n",
        "print(square1(9))\n",
        "\n",
        "#After using lambda function we can square a number like this:\n",
        "sq_lambda = lambda x: x**2\n",
        "\n",
        "sq_lambda(7)\n",
        "\n",
        "# We can perform addition, subtraction, sorting, mapping and many operations using lambda function."
      ],
      "metadata": {
        "colab": {
          "base_uri": "https://localhost:8080/"
        },
        "id": "16D7vAfHu74t",
        "outputId": "b7568697-3c06-445e-99bc-eaaae0bd59bd"
      },
      "execution_count": 26,
      "outputs": [
        {
          "output_type": "stream",
          "name": "stdout",
          "text": [
            "81\n"
          ]
        },
        {
          "output_type": "execute_result",
          "data": {
            "text/plain": [
              "49"
            ]
          },
          "metadata": {},
          "execution_count": 26
        }
      ]
    },
    {
      "cell_type": "markdown",
      "source": [
        "9.  Explain the purpose and usage of the `map()` function in Python.  \n",
        "Ans. The map() function in Python applies a given function to each item of an iterable (like a list or tuple) and returns an iterator that yields the results. This avoids explicit loops, leading to cleaner and sometimes more efficient code."
      ],
      "metadata": {
        "id": "iSr9a7Feu8fq"
      }
    },
    {
      "cell_type": "code",
      "source": [
        "# We can see below that by using the map() function will square the whole list:\n",
        "numbers = [1, 2, 3, 4, 5]\n",
        "squared_numbers = tuple(map(lambda x: x**2, numbers))\n",
        "print(squared_numbers)\n",
        "\n",
        "# We can see below that by using map() function we will add two lists.\n",
        "list1 = [1, 2, 3]\n",
        "list2 = [4, 5, 6]\n",
        "result = set(map(lambda x, y: x + y, list1, list2))\n",
        "print(result)"
      ],
      "metadata": {
        "colab": {
          "base_uri": "https://localhost:8080/"
        },
        "id": "2eWiqS07wkGU",
        "outputId": "516de565-f5c6-43d9-9779-e67373ddbd5e"
      },
      "execution_count": 31,
      "outputs": [
        {
          "output_type": "stream",
          "name": "stdout",
          "text": [
            "(1, 4, 9, 16, 25)\n",
            "{9, 5, 7}\n"
          ]
        }
      ]
    },
    {
      "cell_type": "markdown",
      "source": [
        "10. What is the difference between `map()`, `reduce()`, and `filter()` functions in Python?  \n",
        "Ans. The map(), reduce(), and filter() functions are built-in higher-order functions in Python that operate on iterables (like lists, tuples, etc.).  \n",
        "map():  \n",
        "Applies a given function to each item in an iterable and returns an iterator that yields the results. It transforms each element individually.  \n",
        "filter():  \n",
        "Creates a new iterator from an iterable, filtering out elements that do not satisfy a given condition (a function that returns True or False). It selects elements based on a criterion.  \n",
        "reduce():  \n",
        "Applies a function cumulatively to the items of an iterable, from left to right, to reduce the iterable to a single value. It aggregates elements."
      ],
      "metadata": {
        "id": "5aoQZK4rwkqL"
      }
    },
    {
      "cell_type": "code",
      "source": [
        "from functools import reduce # Required in Python 3\n",
        "\n",
        "num1 = [11, 22, 32, 14, 15]\n",
        "\n",
        "# map(): squares each number\n",
        "squared_numbers = list(map(lambda x: x**2, num1))\n",
        "print(f\"Squared number from list num1 using map() function: {squared_numbers}\")\n",
        "\n",
        "# filter(): keeps only even numbers\n",
        "even_numbers = list(filter(lambda x: x % 2 == 0, num1))\n",
        "print(f\"Even numbers from list num1 using filter() function: {even_numbers}\")\n",
        "\n",
        "# reduce(): calculates the product of all numbers\n",
        "product = reduce(lambda x, y: x * y, num1)\n",
        "print(f\"Product of numbers from list num1 using reduce() function: {product}\")"
      ],
      "metadata": {
        "colab": {
          "base_uri": "https://localhost:8080/"
        },
        "id": "fAxQL7L8x9po",
        "outputId": "23c8186d-c499-49f7-e8ef-b9955841c3b5"
      },
      "execution_count": 33,
      "outputs": [
        {
          "output_type": "stream",
          "name": "stdout",
          "text": [
            "Squared number from list num1 using map() function: [121, 484, 1024, 196, 225]\n",
            "Even numbers from list num1 using filter() function: [22, 32, 14]\n",
            "Product of numbers from list num1 using reduce() function: 1626240\n"
          ]
        }
      ]
    },
    {
      "cell_type": "markdown",
      "source": [
        "11. Using pen & Paper write the internal mechanism for sum operation using  reduce function on this given list:[47,11,42,13]:  \n",
        "Ans. The reduce(fun,seq) function is used to apply a particular function passed in its argument to all of the list elements mentioned in the sequence passed along. This function is defined in \"functools\" module.![Function Assignment ques 11.jpeg](data:image/jpeg;base64,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)"
      ],
      "metadata": {
        "id": "DpSaG9-Ox-SW"
      }
    },
    {
      "cell_type": "code",
      "source": [
        "from functools import reduce\n",
        "\n",
        "# Function to add two numbers\n",
        "def sum(x, y):\n",
        "    return x + y\n",
        "\n",
        "list1 = [47,11, 42, 13]\n",
        "reduce_sum = reduce(sum, list1)\n",
        "\n",
        "print(reduce_sum)"
      ],
      "metadata": {
        "colab": {
          "base_uri": "https://localhost:8080/"
        },
        "id": "k6x2vtU70kOD",
        "outputId": "1ee1484c-c280-4f7f-f2e9-70633cd4bbe9"
      },
      "execution_count": 35,
      "outputs": [
        {
          "output_type": "stream",
          "name": "stdout",
          "text": [
            "113\n"
          ]
        }
      ]
    },
    {
      "cell_type": "markdown",
      "source": [
        "**Practical Questions:**"
      ],
      "metadata": {
        "id": "32J56sVA3t2L"
      }
    },
    {
      "cell_type": "code",
      "source": [
        "# 1. Write a Python function that takes a list of numbers as input and returns the sum of all even numbers in the list.\n",
        "list1 = [1, 2, 4, 6, 8, 11, 13, 14]\n",
        "even_num = [val for val in list1 if val % 2 == 0]\n",
        "print(\"The original list is: \", list1)\n",
        "print(\"The Even numbers in the list: \", even_num)\n",
        "even_sum = 0\n",
        "for a in even_num:\n",
        "  even_sum += a\n",
        "print(\"Sum of the Even number present in the list is: \", even_sum)\n"
      ],
      "metadata": {
        "colab": {
          "base_uri": "https://localhost:8080/"
        },
        "id": "UBUSsuGT3y3d",
        "outputId": "6362cfd1-5cff-4e5d-fae1-b71170d4f873"
      },
      "execution_count": 92,
      "outputs": [
        {
          "output_type": "stream",
          "name": "stdout",
          "text": [
            "The original list is:  [1, 2, 4, 6, 8, 11, 13, 14]\n",
            "The Even numbers in the list:  [2, 4, 6, 8, 14]\n",
            "Sum of the Even number present in the list is:  34\n"
          ]
        }
      ]
    },
    {
      "cell_type": "code",
      "source": [
        "# 2. Create a Python function that accepts a string and returns the reverse of that string.\n",
        "def reverse_string(s):\n",
        "  return s[::-1]\n",
        "str1 = \"Pwskills\"\n",
        "print(\"The original string is: \", str1)\n",
        "print(\"The reversed string is:\"reverse_string(str1))"
      ],
      "metadata": {
        "colab": {
          "base_uri": "https://localhost:8080/"
        },
        "id": "OtZ3NA0H50MY",
        "outputId": "7e45b7d0-b18e-4bd6-bd1b-463067278fb3"
      },
      "execution_count": 71,
      "outputs": [
        {
          "output_type": "stream",
          "name": "stdout",
          "text": [
            "The original string is:  Pwskills\n",
            "The reversed string is:  sllikswP\n"
          ]
        }
      ]
    },
    {
      "cell_type": "code",
      "source": [
        "# 3.  Implement a Python function that takes a list of integers and returns a new list containing the squares of each number.\n",
        "# this is one method:\n",
        "def square_list(input_list):\n",
        "  squared_list = []\n",
        "  for num in input_list:\n",
        "    squared_list.append(num ** 2)\n",
        "  return squared_list\n",
        "\n",
        "numbers = [10, 12, 3, 4, 15]\n",
        "squared_numbers = square_list(numbers)\n",
        "print(squared_numbers)\n",
        "\n",
        "# this is another method.\n",
        "list1 = [2, 5, 10, 15, 20]\n",
        "Squared_list = [x**2 for x in list1]\n",
        "print(Squared_list)"
      ],
      "metadata": {
        "colab": {
          "base_uri": "https://localhost:8080/"
        },
        "id": "wp_7Pcyy-x1u",
        "outputId": "a3df6e0f-63a3-44ec-914a-93c9586e71e4"
      },
      "execution_count": 90,
      "outputs": [
        {
          "output_type": "stream",
          "name": "stdout",
          "text": [
            "[100, 144, 9, 16, 225]\n",
            "[4, 25, 100, 225, 400]\n"
          ]
        }
      ]
    },
    {
      "cell_type": "code",
      "source": [
        "# 4. Write a Python function that checks if a given number is prime or not from 1 to 200.\n",
        "\n",
        "def prime_number(num1):\n",
        "    if num1 <= 1:\n",
        "        return False\n",
        "    if num1 <= 3:\n",
        "        return True\n",
        "    if num1 % 2 == 0 or num1 % 3 == 0:\n",
        "        return False\n",
        "    i = 5\n",
        "    while i * i <= num1:\n",
        "        if num1 % i == 0 or num1 % (i + 2) == 0:\n",
        "            return False\n",
        "        i += 6\n",
        "    return True\n",
        "\n",
        "def prime_range(limit):\n",
        "  if limit > 200:\n",
        "    limit = 200\n",
        "  for num in range(1, limit + 1):\n",
        "      if prime_number(num):\n",
        "          print(f\"{num} is a prime number.\")\n",
        "\n",
        "prime_range(200)"
      ],
      "metadata": {
        "colab": {
          "base_uri": "https://localhost:8080/"
        },
        "id": "iqXuZ3XCCwPY",
        "outputId": "56cddfad-f6cf-4b5a-b677-1fb111359a26"
      },
      "execution_count": 100,
      "outputs": [
        {
          "output_type": "stream",
          "name": "stdout",
          "text": [
            "2 \n",
            "3 \n",
            "5 \n",
            "7 \n",
            "11 \n",
            "13 \n",
            "17 \n",
            "19 \n",
            "23 \n",
            "29 \n",
            "31 \n",
            "37 \n",
            "41 \n",
            "43 \n",
            "47 \n",
            "53 \n",
            "59 \n",
            "61 \n",
            "67 \n",
            "71 \n",
            "73 \n",
            "79 \n",
            "83 \n",
            "89 \n",
            "97 \n",
            "101 \n",
            "103 \n",
            "107 \n",
            "109 \n",
            "113 \n",
            "127 \n",
            "131 \n",
            "137 \n",
            "139 \n",
            "149 \n",
            "151 \n",
            "157 \n",
            "163 \n",
            "167 \n",
            "173 \n",
            "179 \n",
            "181 \n",
            "191 \n",
            "193 \n",
            "197 \n",
            "199 \n"
          ]
        }
      ]
    },
    {
      "cell_type": "code",
      "source": [
        "# 5. Create an iterator class in Python that generates the Fibonacci sequence up to a specified number of terms.\n",
        "\n",
        "class FibonacciIterator:\n",
        "    def __init__(self, limit):\n",
        "        self.limit = limit\n",
        "        self.a = 0\n",
        "        self.b = 1\n",
        "        self.count = 0\n",
        "\n",
        "    def __iter__(self):\n",
        "        return self\n",
        "\n",
        "    def __next__(self):\n",
        "        if self.count < self.limit:\n",
        "            result = self.a\n",
        "            self.a, self.b = self.b, self.a + self.b\n",
        "            self.count += 1\n",
        "            return result\n",
        "        else:\n",
        "            raise StopIteration\n",
        "\n",
        "#Example usage:\n",
        "fib_iter = FibonacciIterator(20)\n",
        "for num in fib_iter:\n",
        "    print(num)"
      ],
      "metadata": {
        "colab": {
          "base_uri": "https://localhost:8080/"
        },
        "id": "ThTA8R_CKyMk",
        "outputId": "13eee871-5528-4e8a-bd21-973061249b22"
      },
      "execution_count": 102,
      "outputs": [
        {
          "output_type": "stream",
          "name": "stdout",
          "text": [
            "0\n",
            "1\n",
            "1\n",
            "2\n",
            "3\n",
            "5\n",
            "8\n",
            "13\n",
            "21\n",
            "34\n",
            "55\n",
            "89\n",
            "144\n",
            "233\n",
            "377\n",
            "610\n",
            "987\n",
            "1597\n",
            "2584\n",
            "4181\n"
          ]
        }
      ]
    },
    {
      "cell_type": "code",
      "source": [
        "# 6. Write a generator function in Python that yields the powers of 2 up to a given exponent.\n",
        "\n",
        "def square_generator(n):\n",
        "    for i in range(1, n + 1):\n",
        "        yield i ** 2\n",
        "\n",
        "# Accept input from the user\n",
        "n = int(input(\"Input a number: \"))\n",
        "\n",
        "# Create the generator object\n",
        "squares = square_generator(n)\n",
        "\n",
        "# Iterate over the generator and print the Squares\n",
        "print(\"Squares of numbers from 1 to\", n)\n",
        "for num in squares:\n",
        "    print(num)"
      ],
      "metadata": {
        "colab": {
          "base_uri": "https://localhost:8080/"
        },
        "id": "Y4dBVDVLM7D6",
        "outputId": "c1f965cd-4a60-483d-a1a9-9401d5f65a75"
      },
      "execution_count": 104,
      "outputs": [
        {
          "output_type": "stream",
          "name": "stdout",
          "text": [
            "Input a number: 5\n",
            "Squares of numbers from 1 to 5\n",
            "1\n",
            "4\n",
            "9\n",
            "16\n",
            "25\n"
          ]
        }
      ]
    },
    {
      "cell_type": "code",
      "source": [
        "# 7. Implement a generator function that reads a file line by line and yields each line as a string.\n",
        "\n",
        "def read_file_lines(filepath):\n",
        "    try:\n",
        "        with open(filepath, 'r') as file:\n",
        "            for line in file:\n",
        "                yield line.rstrip('\\n')\n",
        "    except FileNotFoundError:\n",
        "        yield f\"File not found: {filepath}\"\n",
        "\n",
        "\n",
        "# Example usage:\n",
        "filepath = \"my_text_file.txt\"\n",
        "\n",
        "# Create a dummy text file for testing\n",
        "with open(filepath, 'w') as f:\n",
        "    f.write(\"This is the first line.\\n\")\n",
        "    f.write(\"This is the second line.\\n\")\n",
        "    f.write(\"This is the third line.\\n\")\n",
        "\n",
        "for line in read_file_lines(filepath):\n",
        "    print(line)\n",
        "\n",
        "# Clean up the dummy text file\n",
        "import os\n",
        "os.remove(filepath)"
      ],
      "metadata": {
        "colab": {
          "base_uri": "https://localhost:8080/"
        },
        "id": "9dct0JuNOIAF",
        "outputId": "64abb147-2bfb-4d8e-b1df-95ab9b47714b"
      },
      "execution_count": 107,
      "outputs": [
        {
          "output_type": "stream",
          "name": "stdout",
          "text": [
            "This is the first line.\n",
            "This is the second line.\n",
            "This is the third line.\n"
          ]
        }
      ]
    },
    {
      "cell_type": "code",
      "source": [
        "# 8. Use a lambda function in Python to sort a list of tuples based on the second element of each tuple.\n",
        "\n",
        "tuple1 = [(10, 80, 100), (90, 20, 51), (15,25,72)]\n",
        "print(\"Original list of tuples:\", tuple1)\n",
        "tuple1.sort(key=lambda x: x[1])\n",
        "print(\"\\nSorting the List of Tuples:\", tuple1)"
      ],
      "metadata": {
        "colab": {
          "base_uri": "https://localhost:8080/"
        },
        "id": "i0e9denkPHis",
        "outputId": "324892fb-3bc0-423c-84ab-0cf2f070d3db"
      },
      "execution_count": 120,
      "outputs": [
        {
          "output_type": "stream",
          "name": "stdout",
          "text": [
            "Original list of tuples: [(10, 80, 100), (90, 20, 51), (15, 25, 72)]\n",
            "\n",
            "Sorting the List of Tuples: [(90, 20, 51), (15, 25, 72), (10, 80, 100)]\n"
          ]
        }
      ]
    },
    {
      "cell_type": "code",
      "source": [
        "# 9. Write a Python program that uses `map()` to convert a list of temperatures from Celsius to Fahrenheit.\n",
        "\n",
        "def celsius_to_fahrenheit(c):\n",
        "  return (c * 9/5) + 32\n",
        "\n",
        "celsius_temps = [0, 20, 37, 100]\n",
        "fahrenheit_temps = list(map(celsius_to_fahrenheit, celsius_temps))\n",
        "print(\"Celsius changes to Fahrenheit in simple: \", fahrenheit_temps)\n",
        "\n",
        "# Example usage with a lambda function for a more concise approach\n",
        "fahrenheit_temps_lambda = list(map(lambda c: (c * 9/5) + 32, celsius_temps))\n",
        "print(\"Celsius to fahrenheit with map() function: \", fahrenheit_temps_lambda)\n",
        "\n",
        "def fahrenheit_to_celsius(f):\n",
        "  return (f - 32) * 5/9\n",
        "f = [100, 115, 97, 99, 102]\n",
        "f_temp = list(map(fahrenheit_to_celsius, f))\n",
        "print(\" Fahrenheit to celsius:\", f_temp)"
      ],
      "metadata": {
        "colab": {
          "base_uri": "https://localhost:8080/"
        },
        "id": "SpDkNcg7QfCe",
        "outputId": "84f13106-a155-450a-e170-b24cc812424a"
      },
      "execution_count": 1,
      "outputs": [
        {
          "output_type": "stream",
          "name": "stdout",
          "text": [
            "Celsius changes to Fahrenheit in simple:  [32.0, 68.0, 98.6, 212.0]\n",
            "Celsius to fahrenheit with map() function:  [32.0, 68.0, 98.6, 212.0]\n",
            " Fahrenheit to celsius: [37.77777777777778, 46.111111111111114, 36.111111111111114, 37.22222222222222, 38.888888888888886]\n"
          ]
        }
      ]
    },
    {
      "cell_type": "code",
      "source": [
        "# 10.  Create a Python program that uses `filter()` to remove all the vowels from a given string.\n",
        "def rem_vowel(string1):\n",
        "    vowels = ['a','e','i','o','u']\n",
        "    result = [letter for letter in string1 if letter.lower() not in vowels]\n",
        "    result = ''.join(result)\n",
        "    print(result)\n",
        "\n",
        "# Driver program\n",
        "string1 = \"Data Analytics course from Pwskills \"\n",
        "rem_vowel(string1)\n",
        "string = \"Loving Python LOL\"\n",
        "rem_vowel(string)"
      ],
      "metadata": {
        "colab": {
          "base_uri": "https://localhost:8080/"
        },
        "id": "p1AdbH6cQlQJ",
        "outputId": "636d60e9-d12f-4bf6-e4ab-9f2a6d88391f"
      },
      "execution_count": 20,
      "outputs": [
        {
          "output_type": "stream",
          "name": "stdout",
          "text": [
            "Dt nlytcs crs frm Pwsklls \n",
            "Lvng Pythn LL\n"
          ]
        }
      ]
    },
    {
      "cell_type": "code",
      "source": [
        "# 11. Imagine an accounting routine used in a book shop. It works on a list with sublists, which look like this: Write a Python program, which returns a list with 2-tuples. Each tuple consists of the order number and the product of the price per item and the quantity. The product should be increased by 10,- € if the value of the order is smaller than 100,00 €. Write a Python program using lambda and map.\n",
        "\n",
        "orders = [\n",
        "    [\"34587\", \"Learning Python, Mark Lutz\", 4, 40.95],\n",
        "    [\"98762\", \"Programming Python, Mark Lutz\", 5, 56.80],\n",
        "    [\"77226\", \"Head First Python, Paul Barry\", 3, 32.95],\n",
        "    [\"88112\", \"Python Cookbook, David Beazley\", 3, 24.99]\n",
        "]\n",
        "\n",
        "result = list(map(lambda x: (x[0], x[2] * x[3] + 10 if x[2] * x[3] < 100 else x[2] * x[3]), orders))\n",
        "\n",
        "print(\"The result when order value is less than 100 and above 100 is:\", result)"
      ],
      "metadata": {
        "colab": {
          "base_uri": "https://localhost:8080/"
        },
        "id": "b-C3p3OT28Ar",
        "outputId": "faa01830-7727-47fe-fc81-103ec241ca27"
      },
      "execution_count": 22,
      "outputs": [
        {
          "output_type": "stream",
          "name": "stdout",
          "text": [
            "The result when order value is less than 100 and above 100 is: [('34587', 163.8), ('98762', 284.0), ('77226', 108.85000000000001), ('88112', 84.97)]\n"
          ]
        }
      ]
    }
  ]
}