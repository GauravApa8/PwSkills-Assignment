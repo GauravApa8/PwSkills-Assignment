{
  "nbformat": 4,
  "nbformat_minor": 0,
  "metadata": {
    "colab": {
      "provenance": []
    },
    "kernelspec": {
      "name": "python3",
      "display_name": "Python 3"
    },
    "language_info": {
      "name": "python"
    }
  },
  "cells": [
    {
      "cell_type": "markdown",
      "source": [
        "**Theory Questions**"
      ],
      "metadata": {
        "id": "Zyynf-bxBVCq"
      }
    },
    {
      "cell_type": "markdown",
      "source": [
        "1.  What is the difference between interpreted and compiled languages?  \n",
        "Ans. The main difference between interpreted and compiled languages lies in how they execute code. Compiled languages translate the entire program into machine code before execution, while interpreted languages execute the code line by line as it's being run.  "
      ],
      "metadata": {
        "id": "bJCqsZVOBc1q"
      }
    },
    {
      "cell_type": "markdown",
      "source": [
        "2. What is exception handling in Python?  \n",
        "Ans. Exception handling in Python is a mechanism to manage errors that occur during the execution of a program. These errors, known as exceptions, can disrupt the normal flow of the program, potentially causing it to crash. Exception handling allows programmers to anticipate these errors and respond gracefully, ensuring the program continues to run or terminates in a controlled manner.  \n",
        "The core of Python's exception handling lies in the try, except, else, and finally blocks."
      ],
      "metadata": {
        "id": "ZR_D5nvbCV1o"
      }
    },
    {
      "cell_type": "markdown",
      "source": [
        "3. What is the purpose of the finally block in exception handling?  \n",
        "Ans. The purpose of the finally block in exception handling is to ensure that certain code, often cleanup or resource release code, is executed regardless of whether an exception was thrown in the preceding try block. This ensures critical operations like closing files or database connections are performed, even if the program flow is interrupted by an exception."
      ],
      "metadata": {
        "id": "9SHGkgHXC11Y"
      }
    },
    {
      "cell_type": "markdown",
      "source": [
        "4.  What is logging in Python?  \n",
        "Ans. Logging in Python refers to the practice of recording events that occur during the execution of a program. It serves as a crucial tool for tracking application behavior, debugging issues, and monitoring the overall health of software. Rather than using print statements, logging provides a structured way to record information at different severity levels, allowing for more flexible and organized management of program output.  \n",
        "The Python logging module is a built-in library that provides a flexible framework for emitting log messages. It allows developers to record information about errors, warnings, and other events that occur during program execution, making it easier to identify and resolve issues."
      ],
      "metadata": {
        "id": "9fcMDY9XJ09S"
      }
    },
    {
      "cell_type": "markdown",
      "source": [
        "5.  What is the significance of the __del__ method in Python?  \n",
        "Ans. The __del__ method in Python is a special method, also known as a destructor. It is automatically called when an object is about to be destroyed, specifically when the object's reference count drops to zero and the garbage collector reclaims the object's memory.  \n",
        "Here's a breakdown of its significance:  \n",
        "Purpose:  \n",
        "Resource Cleanup:  \n",
        "The primary purpose of __del__ is to perform cleanup actions before an object is deallocated. This is crucial for managing resources like open files, network connections, or database connections that need to be closed or released.\n",
        "Finalization:  \n",
        "It acts as a finalizer, allowing an object to perform any necessary actions before it ceases to exist.\n"
      ],
      "metadata": {
        "id": "7DVHFvYbKIO9"
      }
    },
    {
      "cell_type": "markdown",
      "source": [
        "6. What is the difference between import and from ... import in Python?  \n",
        "ANs. In Python, both import and from ... import are used to bring code from external modules into your current script, but they differ in how they make those resources available:  \n",
        "import module_name:  \n",
        "*   Imports the entire module: This statement loads the whole module into your program.\n",
        "*   Access using dot notation: To use any function, class, or variable from the module, you need to use the module name as a prefix, followed by a dot and the item's name. For example, math.sqrt(25) or random.randint(1, 10).\n",
        "*   Namespace preservation: It keeps the module's namespace separate, avoiding potential name conflicts with your script's variables or other modules.\n",
        "*   Clear origin: It's clear which module an item comes from.  \n",
        "\n",
        "from module_name import item_name:  \n",
        "*   Imports specific items: This statement imports only the specified items (functions, classes, variables) from the module.\n",
        "*   Direct access: You can directly use the imported items without using the module name as a prefix. For example, sqrt(25) instead of math.sqrt(25).\n",
        "*   Potentially cleaner code: Can make code shorter and more readable by avoiding repetitive module prefixes.\n",
        "*   Potential for name conflicts: If you import items with the same name from different modules, it can lead to naming collisions and confusion.\n",
        "*   from module_name import * imports all items from the module, but it is generally discouraged due to the potential for name conflicts and reduced code clarity.\n",
        "\n",
        "\n",
        "\n",
        "\n",
        "\n",
        "\n",
        "\n",
        "\n",
        "\n",
        "\n",
        "\n",
        "\n",
        "\n",
        "\n"
      ],
      "metadata": {
        "id": "Vjt9sJQyKsIR"
      }
    },
    {
      "cell_type": "markdown",
      "source": [
        "7. How can you handle multiple exceptions in Python?  \n",
        "Ans. In Python, multiple exceptions can be handled using a single try block followed by multiple except blocks. Each except block is designed to catch a specific type of exception.  \n",
        "Here is a example of this:"
      ],
      "metadata": {
        "id": "bFcECRJHLsz_"
      }
    },
    {
      "cell_type": "code",
      "source": [
        "try:\n",
        "    num1 = int(input(\"Enter a number: \"))\n",
        "    num2 = int(input(\"Enter another number: \"))\n",
        "    result = num1 / num2\n",
        "    print(\"Result:\", result)\n",
        "except ValueError:\n",
        "    print(\"Invalid input. Please enter valid integers.\")\n",
        "except ZeroDivisionError:\n",
        "    print(\"Cannot divide by zero.\")\n",
        "except (TypeError, NameError):\n",
        "    print(\"Type or Name error\")\n",
        "except Exception as e:\n",
        "    print(\"An unexpected error occurred:\", e)\n",
        "else:\n",
        "    print(\"No errors occurred.\")\n",
        "finally:\n",
        "    print(\"This always executes.\")"
      ],
      "metadata": {
        "colab": {
          "base_uri": "https://localhost:8080/"
        },
        "id": "O-zPZwwcMCEc",
        "outputId": "90ae9360-ffd8-4bb0-c20b-9f16471c0c05"
      },
      "execution_count": 1,
      "outputs": [
        {
          "output_type": "stream",
          "name": "stdout",
          "text": [
            "Enter a number: 5\n",
            "Enter another number: 0\n",
            "Cannot divide by zero.\n",
            "This always executes.\n"
          ]
        }
      ]
    },
    {
      "cell_type": "markdown",
      "source": [
        "8. What is the purpose of the with statement when handling files in Python?  \n",
        "Ans. he with statement in Python is used for resource management, particularly when working with files. It guarantees that resources are properly handled, even if errors occur during the execution of the code block.  \n",
        "When dealing with files, the with statement ensures that the file is automatically closed after its operations are completed. This is important because forgetting to close files can lead to resource leaks and other issues.  \n",
        "Here's an example of how to use the with statement when handling files:"
      ],
      "metadata": {
        "id": "DC6kvbcMMLMr"
      }
    },
    {
      "cell_type": "code",
      "source": [
        "data = [\"1000\", \"1500\", \"1200\", \"1300\", \"900\"]\n",
        "with open(\"transactions1.txt\", \"w\") as file:\n",
        "    for item in data:\n",
        "        file.write(item+\"\\n\")\n",
        "print(\"The data has been written.\")\n",
        "file.close()"
      ],
      "metadata": {
        "colab": {
          "base_uri": "https://localhost:8080/"
        },
        "id": "vyu5bGX8Mmbh",
        "outputId": "f1dbaacd-d534-457c-9c84-b3f6bb57044e"
      },
      "execution_count": 5,
      "outputs": [
        {
          "output_type": "stream",
          "name": "stdout",
          "text": [
            "The data has been written.\n"
          ]
        }
      ]
    },
    {
      "cell_type": "markdown",
      "source": [
        "9.  What is the difference between multithreading and multiprocessing?  \n",
        "Ans. Multithreading and multiprocessing are two different approaches to parallelism, both aimed at improving performance, but they differ in how they achieve this and the resources they utilize. Multithreading involves creating multiple threads within a single process, enabling concurrency, while multiprocessing involves running multiple independent processes, each with its own memory space"
      ],
      "metadata": {
        "id": "ypi3Q1VbNcBv"
      }
    },
    {
      "cell_type": "markdown",
      "source": [
        "10. What are the advantages of using logging in a program?  \n",
        "Ans. Logging provides significant advantages in program development and maintenance, primarily by enabling efficient debugging, performance monitoring, and security tracking. It helps developers gain insights into program behavior, identify issues, and make informed decisions about code optimization and system health."
      ],
      "metadata": {
        "id": "THEHcC8SNxOZ"
      }
    },
    {
      "cell_type": "markdown",
      "source": [
        "11. What is memory management in Python?  \n",
        "Ans. Memory management in Python is the process of allocating and deallocating memory for objects during the execution of a program. Python uses a private heap to store objects and data structures. The Python memory manager handles memory allocation and deallocation, including reference counting and garbage collection."
      ],
      "metadata": {
        "id": "gjh9oePiOEQO"
      }
    },
    {
      "cell_type": "markdown",
      "source": [
        "12. What are the basic steps involved in exception handling in Python?  \n",
        "Ans. Here are the basic steps involved in exception handling in Python:  \n",
        "Try Block:This block contains the code that might raise an exception. Python attempts to execute this code.  \n",
        "Except Block:\n",
        "If an exception occurs within the try block, the execution immediately jumps to the except block. This block specifies how to handle the exception. You can have multiple except blocks to handle different types of exceptions.  \n",
        "Else Block:\n",
        "This optional block is executed if no exceptions were raised in the try block. It must come after all except blocks.  \n",
        "Finally Block:\n",
        "This optional block is always executed, regardless of whether an exception occurred or not. It is typically used for cleanup actions, such as closing files or releasing resources.   \n",
        "Raise Statement:\n",
        "You can use the raise statement to manually raise an exception when a specific condition occurs. You can also create custom exceptions by defining new classes that inherit from the Exception class.   \n",
        "Assert Statement:\n",
        "The assert statement is used for debugging purposes. It tests if a condition is true, and if it is not, it raises an AssertionError exception.  \n",
        "Here is an example:"
      ],
      "metadata": {
        "id": "DCe5yahXOQWN"
      }
    },
    {
      "cell_type": "code",
      "source": [
        "try:\n",
        "    numerator = int(input(\"Enter the numerator: \"))\n",
        "    denominator = int(input(\"Enter the denominator: \"))\n",
        "    result = numerator / denominator\n",
        "except ZeroDivisionError:\n",
        "    print(\"Error: Cannot divide by zero.\")\n",
        "except ValueError:\n",
        "    print(\"Error: Invalid input. Please enter integers.\")\n",
        "else:\n",
        "    print(\"Result:\", result)\n",
        "finally:\n",
        "    print(\"Execution complete.\")\n"
      ],
      "metadata": {
        "colab": {
          "base_uri": "https://localhost:8080/"
        },
        "id": "KHAFw1VWOyri",
        "outputId": "8fc7d1b5-a46f-41c4-c3b2-78aedf23335b"
      },
      "execution_count": 6,
      "outputs": [
        {
          "output_type": "stream",
          "name": "stdout",
          "text": [
            "Enter the numerator: 5\n",
            "Enter the denominator: 54\n",
            "Result: 0.09259259259259259\n",
            "Execution complete.\n"
          ]
        }
      ]
    },
    {
      "cell_type": "markdown",
      "source": [
        "13.  Why is memory management important in Python?  \n",
        "Ans. Memory management is crucial in Python for several reasons:  \n",
        "\n",
        "Efficiency: Efficient memory management ensures that programs utilize memory resources effectively, leading to faster execution and reduced resource consumption.  \n",
        "\n",
        "Performance: Proper memory management prevents memory leaks and fragmentation, which can slow down application performance and impact overall system stability.\n",
        "Scalability: Well-managed memory allows applications to scale and handle larger datasets without running into memory-related issues.  \n",
        "\n",
        "Resource Optimization: Effective memory management optimizes the use of RAM, enabling the computer to run more applications simultaneously without performance degradation.  \n",
        "\n",
        "Preventing Errors: Memory-related errors, such as segmentation faults and buffer overflows, can be avoided through proper memory management practices.\n",
        "Automatic Memory Management: Python's automatic memory management system, including garbage collection, simplifies memory handling for developers, minimizing manual allocation and deallocation.  \n",
        "\n",
        "Object Allocation: Python uses object-specific allocators for different data types, optimizing memory usage based on the type of object being stored.  \n",
        "Private Heap: Python's memory manager operates on a private heap, which ensures that memory allocation is controlled and managed within the Python process.\n",
        "\n",
        "In summary, memory management in Python is crucial for ensuring efficient, performant, and stable applications by effectively utilizing memory resources and preventing memory-related errors.\n"
      ],
      "metadata": {
        "id": "wdvkvolrO3lh"
      }
    },
    {
      "cell_type": "markdown",
      "source": [
        "14.  What is the role of try and except in exception handling?  \n",
        "Ans. In exception handling, try and except blocks work together to gracefully handle errors that might occur during program execution. The try block contains code that might potentially raise an exception, while the except block contains the code that executes if an exception occurs within the try block."
      ],
      "metadata": {
        "id": "KNQ1W7XHPh4X"
      }
    },
    {
      "cell_type": "markdown",
      "source": [
        "15. How does Python's garbage collection system work?  \n",
        "Ans. Python uses a hybrid garbage collection system consisting of reference counting and generational garbage collection. This system automatically manages memory, freeing up space occupied by objects that are no longer in use."
      ],
      "metadata": {
        "id": "l0jKtn-hPrhd"
      }
    },
    {
      "cell_type": "markdown",
      "source": [
        "16. What is the purpose of the else block in exception handling?  \n",
        "Ans. In exception handling, the else block is executed only if no exceptions are raised within the try block. It allows you to execute code that should run when the try block completes successfully, separating it from the exception handling code.\n",
        "Here is a example:"
      ],
      "metadata": {
        "id": "1W1wIStyQAGE"
      }
    },
    {
      "cell_type": "code",
      "source": [
        "try:\n",
        "    result = 10 / 2\n",
        "    print(\"Result:\", result)  # This will be executed if no exceptions occur\n",
        "except ZeroDivisionError:\n",
        "    print(\"Error: Division by zero\")\n",
        "except Exception as e:\n",
        "    print(\"An error occurred:\", e)\n",
        "else:\n",
        "    print(\"No exceptions raised in the try block\")  # This will be executed if no exceptions are raised within the try block"
      ],
      "metadata": {
        "colab": {
          "base_uri": "https://localhost:8080/"
        },
        "id": "UhpNRTFXQVdG",
        "outputId": "ca0a4ee6-67da-43d7-fa38-aaa146ff50f3"
      },
      "execution_count": 7,
      "outputs": [
        {
          "output_type": "stream",
          "name": "stdout",
          "text": [
            "Result: 5.0\n",
            "No exceptions raised in the try block\n"
          ]
        }
      ]
    },
    {
      "cell_type": "markdown",
      "source": [
        "17. What are the common logging levels in Python?  \n",
        "Ans. Here are the common logging levels in Python, from least to most severe:\n",
        "\n",
        "\n",
        "*   DEBUG: Detailed information, typically used for diagnosing problems.\n",
        "*   INFO: General information about the program's operation.\n",
        "\n",
        "*   WARNING: Indicates potential issues or unexpected events.\n",
        "*   ERROR: Signals a significant problem that prevents some functions from executing.\n",
        "\n",
        "*   CRITICAL: Represents a severe error that may cause the program to stop running.  \n",
        "\n",
        " Each level has an associated integer value, increasing with severity, which allows for filtering logs. The default level is WARNING, meaning lower-level messages will be ignored unless configured otherwise."
      ],
      "metadata": {
        "id": "mLDNF2c5QLLU"
      }
    },
    {
      "cell_type": "markdown",
      "source": [
        "18. What is the difference between os.fork() and multiprocessing in Python?  \n",
        "Ans. Here's a breakdown of the key differences between os.fork() and the multiprocessing module in Python:  \n",
        " 1.  os.fork()\n",
        " *   Low-Level System Call: os.fork() is a direct interface to the operating system's fork() system call, primarily available on Unix-like systems (Linux, macOS). It's not supported on Windows.\n",
        " *   Process Duplication: It creates a new process that is almost an exact copy of the parent process, including its memory space, open files, and other resources. Both parent and child processes continue execution from the point after the fork() call.\n",
        " *   PID Distinction: The fork() call returns 0 in the child process and the child's process ID (PID) in the parent process. This allows the code to differentiate between the two.\n",
        " *   Resource Sharing: The child process inherits all resources from the parent. This can sometimes lead to unexpected behavior, especially with multithreaded programs or when using libraries that manage their own resources.\n",
        " *   Limited Portability: Due to its dependence on underlying OS features, os.fork() is not portable across different operating systems.\n",
        " *   Potential Issues:\n",
        "Can cause issues with multithreaded applications if not used carefully. May lead to deadlocks or unexpected behavior if resources are not handled correctly after forking.\n",
        "\n",
        " 2.   multiprocessing Module:\n",
        " *   High-Level Abstraction: The multiprocessing module provides a higher-level interface for creating and managing processes, abstracting away some of the complexities of low-level system calls.\n",
        " *   Process Creation: It offers different methods for creating processes, including \"spawn\", \"fork\", and \"forkserver\". The default method depends on the platform, but it's recommended to use spawn for better compatibility.\n",
        " *   Independent Processes: When using multiprocessing, each process has its own independent memory space. This avoids the resource sharing issues that can occur with os.fork().\n",
        " *   Inter-Process Communication (IPC): The module provides tools for communication between processes, such as queues and pipes, to facilitate data sharing and synchronization.\n",
        " *   Portability: The multiprocessing module is designed to be more portable than os.fork(), working across different platforms including Windows.\n",
        " *   Resource Management: It manages resources more cleanly, avoiding the inheritance issues that can arise with os.fork().\n",
        " *   More Robust: Generally more robust and easier to use correctly in complex scenarios, particularly with multithreading.\n",
        "\n",
        "\n",
        "\n",
        "\n",
        "\n",
        "\n",
        "\n",
        "\n",
        "\n",
        "\n",
        "\n",
        "\n",
        "\n",
        "\n",
        "\n",
        "\n",
        "\n",
        "\n",
        "\n",
        "\n"
      ],
      "metadata": {
        "id": "GlYM_Yt5Q-kA"
      }
    },
    {
      "cell_type": "markdown",
      "source": [
        "19. What is the importance of closing a file in Python?  \n",
        "Ans. Closing a file in Python is crucial for several reasons:  \n",
        "Resource Management:   \n",
        "Memory Leaks: When a file is opened, the system allocates resources to manage it. If the file is not closed, these resources remain allocated, potentially leading to memory leaks and performance issues over time.  \n",
        "Operating System Limits:\n",
        "Operating systems have a limit on the number of files that can be open simultaneously. Failing to close files can cause your program to reach this limit, leading to errors or crashes.  \n",
        "Data Integrity:  \n",
        "Data Loss:\n",
        "When data is written to a file, it is often buffered in memory. If the file is not closed properly, the buffered data may not be written to the disk, resulting in data loss or corruption.  \n",
        "File Locking:\n",
        "Some file operations require exclusive access to the file. If the file is not closed, it may remain locked, preventing other processes from accessing or modifying it.  \n",
        "Best Practices:  \n",
        "Code Maintainability:\n",
        "Closing files explicitly is a good programming practice that improves code readability and maintainability, making it clear when resources are being managed.  \n",
        "Automatic Closing:\n",
        "Python provides a convenient way to ensure files are closed automatically using the with statement. This approach is recommended as it handles file closing even if errors occur within the block.  \n",
        "\n",
        "In summary, closing files in Python is essential for preventing memory leaks, ensuring data integrity, avoiding file locking issues, and maintaining good coding practices."
      ],
      "metadata": {
        "id": "q6V88PdlS6HE"
      }
    },
    {
      "cell_type": "markdown",
      "source": [
        "20. What is the difference between file.read() and file.readline() in Python?  \n",
        "Ans. file.read() and file.readline() are both methods used to read data from a file in Python, but they differ in how much data they read at once:  \n",
        "file.read():\n",
        "Reads the entire content of the file as a single string.\n",
        "If a size argument is provided (e.g., file.read(10)), it reads up to that many bytes.  \n",
        "Can be inefficient for large files as it loads the entire file into memory.\n",
        "\n",
        " file.readline():\n",
        "Reads a single line from the file, including the newline character (\\n).\n",
        "Returns an empty string if there are no more lines to read.  \n",
        "More memory-efficient for large files as it reads one line at a time.  \n",
        "\n",
        "Here's an example demonstrating the difference:"
      ],
      "metadata": {
        "id": "ZqE5Uai4TroX"
      }
    },
    {
      "cell_type": "code",
      "source": [
        "# Sample file content\n",
        "# line 1\n",
        "# line 2\n",
        "# line 3\n",
        "Sample_file_content = [\"line 1\", \"line 2\", \"line 3\", \"1300\", \"900\"]\n",
        "with open(\"sample.txt\", \"w\") as file:\n",
        "    for item in Sample_file_content:\n",
        "        file.write(item+\"\\n\")\n",
        "print(\"The data has been written.\")\n",
        "file.close()\n",
        "with open(\"sample.txt\", \"r\") as file:\n",
        "    content = file.read()\n",
        "    print(\"\\nfile.read():\")\n",
        "    print(content)\n",
        "\n",
        "with open(\"sample.txt\", \"r\") as file:\n",
        "    line1 = file.readline()\n",
        "    line2 = file.readline()\n",
        "    print(\"\\nfile.readline():\")\n",
        "    print(line1)\n",
        "    print(line2)"
      ],
      "metadata": {
        "colab": {
          "base_uri": "https://localhost:8080/"
        },
        "id": "y6B9EXUZUEMM",
        "outputId": "78326223-3682-4907-8f3e-18b7b460f2ad"
      },
      "execution_count": 9,
      "outputs": [
        {
          "output_type": "stream",
          "name": "stdout",
          "text": [
            "The data has been written.\n",
            "\n",
            "file.read():\n",
            "line 1\n",
            "line 2\n",
            "line 3\n",
            "1300\n",
            "900\n",
            "\n",
            "\n",
            "file.readline():\n",
            "line 1\n",
            "\n",
            "line 2\n",
            "\n"
          ]
        }
      ]
    },
    {
      "cell_type": "markdown",
      "source": [
        "21.  What is the logging module in Python used for?  \n",
        "Ans. The logging module in Python is a versatile tool used to track events and record information during program execution. It allows developers to identify errors, debug issues, and monitor the health of their applications."
      ],
      "metadata": {
        "id": "6fuJQ8V2U0g-"
      }
    },
    {
      "cell_type": "markdown",
      "source": [
        "22. What is the os module in Python used for in file handling?  \n",
        "Ans. Python has a built-in os module with methods for interacting with the operating system, like creating files and directories, management of files and directories, input, output, environment variables, process management, etc."
      ],
      "metadata": {
        "id": "EJaY4a_8VD0_"
      }
    },
    {
      "cell_type": "markdown",
      "source": [
        "23. What are the challenges associated with memory management in Python?  \n",
        "Ans. Python's memory management, while largely automatic, presents several challenges:\n",
        " 1.   Memory Leaks:\n",
        " 1.   Memory Bloat:\n",
        " 1.   Performance Overhead:\n",
        " 1.   Limited Customization:\n",
        " 1.   Multithreading and Multiprocessing:\n",
        " 2.   Memory Profiling:\n",
        " 2.   Data Type Optimization:\n",
        " 2.   Large Datasets:\n",
        " 2.   Reference Counting Overhead:\n",
        " 2.   Thread Safety:\n",
        "\n"
      ],
      "metadata": {
        "id": "njg0Z3sCVOYT"
      }
    },
    {
      "cell_type": "markdown",
      "source": [
        "24.  How do you raise an exception manually in Python?  \n",
        "Ans. In Python, exceptions can be raised manually using the raise statement. This allows developers to signal that an error or exceptional condition has occurred during the execution of their code.  \n",
        "The basic syntax for raising an exception is:  \n",
        "\"raise ExceptionType(\"Error message\")\"  \n",
        "Where ExceptionType is the type of exception you want to raise (e.g., ValueError, TypeError, RuntimeError), and \"Error message\" is an optional string that provides details about the error."
      ],
      "metadata": {
        "id": "oXx9d5VzWSzR"
      }
    },
    {
      "cell_type": "markdown",
      "source": [
        "25. Why is it important to use multithreading in certain applications?  \n",
        "Ans. Multithreading is important in applications that benefit from concurrency, such as those involving I/O-bound tasks, real-time data processing, or where multiple tasks can run independently without blocking each other. By using multiple threads, applications can improve performance, responsiveness, and scalability.   \n",
        "Here's why multithreading is crucial:  \n",
        "Improved Performance:  \n",
        "Better Responsiveness:  \n",
        "Enhanced Scalability:  \n",
        "Efficient CPU Utilization:  \n",
        "Real-time Processing:  \n",
        "Simultaneous Task Execution:"
      ],
      "metadata": {
        "id": "zT83zYZ6WsHf"
      }
    },
    {
      "cell_type": "markdown",
      "source": [
        "**Practical Questions:**"
      ],
      "metadata": {
        "id": "SXZ3ET3sXNAf"
      }
    },
    {
      "cell_type": "code",
      "source": [
        "# 1.  How can you open a file for writing in Python and write a string to it?\n",
        "\n",
        "file = open(\"string.txt\", \"w\")\n",
        "file.write(\"I am Gaurav Suman\\n\")\n",
        "file.close()\n",
        "print(\"The string is written in the file\")"
      ],
      "metadata": {
        "colab": {
          "base_uri": "https://localhost:8080/"
        },
        "id": "Y0qt8B3qWhXU",
        "outputId": "aaba1b16-4d1f-4593-fe21-b9fd297f3385"
      },
      "execution_count": 26,
      "outputs": [
        {
          "output_type": "stream",
          "name": "stdout",
          "text": [
            "The string is written in the file\n"
          ]
        }
      ]
    },
    {
      "cell_type": "code",
      "source": [
        "# 2. Write a Python program to read the contents of a file and print each line.\n",
        "\n",
        "file = open(\"string.txt\", \"a\")\n",
        "file.write(\"I have taken a course from PwSkills.\\n\")\n",
        "file.write(\"I have taken Data Aalalystics course.\")\n",
        "file.close()\n"
      ],
      "metadata": {
        "id": "1fSahJ58X12i"
      },
      "execution_count": 27,
      "outputs": []
    },
    {
      "cell_type": "code",
      "source": [
        "file = open(\"string.txt\", \"r\")\n",
        "lines1 = file.readline()\n",
        "lines2 = file.readline()\n",
        "lines3 = file.readline()\n",
        "print(lines1)\n",
        "print(lines2)\n",
        "print(lines3)"
      ],
      "metadata": {
        "colab": {
          "base_uri": "https://localhost:8080/"
        },
        "id": "s4Ys7vWHYiLS",
        "outputId": "b9cc2fa0-29d8-4566-e946-0ff2c06e9925"
      },
      "execution_count": 30,
      "outputs": [
        {
          "output_type": "stream",
          "name": "stdout",
          "text": [
            "I am Gaurav Suman\n",
            "\n",
            "I have taken a course from PwSkills.\n",
            "\n",
            "I have taken Data Aalalystics course.\n"
          ]
        }
      ]
    },
    {
      "cell_type": "code",
      "source": [
        "# 3. How would you handle a case where the file doesn't exist while trying to open it for reading.\n",
        "\n",
        "try:\n",
        "        with open(\"filename.txt\", 'r') as file:\n",
        "            for line in file:\n",
        "                print(line, end='')\n",
        "except FileNotFoundError:\n",
        "        print(f\"Error: File not found: \")\n",
        "except Exception as e:\n",
        "        print(f\"An error occurred: {e}\")"
      ],
      "metadata": {
        "colab": {
          "base_uri": "https://localhost:8080/"
        },
        "id": "wmX1iAocaRU_",
        "outputId": "7bd28943-91b3-4768-8f34-b01a049928a5"
      },
      "execution_count": 31,
      "outputs": [
        {
          "output_type": "stream",
          "name": "stdout",
          "text": [
            "Error: File not found: \n"
          ]
        }
      ]
    },
    {
      "cell_type": "code",
      "source": [
        "# 4. Write a Python script that reads from one file and writes its content to another file.\n",
        "\n",
        "def copy_file(source_file, destination_file):\n",
        "    try:\n",
        "        with open(source_file, 'r') as infile, open(destination_file, 'w') as outfile:\n",
        "            for line in infile:\n",
        "                outfile.write(line)\n",
        "        print(f\"Successfully copied content from '{source_file}' to '{destination_file}'\")\n",
        "    except FileNotFoundError:\n",
        "        print(f\"Error: Source file '{source_file}' not found.\")\n",
        "    except Exception as e:\n",
        "        print(f\"An error occurred: {e}\")\n",
        "\n",
        "if __name__ == \"__main__\":\n",
        "    source_file = \"string.txt\"\n",
        "    destination_file = \"output.txt\"\n",
        "    copy_file(source_file, destination_file)"
      ],
      "metadata": {
        "colab": {
          "base_uri": "https://localhost:8080/"
        },
        "id": "QB62cnWOcjbe",
        "outputId": "af88be35-ee84-47a7-fabd-4877e6e9be44"
      },
      "execution_count": 33,
      "outputs": [
        {
          "output_type": "stream",
          "name": "stdout",
          "text": [
            "Successfully copied content from 'string.txt' to 'output.txt'\n"
          ]
        }
      ]
    },
    {
      "cell_type": "code",
      "source": [
        "# 5.  How would you catch and handle division by zero error in Python?\n",
        "\n",
        "try:\n",
        "    result = 10 / 0\n",
        "except ZeroDivisionError:\n",
        "    print(\"Error: Cannot divide by zero.\")"
      ],
      "metadata": {
        "id": "HXw6Vkuudjin"
      },
      "execution_count": 47,
      "outputs": []
    },
    {
      "cell_type": "code",
      "source": [
        "# 6. Write a Python program that logs an error message to a log file when a division by zero exception occurs.\n",
        "\n",
        "import logging\n",
        "\n",
        "logging.basicConfig(filename='error.log', level=logging.ERROR,\n",
        "                    format='%(asctime)s - %(levelname)s - %(message)s')\n",
        "\n",
        "def divide(x, y):\n",
        "    try:\n",
        "        result = x / y\n",
        "        return result\n",
        "    except ZeroDivisionError:\n",
        "        logging.error(\"Division by zero occurred\")\n",
        "        return None\n",
        "\n",
        "numerator = 10\n",
        "denominator = 0\n",
        "\n",
        "result = divide(numerator, denominator)\n",
        "\n",
        "if result is None:\n",
        "    print(\"An error occurred. Check the log file for details.\")\n",
        "else:\n",
        "    print(\"Result:\", result)"
      ],
      "metadata": {
        "colab": {
          "base_uri": "https://localhost:8080/"
        },
        "id": "SLnRQQhQeQUC",
        "outputId": "111d9cbd-253d-4c1e-a4fa-47eb60ef38fd"
      },
      "execution_count": 50,
      "outputs": [
        {
          "output_type": "stream",
          "name": "stderr",
          "text": [
            "ERROR:root:Division by zero occurred\n"
          ]
        },
        {
          "output_type": "stream",
          "name": "stdout",
          "text": [
            "An error occurred. Check the log file for details.\n"
          ]
        }
      ]
    },
    {
      "cell_type": "code",
      "source": [
        "# 7. How do you log information at different levels (INFO, ERROR, WARNING) in Python using the logging module?\n",
        "\n",
        "import logging\n",
        "logging.basicConfig(level=logging.DEBUG, format='%(asctime)s - %(levelname)s - %(message)s')\n",
        "logging.debug(\"This is a debug message.\") # Will not be shown, because the level is set to DEBUG\n",
        "logging.info(\"This is an info message.\")\n",
        "logging.warning(\"This is a warning message.\")\n",
        "logging.error(\"This is an error message.\")\n",
        "logging.critical(\"This is a critical message.\")"
      ],
      "metadata": {
        "colab": {
          "base_uri": "https://localhost:8080/"
        },
        "id": "50yp_QpagjKw",
        "outputId": "b6a7c2f7-d135-4295-e91f-86e4e5c8ff9c"
      },
      "execution_count": 55,
      "outputs": [
        {
          "output_type": "stream",
          "name": "stderr",
          "text": [
            "WARNING:root:This is a warning message.\n",
            "ERROR:root:This is an error message.\n",
            "CRITICAL:root:This is a critical message.\n"
          ]
        }
      ]
    },
    {
      "cell_type": "code",
      "source": [
        "# 8. Write a program to handle a file opening error using exception handling.\n",
        "\n",
        "def open_file(filename):\n",
        "    try:\n",
        "        file = open(filename, 'r')\n",
        "        print(\"File opened successfully!\")\n",
        "        file.close()\n",
        "    except FileNotFoundError:\n",
        "        print(f\"Error: The file '{filename}' was not found.\")\n",
        "    except Exception as e:\n",
        "        print(f\"An unexpected error occurred: {e}\")\n",
        "\n",
        "open_file(\"sample.txt\")  # This will try to open a file named sample.txt in read mode.\n",
        "open_file(\"no_file.txt\")  # This will cause a FileNotFoundError.\n"
      ],
      "metadata": {
        "colab": {
          "base_uri": "https://localhost:8080/"
        },
        "id": "3nEg2m21h1ZP",
        "outputId": "162fdb2f-3c7a-4d99-906f-591890430a8a"
      },
      "execution_count": 58,
      "outputs": [
        {
          "output_type": "stream",
          "name": "stdout",
          "text": [
            "File opened successfully!\n",
            "Error: The file 'no_file.txt' was not found.\n"
          ]
        }
      ]
    },
    {
      "cell_type": "code",
      "source": [
        "# 9. How can you read a file line by line and store its content in a list in Python.\n",
        "\n",
        "def file_to_list(filename):\n",
        "    \"\"\"Reads a file line by line and returns a list of strings.\"\"\"\n",
        "    try:\n",
        "        with open(filename, 'r') as file:\n",
        "            lines = file.readlines()\n",
        "            return [line.strip() for line in lines]\n",
        "    except FileNotFoundError:\n",
        "        print(f\"Error: File '{filename}' not found.\")\n",
        "        return None\n",
        "\n",
        "filename = 'sample.txt'  # Replace with your filename\n",
        "content_list = file_to_list(filename)\n",
        "\n",
        "if content_list:\n",
        "    print(content_list)"
      ],
      "metadata": {
        "colab": {
          "base_uri": "https://localhost:8080/"
        },
        "id": "p3gLVgT0iiu8",
        "outputId": "fdaff883-205b-4b61-c5df-a3f98d87d598"
      },
      "execution_count": 62,
      "outputs": [
        {
          "output_type": "stream",
          "name": "stdout",
          "text": [
            "['line 1', 'line 2', 'line 3', '1300', '900']\n"
          ]
        }
      ]
    },
    {
      "cell_type": "code",
      "source": [
        "# 10. How can you append data to an existing file in Python.\n",
        "\n",
        "def append_to_file(filename, data):\n",
        "    try:\n",
        "        with open(filename, \"a\") as file:\n",
        "            file.write(data)\n",
        "        print(f\"Data successfully appended to '{filename}'.\")\n",
        "    except FileNotFoundError:\n",
        "        print(f\"Error: File '{filename}' not found.\")\n",
        "    except Exception as e:\n",
        "        print(f\"An error occurred: {e}\")\n",
        "\n",
        "\n",
        "if __name__ == \"__main__\":\n",
        "    file_name = \"string.txt\"\n",
        "    data_to_append = \"\\nThis is new data to append.\\n\"\n",
        "\n",
        "    append_to_file(file_name, data_to_append)"
      ],
      "metadata": {
        "colab": {
          "base_uri": "https://localhost:8080/"
        },
        "id": "vm0oBMv5k93U",
        "outputId": "97f397fc-3dce-4917-bf3e-98c0c6cfd764"
      },
      "execution_count": 64,
      "outputs": [
        {
          "output_type": "stream",
          "name": "stdout",
          "text": [
            "Data successfully appended to 'string.txt'.\n"
          ]
        }
      ]
    },
    {
      "cell_type": "code",
      "source": [
        "# 11.  Write a Python program that uses a try-except block to handle an error when attempting to access a dictionary key that doesn't exist.\n",
        "\n",
        "my_dict = {\"a\": 1, \"b\": 2, \"c\": 3}\n",
        "\n",
        "try:\n",
        "    value = my_dict[\"c\"]\n",
        "    print(value)\n",
        "except KeyError:\n",
        "    print(\"Error: Key from 'd' and above not found in the dictionary.\")\n",
        "\n",
        "try:\n",
        "    value = my_dict[\"d\"]\n",
        "    print(value)\n",
        "except KeyError:\n",
        "    print(\"Error: Key 'd' not found in the dictionary.\")"
      ],
      "metadata": {
        "colab": {
          "base_uri": "https://localhost:8080/"
        },
        "id": "pkQt8nBoly3q",
        "outputId": "f9806403-8165-4574-9cf1-784a9e8927ac"
      },
      "execution_count": 67,
      "outputs": [
        {
          "output_type": "stream",
          "name": "stdout",
          "text": [
            "3\n",
            "Error: Key 'd' not found in the dictionary.\n"
          ]
        }
      ]
    },
    {
      "cell_type": "code",
      "source": [
        "# 12.  Write a program that demonstrates using multiple except blocks to handle different types of exceptions.\n",
        "\n",
        "def append_to_file(filename, data):\n",
        "\n",
        "    try:\n",
        "        with open(filename, 'a') as file:\n",
        "            file.write(data)\n",
        "        print(f\"Data successfully appended to '{filename}'.\")\n",
        "    except FileNotFoundError:\n",
        "        print(f\"Error: File '{filename}' not found.\")\n",
        "    except Exception as e:   # Here we are using except 2 time and we can use it several times according to need.\n",
        "        print(f\"An error occurred: {e}\")\n",
        "\n",
        "\n",
        "if __name__ == \"__main__\":\n",
        "    file_name = \"example.txt\"\n",
        "    data_to_append = \"\\nThis is the new line added to the file.\"\n",
        "\n",
        "    append_to_file(file_name, data_to_append)"
      ],
      "metadata": {
        "colab": {
          "base_uri": "https://localhost:8080/"
        },
        "id": "es2YVwhZmZC_",
        "outputId": "0d601d51-4f4d-4474-af60-b699e7398018"
      },
      "execution_count": 68,
      "outputs": [
        {
          "output_type": "stream",
          "name": "stdout",
          "text": [
            "Data successfully appended to 'example.txt'.\n"
          ]
        }
      ]
    },
    {
      "cell_type": "code",
      "source": [
        "# 13. How would you check if a file exists before attempting to read it in Python?\n",
        "\n",
        "import os\n",
        "\n",
        "file_path = \"example.txt\"\n",
        "\n",
        "if os.path.exists(file_path):\n",
        "    try:\n",
        "        with open(file_path, \"r\") as file:\n",
        "            contents = file.read()\n",
        "            print(contents)\n",
        "    except Exception as e:\n",
        "        print(f\"An error occurred: {e}\")\n",
        "else:\n",
        "    print(f\"File '{file_path}' does not exist.\")"
      ],
      "metadata": {
        "colab": {
          "base_uri": "https://localhost:8080/"
        },
        "id": "gC6SLeDenTOH",
        "outputId": "9e60a357-7a37-44ce-c216-050233ef3a11"
      },
      "execution_count": 71,
      "outputs": [
        {
          "output_type": "stream",
          "name": "stdout",
          "text": [
            "\n",
            "This is the new line added to the file.\n"
          ]
        }
      ]
    },
    {
      "cell_type": "code",
      "source": [
        "# 14. Write a program that uses the logging module to log both informational and error messages.\n",
        "\n",
        "import logging\n",
        "logging.basicConfig(level=logging.DEBUG, format='%(asctime)s - %(levelname)s - %(message)s')\n",
        "logging.info('Starting the program...')\n",
        "logging.info('Processing data...')\n",
        "try:\n",
        "    result = 10 / 0\n",
        "except ZeroDivisionError as e:\n",
        "    logging.error(f'An error occurred: {e}')\n",
        "logging.info('Program finished.')"
      ],
      "metadata": {
        "colab": {
          "base_uri": "https://localhost:8080/"
        },
        "id": "fjLhvYg-nwG2",
        "outputId": "c0109666-c077-4d1c-c650-09282954cb44"
      },
      "execution_count": 76,
      "outputs": [
        {
          "output_type": "stream",
          "name": "stderr",
          "text": [
            "ERROR:root:An error occurred: division by zero\n"
          ]
        }
      ]
    },
    {
      "cell_type": "code",
      "source": [
        "# 15. Write a Python program that prints the content of a file and handles the case when the file is empty.\n",
        "file = open(\"example1.txt\", \"w\")\n",
        "file.close()\n",
        "def print_file_content(filename):\n",
        "    try:\n",
        "        with open(filename, 'r') as file:\n",
        "            content = file.read()\n",
        "            if not content:\n",
        "                print(\"The file is empty.\")\n",
        "            else:\n",
        "                print(content)\n",
        "    except FileNotFoundError:\n",
        "        print(f\"Error: File '{filename}' not found.\")\n",
        "\n",
        "file_path = \"example1.txt\"\n",
        "print_file_content(file_path)"
      ],
      "metadata": {
        "colab": {
          "base_uri": "https://localhost:8080/"
        },
        "id": "fxLbJ43roScD",
        "outputId": "b594db72-0de8-4b35-9e83-df9d4b8f84fb"
      },
      "execution_count": 79,
      "outputs": [
        {
          "output_type": "stream",
          "name": "stdout",
          "text": [
            "The file is empty.\n"
          ]
        }
      ]
    },
    {
      "cell_type": "code",
      "source": [
        "# 16. Demonstrate how to use memory profiling to check the memory usage of a small program.\n",
        "''' Answer:\n",
        "\n",
        "To check the memory usage of a small Python program using memory profiling, you can use the memory_profiler library. This involves decorating the function you want to profile with the @profile decorator and running the script using the command python -m memory_profiler your_script.py. The tool will then display line-by-line memory usage as the script runs, helping you identify potential memory leaks or hotspots.\n",
        "Example:\n",
        "\n",
        "Install memory_profiler in your terminal by this method:\n",
        "--> pip install memory_profiler\n",
        "\n",
        "Create a Python script (e.g., memory_test.py) in your system:\n",
        "\n",
        "write this program in your jupyter noterbook or google collab.\n",
        "    import memory_profiler\n",
        "\n",
        "    def create_large_list(size):\n",
        "        \"\"\"Creates a large list to demonstrate memory usage.\"\"\"\n",
        "        return list(range(size))\n",
        "\n",
        "    @memory_profiler.profile\n",
        "    def test_function():\n",
        "        large_list = create_large_list(1000000)  # Create a large list\n",
        "        print(\"Memory used by the list:\", len(large_list))\n",
        "        del large_list  # Release the memory\n",
        "\n",
        "    test_function()\n",
        "\n",
        "Run the script with memory_profiler in your terminal:\n",
        "\n",
        "    python -m memory_profiler memory_test.py\n",
        "\n",
        "Output (Example):\n",
        "\n",
        "Memory Profiling in Python - Analytics Vidhya\n",
        "The output will show line-by-line memory consumption. You'll see the memory usage increase as the create_large_list function is called and the list is created, and then decrease when the list is deleted.'''\n"
      ],
      "metadata": {
        "colab": {
          "base_uri": "https://localhost:8080/",
          "height": 174
        },
        "id": "JEcmzgPDpDKp",
        "outputId": "0ed8db3b-defb-424c-b429-4fe2f5223b1a"
      },
      "execution_count": 80,
      "outputs": [
        {
          "output_type": "execute_result",
          "data": {
            "text/plain": [
              "' Answer:\\n\\nTo check the memory usage of a small Python program using memory profiling, you can use the memory_profiler library. This involves decorating the function you want to profile with the @profile decorator and running the script using the command python -m memory_profiler your_script.py. The tool will then display line-by-line memory usage as the script runs, helping you identify potential memory leaks or hotspots. \\nExample:\\n\\nInstall memory_profiler in your terminal by this method:\\n--> pip install memory_profiler\\n\\nCreate a Python script (e.g., memory_test.py) in your system:\\n    \\nwrite this program in your jupyter noterbook or google collab.\\n    import memory_profiler\\n\\n    def create_large_list(size):\\n        \"\"\"Creates a large list to demonstrate memory usage.\"\"\"\\n        return list(range(size))\\n\\n    @memory_profiler.profile\\n    def test_function():\\n        large_list = create_large_list(1000000)  # Create a large list\\n        print(\"Memory used by the list:\", len(large_list))\\n        del large_list  # Release the memory\\n\\n    test_function() \\n\\nRun the script with memory_profiler in your terminal:\\n\\n    python -m memory_profiler memory_test.py\\n\\nOutput (Example):\\n\\nMemory Profiling in Python - Analytics Vidhya\\nThe output will show line-by-line memory consumption. You\\'ll see the memory usage increase as the create_large_list function is called and the list is created, and then decrease when the list is deleted.'"
            ],
            "application/vnd.google.colaboratory.intrinsic+json": {
              "type": "string"
            }
          },
          "metadata": {},
          "execution_count": 80
        }
      ]
    },
    {
      "cell_type": "code",
      "source": [
        "# 17. Write a Python program to create and write a list of numbers to a file, one number per line.\n",
        "\n",
        "def numbers_to_file(filename, numbers):\n",
        "    with open(filename, 'w') as file:\n",
        "        for number in numbers:\n",
        "            file.write(str(number) + '\\n')\n",
        "\n",
        "if __name__ == '__main__':\n",
        "    numbers = [1, 2, 3, 4, 5, 6, 7, 8, 9, 10]\n",
        "    filename = \"numbers.txt\"\n",
        "    numbers_to_file(filename, numbers)\n",
        "    print(f\"Numbers written to {filename}\")"
      ],
      "metadata": {
        "colab": {
          "base_uri": "https://localhost:8080/"
        },
        "id": "IIdstXS_rfZD",
        "outputId": "66e4c841-3390-4669-df18-301596950d9a"
      },
      "execution_count": 81,
      "outputs": [
        {
          "output_type": "stream",
          "name": "stdout",
          "text": [
            "Numbers written to numbers.txt\n"
          ]
        }
      ]
    },
    {
      "cell_type": "code",
      "source": [
        "# 18. How would you implement a basic logging setup that logs to a file with rotation after 1MB?\n",
        "\n",
        "import logging\n",
        "from logging.handlers import RotatingFileHandler\n",
        "def setup_logger():\n",
        "    logger = logging.getLogger(\"MyLogger\")\n",
        "    logger.setLevel(logging.DEBUG)  # Set the logging level\n",
        "\n",
        "    # Create a rotating file handler\n",
        "    handler = RotatingFileHandler(\n",
        "        \"app.log\", maxBytes=1 * 1024 * 1024, backupCount=5\n",
        "    )  # Rotate after 1MB, keep 5 backups\n",
        "    handler.setLevel(logging.DEBUG)\n",
        "\n",
        "    # Create a formatter and set it for the handler\n",
        "    formatter = logging.Formatter(\n",
        "        \"%(asctime)s - %(name)s - %(levelname)s - %(message)s\"\n",
        "    )\n",
        "    handler.setFormatter(formatter)\n",
        "\n",
        "    # Add the handler to the logger\n",
        "    logger.addHandler(handler)\n",
        "\n",
        "    return logger\n",
        "\n",
        "\n",
        "if __name__ == \"__main__\":\n",
        "    logger = setup_logger()\n",
        "\n",
        "    # Log some messages\n",
        "    for i in range(10):\n",
        "        logger.debug(f\"This is log message number {i}\")\n"
      ],
      "metadata": {
        "colab": {
          "base_uri": "https://localhost:8080/"
        },
        "id": "uzMlsfBHr843",
        "outputId": "f27633cd-a2d6-40be-95af-30f2e3fbce88"
      },
      "execution_count": 83,
      "outputs": [
        {
          "output_type": "stream",
          "name": "stderr",
          "text": [
            "DEBUG:MyLogger:This is log message number 0\n",
            "DEBUG:MyLogger:This is log message number 1\n",
            "DEBUG:MyLogger:This is log message number 2\n",
            "DEBUG:MyLogger:This is log message number 3\n",
            "DEBUG:MyLogger:This is log message number 4\n",
            "DEBUG:MyLogger:This is log message number 5\n",
            "DEBUG:MyLogger:This is log message number 6\n",
            "DEBUG:MyLogger:This is log message number 7\n",
            "DEBUG:MyLogger:This is log message number 8\n",
            "DEBUG:MyLogger:This is log message number 9\n"
          ]
        }
      ]
    },
    {
      "cell_type": "code",
      "source": [
        "# 19. Write a program that handles both IndexError and KeyError using a try-except block.\n",
        "\n",
        "data = [1, 2, 3]\n",
        "my_dict = {\"a\": 1, \"b\": 2}\n",
        "\n",
        "try:\n",
        "    value = data[5] # This will cause an IndexError\n",
        "    value = my_dict[\"c\"] # This will cause a KeyError\n",
        "except (IndexError, KeyError) as e:\n",
        "    print(f\"Error: {e}\")"
      ],
      "metadata": {
        "colab": {
          "base_uri": "https://localhost:8080/"
        },
        "id": "Bo64jEkEshON",
        "outputId": "8c858a16-c9fb-4a30-ff00-3b3d9e675728"
      },
      "execution_count": 84,
      "outputs": [
        {
          "output_type": "stream",
          "name": "stdout",
          "text": [
            "Error: list index out of range\n"
          ]
        }
      ]
    },
    {
      "cell_type": "code",
      "source": [
        "# 20.  How would you open a file and read its contents using a context manager in Python?\n",
        "\n",
        "def context_manager(filename):\n",
        "    try:\n",
        "        with open(filename, 'r') as file:\n",
        "            contents = file.read()\n",
        "            print(contents)\n",
        "    except FileNotFoundError:\n",
        "        print(f\"Error: File '{filename}' not found.\")\n",
        "    except Exception as e:\n",
        "        print(f\"An error occurred: {e}\")\n",
        "\n",
        "if __name__ == \"__main__\":\n",
        "    file_path = \"string.txt\"\n",
        "    context_manager(file_path)"
      ],
      "metadata": {
        "colab": {
          "base_uri": "https://localhost:8080/"
        },
        "id": "gd-atNEMtwNw",
        "outputId": "32196fc0-1b07-4e09-bdf2-6fabc6e9b5fd"
      },
      "execution_count": 86,
      "outputs": [
        {
          "output_type": "stream",
          "name": "stdout",
          "text": [
            "I am Gaurav Suman\n",
            "I have taken a course from PwSkills.\n",
            "I have taken Data Aalalystics course.This is new data to append.\n",
            "\n",
            "This is new data to append.\n",
            "\n"
          ]
        }
      ]
    },
    {
      "cell_type": "code",
      "source": [
        "# 21.  Write a Python program that reads a file and prints the number of occurrences of a specific word.\n",
        "\n",
        "def count_word_occurrences(filepath, word):\n",
        "    count = 0\n",
        "    try:\n",
        "        with open(filepath, 'r') as file:\n",
        "            for line in file:\n",
        "                words = line.lower().split()\n",
        "                count += words.count(word.lower())\n",
        "    except FileNotFoundError:\n",
        "        print(f\"Error: File not found at {filepath}\")\n",
        "        return -1\n",
        "    return count\n",
        "\n",
        "if __name__ == \"__main__\":\n",
        "    filepath = \"sample.txt\"\n",
        "    word_to_count = \"line\"\n",
        "\n",
        "    occurrences = count_word_occurrences(filepath, word_to_count)\n",
        "    if occurrences != -1:\n",
        "        print(f\"The word '{word_to_count}' appears {occurrences} times in the file.\")"
      ],
      "metadata": {
        "colab": {
          "base_uri": "https://localhost:8080/"
        },
        "id": "HQHlIGiXuDlG",
        "outputId": "3f273d11-2705-4705-fefa-8366d9730fa1"
      },
      "execution_count": 87,
      "outputs": [
        {
          "output_type": "stream",
          "name": "stdout",
          "text": [
            "The word 'line' appears 3 times in the file.\n"
          ]
        }
      ]
    },
    {
      "cell_type": "code",
      "source": [
        "# 22.  How can you check if a file is empty before attempting to read its contents?\n",
        "\n",
        "import os\n",
        "\n",
        "def is_file_empty(file_path):\n",
        "\n",
        "    return os.path.getsize(file_path) == 0\n",
        "\n",
        "def read_file_safely(file_path):\n",
        "\n",
        "    if not os.path.exists(file_path):\n",
        "        print(f\"Error: File not found at {file_path}\")\n",
        "        return None\n",
        "    if is_file_empty(file_path):\n",
        "        print(f\"Error: File at {file_path} is empty.\")\n",
        "        return None\n",
        "    try:\n",
        "        with open(file_path, 'r') as file:\n",
        "            contents = file.read()\n",
        "            return contents\n",
        "    except Exception as e:\n",
        "        print(f\"An error occurred: {e}\")\n",
        "        return None\n",
        "\n",
        "if __name__ == \"__main__\":\n",
        "    file_path = \"string.txt\"\n",
        "\n",
        "    with open(file_path, \"w\") as f:\n",
        "      f.write(\"This is a sample text.\")\n",
        "\n",
        "    contents = read_file_safely(file_path)\n",
        "    if contents:\n",
        "        print(\"File contents:\")\n",
        "        print(contents)\n",
        "\n",
        "    with open(\"empty.txt\", \"w\") as f:\n",
        "      pass\n",
        "\n",
        "    empty_file_contents = read_file_safely(\"empty.txt\")\n",
        "    if empty_file_contents:\n",
        "        print(\"File contents:\")\n",
        "        print(empty_file_contents)"
      ],
      "metadata": {
        "colab": {
          "base_uri": "https://localhost:8080/"
        },
        "id": "YF0iT7f5ul3A",
        "outputId": "fea2b6f2-8bab-49a8-e73f-7e90fd83f9d3"
      },
      "execution_count": 89,
      "outputs": [
        {
          "output_type": "stream",
          "name": "stdout",
          "text": [
            "File contents:\n",
            "This is a sample text.\n",
            "Error: File at empty.txt is empty.\n"
          ]
        }
      ]
    },
    {
      "cell_type": "code",
      "source": [
        "# 23.  Write a Python program that writes to a log file when an error occurs during file handling.\n",
        "\n",
        "import logging\n",
        "logging.basicConfig(filename='file_errors.log', level=logging.ERROR,\n",
        "                    format='%(asctime)s - %(levelname)s - %(message)s')\n",
        "\n",
        "def process_file(filename):\n",
        "    try:\n",
        "        with open(filename, 'r') as file:\n",
        "            content = file.read()\n",
        "            print(content)\n",
        "            if not content:\n",
        "                raise ValueError(\"File is empty\")\n",
        "    except FileNotFoundError:\n",
        "        logging.error(f\"File not found: {filename}\")\n",
        "    except PermissionError:\n",
        "        logging.error(f\"Permission error accessing file: {filename}\")\n",
        "    except ValueError as e:\n",
        "        logging.error(f\"Value error: {e}\")\n",
        "    except Exception as e:\n",
        "        logging.error(f\"An unexpected error occurred: {e}\")\n",
        "\n",
        "if __name__ == \"__main__\":\n",
        "    process_file('empty.txt')"
      ],
      "metadata": {
        "colab": {
          "base_uri": "https://localhost:8080/"
        },
        "id": "FpLDcdruvHRA",
        "outputId": "39b8b488-d846-4492-a853-d73df6277e67"
      },
      "execution_count": 91,
      "outputs": [
        {
          "output_type": "stream",
          "name": "stderr",
          "text": [
            "ERROR:root:Value error: File is empty\n"
          ]
        },
        {
          "output_type": "stream",
          "name": "stdout",
          "text": [
            "\n"
          ]
        }
      ]
    },
    {
      "cell_type": "code",
      "source": [],
      "metadata": {
        "id": "cfn_t4Gtv1WB"
      },
      "execution_count": null,
      "outputs": []
    }
  ]
}