{
  "nbformat": 4,
  "nbformat_minor": 0,
  "metadata": {
    "colab": {
      "provenance": []
    },
    "kernelspec": {
      "name": "python3",
      "display_name": "Python 3"
    },
    "language_info": {
      "name": "python"
    }
  },
  "cells": [
    {
      "cell_type": "markdown",
      "source": [
        "**Theory Questions:**"
      ],
      "metadata": {
        "id": "D1adAT5keGpI"
      }
    },
    {
      "cell_type": "markdown",
      "source": [
        "1. What is NumPy, and why is it widely used in Python?  \n",
        "Ans. NumPy, short for Numerical Python, is a fundamental open-source library in Python for numerical and scientific computing. It provides powerful tools for working with arrays, matrices, and mathematical functions.  \n",
        "Here's why NumPy is widely used:  \n",
        "Efficient Array Operations: NumPy's core feature is the ndarray object, a multi-dimensional array that allows for efficient storage and manipulation of numerical data. These arrays are much faster and more memory-efficient than Python lists, especially for large datasets.  \n",
        "Mathematical Functions: NumPy offers a wide range of mathematical functions, including linear algebra, Fourier transforms, random number generation, and statistical operations. These functions are optimized for performance and are essential for scientific and engineering applications.  \n",
        "Broad Application: NumPy is a cornerstone of the scientific Python ecosystem. Many other libraries, such as pandas, SciPy, scikit-learn, and OpenCV, rely on NumPy arrays as their underlying data structure. This makes NumPy essential for data analysis, machine learning, image processing, and more.  \n",
        "Speed and Performance: NumPy is written in C, which contributes to its speed and efficiency. It leverages optimized code and vectorized operations, enabling fast computations on large datasets.  \n",
        "Ease of Use: Despite its power, NumPy is relatively easy to use. Its intuitive syntax and well-documented API make it accessible to both beginners and experienced programmers."
      ],
      "metadata": {
        "id": "AVrtBJujeMdg"
      }
    },
    {
      "cell_type": "markdown",
      "source": [
        "2. How does broadcasting work in NumPy?  \n",
        "Ans. Broadcasting in NumPy refers to the ability of performing operations on arrays with different shapes by automatically expanding the smaller array's shape to match the larger array's shape. This is useful when performing arithmetic operations or applying functions to arrays of different dimensions.  \n",
        "When performing arithmetic operations, NumPy operates on corresponding elements of the arrays. If the arrays have the same shape, operations are are smoothly performed. However, if the arrays have different shapes, NumPy uses broadcasting to align them, allowing element-wise operations to be conducted easily."
      ],
      "metadata": {
        "id": "Ss5MRSSafZHN"
      }
    },
    {
      "cell_type": "markdown",
      "source": [
        "3. What is a Pandas DataFrame?  \n",
        "Ans. A Pandas DataFrame is a two-dimensional, size-mutable, and potentially heterogeneous tabular data structure with labeled axes (rows and columns). It is a fundamental data structure provided by the Pandas library in Python, widely used for data analysis and manipulation.  \n",
        "DataFrames can be created from various sources, including dictionaries, lists, NumPy arrays, CSV files, and SQL queries. They offer a wide range of functionalities for data cleaning, transformation, analysis, and visualization."
      ],
      "metadata": {
        "id": "v0lCudC_f5P7"
      }
    },
    {
      "cell_type": "markdown",
      "source": [
        "4.  Explain the use of the groupby() method in Pandas.  \n",
        "Ans. The groupby() method in Pandas is a powerful tool for data analysis, enabling the grouping of rows in a DataFrame based on unique values in one or more columns. It follows a \"split-apply-combine\" approach:  \n",
        "Split: Data is divided into groups based on the specified column(s).  \n",
        "Apply: A function is applied to each group independently. This can involve aggregation (e.g., sum, mean, count), transformation, or filtering.   \n",
        "Combine: Results from each group are combined into a new DataFrame."
      ],
      "metadata": {
        "id": "kUcl_17hgIDU"
      }
    },
    {
      "cell_type": "markdown",
      "source": [
        "5.  Why is Seaborn preferred for statistical visualizations?  \n",
        "Ans. Seaborn is a widely used Python library used for creating statistical data visualizations. It is built on the top of Matplotlib and designed to work with Pandas, it helps in the process of making complex plots with fewer lines of code. It specializes in visualizing data distributions, relationships and categorical data using beautiful styles and color palettes. Common visualizations include line plots, violin plots, heatmaps, etc. These graphical representations help us to better interpret and communicate data insights."
      ],
      "metadata": {
        "id": "kB8KvSikgYgK"
      }
    },
    {
      "cell_type": "markdown",
      "source": [
        "6. What are the differences between NumPy arrays and Python lists?  \n",
        "Ans. The differences between NumPy arrays and Python lists are given below:  \n",
        " 1.   Data Type:  \n",
        " *   NumPy Arrays:\n",
        "Homogeneous, meaning they can only hold elements of the same data type (e.g., all integers, all floats). This restriction allows for optimized storage and computation.\n",
        " *   Python Lists:\n",
        "Heterogeneous, meaning they can hold elements of different data types within the same list (e.g., integers, strings, floats). This flexibility comes at the cost of performance.\n",
        " 2.   Memory Efficiency:  \n",
        " *   NumPy Arrays:\n",
        "More memory-efficient due to their homogeneous nature. The data is stored in a contiguous block of memory, allowing for faster access and manipulation.\n",
        " *   Python Lists:\n",
        "Less memory-efficient because they store pointers to the actual objects, which can be scattered across memory.\n",
        " 3.   Size:  \n",
        " *   NumPy Arrays: Fixed size upon creation. Changing the size of a NumPy array requires creating a new array and deleting the original.\n",
        " *   Python Lists: Dynamic size, can grow or shrink as needed.\n",
        " 4.   Performance:  \n",
        " *   NumPy Arrays:\n",
        "Optimized for numerical computations and vectorized operations, leading to significantly faster performance, especially for large datasets.\n",
        " *   Python Lists:\n",
        "Slower for numerical operations because they require explicit looping, not optimized for mathematical operations.\n",
        " 5.   Built-in Methods:  \n",
        " *   NumPy Arrays:\n",
        "Fewer built-in methods, but they are optimized for array-specific tasks like linear algebra, Fourier transforms, and random number generation.\n",
        " *   Python Lists:\n",
        "Rich set of built-in methods for various operations like appending, inserting, removing, and sorting.\n",
        " 6.   Module Requirement:  \n",
        " *   NumPy Arrays: Require importing the NumPy library (import numpy as np).\n",
        " *   Python Lists: Built-in data structure, no import needed.\n",
        " 7.   Flexibility:  \n",
        " *   NumPy Arrays: Less flexible due to their homogeneous nature and fixed size.\n",
        " *   Python Lists: More flexible for general-purpose tasks due to their heterogeneous nature and dynamic size.\n",
        " 8.   Arithematic Operations:  \n",
        " *   NumPy Arrays:\n",
        "Support vectorized arithmetic operations, allowing you to perform operations on all elements of the array with a single operation.\n",
        " *   Python Lists:\n",
        "Do not support direct arithmetic operations; you need to loop through the list to perform operations on each element.\n",
        "\n"
      ],
      "metadata": {
        "id": "EZ08KS7kg1mt"
      }
    },
    {
      "cell_type": "markdown",
      "source": [
        "7. What is a heatmap, and when should it be used?  \n",
        "Ans. A heatmap is a visualization technique that uses color to represent data values, with darker colors indicating higher values and lighter colors indicating lower values. It's commonly used to display trends, patterns, and variations within a dataset, making it easy to spot hotspots and outliers. Heatmaps are versatile and can be used in various fields, including website analysis, data visualization, and even to analyze crime data."
      ],
      "metadata": {
        "id": "p-yuJcHdjdB_"
      }
    },
    {
      "cell_type": "markdown",
      "source": [
        "8.  What does the term “vectorized operation” mean in NumPy?  \n",
        "Ans. In NumPy, \"vectorized operation\" refers to the ability to perform mathematical operations on entire arrays, rather than element-by-element, without the need for explicit loops. This approach leverages NumPy's underlying C implementation for optimized and efficient computations."
      ],
      "metadata": {
        "id": "ML7VZuWVjpvj"
      }
    },
    {
      "cell_type": "markdown",
      "source": [
        "9.  How does Matplotlib differ from Plotly?  \n",
        "Ans. Matplotlib: Is often preferred for academic or highly customized plots because you can fine-tune just about any aspect of the figure—fonts, margins, axis scales, etc.   \n",
        "Plotly: While still highly customizable, Plotly's real strength lies in interactivity and web-based visuals."
      ],
      "metadata": {
        "id": "Dg0XTbX7j3Ik"
      }
    },
    {
      "cell_type": "markdown",
      "source": [
        "10. What is the significance of hierarchical indexing in Pandas?  \n",
        "Ans. Hierarchical indexing, also known as MultiIndexing, is a powerful feature in Pandas that allows you to have multiple levels of indexing on an axis (row or column). It enables you to represent higher-dimensional data within one-dimensional Series and two-dimensional DataFrame objects.   \n",
        "Significance of Hierarchical Indexing:  \n",
        " *   Data Organization: It allows for structuring data into hierarchical groups, making it easier to analyze complex datasets with multiple levels of categorization.\n",
        " *   Efficient Data Selection: Hierarchical indexing facilitates efficient selection and subsetting of data based on multiple criteria.\n",
        " *   Enhanced Data Analysis: It simplifies grouping and aggregation of data across multiple dimensions, leading to more insightful analysis.\n",
        " *   Clearer Analysis: Complex data analysis becomes more manageable and understandable.\n",
        " *   Memory Efficiency: It can reduce memory usage by avoiding redundant storage of repeating values.\n",
        " *   Flexibility: It provides a flexible way to perform complex queries on large DataFrames.\n",
        " *   Multi-dimensional Representation: It enables the representation of multi-dimensional data in lower-dimensional structures.\n",
        "\n",
        "\n"
      ],
      "metadata": {
        "id": "4a3-36gAkD5A"
      }
    },
    {
      "cell_type": "markdown",
      "source": [
        "11. What is the role of Seaborn’s pairplot() function?  \n",
        "Ans. The seaborn.pairplot() function is a powerful tool for visualizing pairwise relationships between variables in a dataset. It creates a grid of subplots, where each subplot shows the relationship between two variables.  \n",
        "Here's a breakdown of its role:  \n",
        " 1.   Purpose:  \n",
        " *   Exploratory Data Analysis (EDA):\n",
        "The primary use of pairplot() is to explore and understand the relationships between multiple variables in a dataset. It helps in quickly identifying patterns, trends, and potential correlations.\n",
        " *   Data Overview:\n",
        "It provides a bird's-eye view of the dataset by displaying all pairwise relationships in a single figure. This makes it easier to spot interesting patterns and relationships that might be missed when analyzing variables individually.\n",
        " *   Feature Selection:\n",
        "By visualizing the relationships between features, pairplot() can help in feature selection for machine learning models. It can reveal which features are highly correlated and might be redundant.\n",
        " *   Outlier Detection:\n",
        "The scatter plots in pairplot() can also help in identifying outliers in the dataset.\n",
        " 2.   Functionality:  \n",
        " *   Grid of Subplots:\n",
        "pairplot() generates a grid of subplots, with each subplot showing the relationship between two variables.\n",
        " *   Scatter Plots:\n",
        "For the off-diagonal subplots, pairplot() typically uses scatter plots to visualize the relationship between two variables.\n",
        " *   Histograms/Distributions:\n",
        "For the diagonal subplots, pairplot() usually displays histograms or kernel density estimates (KDEs) to show the distribution of each individual variable.\n",
        " *   Customization:\n",
        "It allows for customization of the plots, such as using different plot types for the diagonal and off-diagonal subplots, adding color coding, and specifying which variables to include in the plot.\n",
        "\n",
        "\n"
      ],
      "metadata": {
        "id": "0lx5ldNVk_6f"
      }
    },
    {
      "cell_type": "markdown",
      "source": [
        "12.  What is the purpose of the describe() function in Pandas?  \n",
        "Ans. The describe() function in Pandas is used to generate descriptive statistics of a DataFrame or Series. It provides a quick summary of key statistical metrics, offering insights into the data's central tendency, dispersion, and shape.   \n",
        "describe() is a useful tool for exploratory data analysis, allowing users to quickly understand the distribution and characteristics of their data."
      ],
      "metadata": {
        "id": "cwbymqnYmJgb"
      }
    },
    {
      "cell_type": "markdown",
      "source": [
        "13. Why is handling missing data important in Pandas?  \n",
        "Ans. Handling missing data in Pandas is crucial because it directly impacts the accuracy and reliability of data analysis. Missing values, often represented as NaN (Not a Number), can arise from various sources, such as data entry errors, system failures, or incomplete data collection.  \n",
        "Pandas provides several methods for handling missing data:  \n",
        " *   Identifying Missing Values:\n",
        "Functions like isnull() and isna() help detect missing values in a DataFrame.\n",
        " *   Dropping Missing Values:\n",
        "The dropna() function can remove rows or columns containing missing values.\n",
        " *   Filling Missing Values:\n",
        "The fillna() function can replace missing values with a specific value, the mean, median, or other strategies.\n",
        " *   Interpolation:\n",
        "The interpolate() function can fill missing values by estimating them based on surrounding data points.\n"
      ],
      "metadata": {
        "id": "6A0uVqKJm4HW"
      }
    },
    {
      "cell_type": "markdown",
      "source": [
        "14. What are the benefits of using Plotly for data visualization?  \n",
        "Ans. Plotly is an open-source Python library designed to create interactive, visually appealing charts and graphs. It helps users to explore data through features like zooming, additional details and clicking for deeper insights. It handles the interactivity with JavaScript behind the scenes so that we can focus on writing Python code to build the charts. In this article, we will see plotting in Plotly and covers how to create basic charts and enhance them with interactive features."
      ],
      "metadata": {
        "id": "rfK9s2PFnmZK"
      }
    },
    {
      "cell_type": "markdown",
      "source": [
        "15. How does NumPy handle multidimensional arrays?  \n",
        "Ans. NumPy handles multidimensional arrays, also known as ndarrays, by storing them as contiguous blocks of memory. This allows for efficient access and manipulation of array elements.  \n",
        "Here's a breakdown of how NumPy manages these arrays:  \n",
        " 1.   Contiguous Memory: NumPy stores all elements of a multidimensional array in a single, contiguous block of memory. This is different from Python lists, where elements can be scattered in memory.\n",
        " 2.   Shape and Strides: NumPy uses metadata to interpret the contiguous memory block as a multidimensional array. This metadata includes: a) Shape & b) Strides\n",
        " 3.   Data Type: NumPy arrays are homogeneous, meaning all elements must have the same data type (e.g., integers, floats, etc.).\n",
        " 4.   Indexing: NumPy uses a zero-based indexing system, similar to Python lists. To access an element in a multidimensional array, you specify indices for each dimension (e.g., array[0, 1] to access the element at the first row and second column).\n",
        " 5.   Operations: NumPy provides a wide range of functions for performing operations on multidimensional arrays, including.\n",
        " 6.   Efficiency: NumPy's efficient storage and operations on multidimensional arrays make it a fundamental library for scientific computing, data analysis, and machine learning in Python. NumPy is optimized to work with the latest CPU architectures, further enhancing its performance.\n",
        "\n"
      ],
      "metadata": {
        "id": "6obLf5Qxn5Wh"
      }
    },
    {
      "cell_type": "markdown",
      "source": [
        "16. What is the role of Bokeh in data visualization?  \n",
        "Ans. Bokeh is a Python library that plays a crucial role in data visualization by enabling the creation of interactive and dynamic charts and plots for modern web browsers. It allows users to visualize data in a visually appealing and engaging manner, making data exploration and presentation easier. Bokeh is particularly effective for embedding visualizations in web applications and dashboards."
      ],
      "metadata": {
        "id": "G3-nlQk5PXlX"
      }
    },
    {
      "cell_type": "markdown",
      "source": [
        "17. Explain the difference between apply() and map() in Pandas.  \n",
        "Ans. apply() and map() are both used for applying functions to Pandas Series or DataFrames, but they differ in their usage and capabilities.  \n",
        " 1.   map()  \n",
        " Purpose: Primarily used for element-wise transformations on a Pandas Series.  \n",
        " Input: Accepts a function, dictionary, or another Series for mapping values.  \n",
        " Output: Returns a new Series with transformed values.  \n",
        " Usage: Often used for substituting values, creating mappings, or applying simple, element-wise operations.  \n",
        " Limitations: Can only be used on Series, not DataFrames directly.\n",
        " 2.   apply()  \n",
        "Purpose: Used for applying more complex functions along an axis of a DataFrame or on values of a Series.  \n",
        "Input: Accepts a function.  \n",
        "Output: Returns a new Series or DataFrame, depending on the function and axis applied.  \n",
        "Usage: Allows row-wise or column-wise operations, enabling more complex transformations.  \n",
        "Flexibility: Can handle functions that operate on entire rows or columns, not just individual elements.\n",
        "\n"
      ],
      "metadata": {
        "id": "Aijuwh1KPiS_"
      }
    },
    {
      "cell_type": "markdown",
      "source": [
        "18.  What are some advanced features of NumPy?  \n",
        "Ans. NumPy, a powerful Python library, offers several advanced features beyond its core array capabilities. These include universal functions (ufuncs), aggregation, broadcasting, masking, fancy indexing, and array sorting. NumPy's strength lies in its ability to perform efficient numerical computations on arrays, particularly in domains like linear algebra and random number generation.   \n",
        "Advanced NumPy Features:  \n",
        " 1.   Universal Functions (ufuncs):\n",
        "Ufuncs are functions that operate on arrays in an element-by-element fashion, providing a concise way to perform mathematical, logical, and other operations.\n",
        " 1.   Aggregation:\n",
        "NumPy offers functions for aggregating data within arrays, such as summing, averaging, finding minimums, and maximums.\n",
        " 1.   Broadcasting:\n",
        "This powerful feature allows NumPy to perform operations on arrays with different shapes by automatically aligning their dimensions.\n",
        " 1.   Masking:\n",
        "Masking uses boolean arrays to select specific elements within an array, allowing for selective operations and manipulations.\n",
        " 1.   Fancy Indexing:\n",
        "Fancy indexing provides a way to access elements using arrays of indices, offering flexible ways to select elements from different rows and columns.\n",
        " 1.   Array Sorting:\n",
        "NumPy provides various sorting functions, allowing users to sort arrays in place or create sorted copies.\n",
        " 2.   Linear Algebra:\n",
        "NumPy's linalg module provides functions for linear algebra operations, including matrix multiplication, determinant, inverse, and eigenvalue decomposition.\n",
        " 2.   Random Number Generation:\n",
        "NumPy's random module provides functions for generating random numbers, including random integers, floats, and arrays.\n",
        " 2.   Working with Datetime:\n",
        "NumPy arrays can store datetime data, and the library offers functions for manipulating and working with time-related data.\n",
        " 2.   Sticking and Splitting:\n",
        "NumPy provides functions for stacking and splitting arrays along different axes, allowing for advanced array manipulation.\n",
        " 2.   Vectorization:\n",
        "Vectorization is a key feature that enables operations on entire arrays rather than individual elements, leading to more efficient and concise code.\n",
        " 2.   Reshaping:\n",
        "NumPy provides functions for reshaping arrays, allowing users to change the shape of an array without changing the data.\n",
        "\n",
        "\n",
        "\n",
        "\n"
      ],
      "metadata": {
        "id": "tRoRYWAwQ8Ba"
      }
    },
    {
      "cell_type": "markdown",
      "source": [
        "19. How does Pandas simplify time series analysis?  \n",
        "Ans. Pandas simplifies time series analysis through its specialized data structures and functionalities. Here's how:  \n",
        " 1.   Time-Based Indexing:\n",
        " *   Pandas allows you to use dates and times as the index for your data, making it intuitive to access and organize time series data.\n",
        " *   You can select data using date/time formatted strings, similar to label-based indexing, but with additional features like selecting data for a single day, a range of days, or partial string matching.\n",
        " 2.   Resampling:  \n",
        " *   Pandas enables changing the frequency of time series data using the resample method.\n",
        " *   This allows you to aggregate data over various periods, such as yearly, monthly, or daily, and perform calculations on these aggregated periods.\n",
        " 3.   Data Alignment:  \n",
        " *   Pandas simplifies the merging and joining of time series data from different sources.\n",
        " *   The library's data alignment capabilities ensure accurate merging despite differences in timestamps.\n",
        " 4.   Time Zone Handling:   \n",
        " *   Pandas provides robust support for handling time zones.\n",
        "Time zone information can be added, removed, or converted with ease.\n",
        " 5.   Rolling Statistics:  \n",
        " *   Pandas excels at computing rolling statistics using rolling window calculations.\n",
        " *   This allows applying functions over a moving window of intervals, useful for analyzing trends and patterns.\n",
        " 6.   Data Shifting:  \n",
        " *   Pandas allows shifting and lagging of data points, common operations in time series analysis.\n",
        " 7.   Frequency Conversion:  \n",
        " *   Pandas supports a wide range of frequencies for time series data.\n",
        " *   This includes business days, end-of-month frequencies, and more, making it versatile for different types of data.\n",
        " 8.   DateTime Functionality:\n",
        " *   Pandas' datetime objects support calculations, logical operations, and convenient date-related properties through the dt accessor.\n",
        " *   This allows for easy manipulation and analysis of time-based data.\n",
        " 9.   Data Structures:\n",
        " *   Pandas uses the Series and DataFrame data structures, which are well-suited for time series data.\n",
        " *   Series are one-dimensional and can hold time series data, while DataFrames can hold multiple time series, making it easy to work with complex datasets.\n"
      ],
      "metadata": {
        "id": "CcPPaKvqR71G"
      }
    },
    {
      "cell_type": "markdown",
      "source": [
        "20. What is the role of a pivot table in Pandas?  \n",
        "Ans. The pivot_table function in Pandas is a powerful tool for reshaping and summarizing data. It enables users to transform data from a \"long\" format to a \"wide\" format, making it easier to analyze and extract insights."
      ],
      "metadata": {
        "id": "DtXbz7fnUUfe"
      }
    },
    {
      "cell_type": "markdown",
      "source": [
        "21. Why is NumPy’s array slicing faster than Python’s list slicing?  \n",
        "Ans. NumPy's array slicing is generally faster than Python's list slicing due to several key differences in how they are implemented and how they handle data:  \n",
        " 1.   Contiguous Memory Allocation:  \n",
        " *   NumPy arrays store elements of the same data type in a contiguous block of memory. This means that elements are stored next to each other in memory, making it faster for the CPU to access and process them.\n",
        " *   Python lists, on the other hand, store references (pointers) to objects that can be scattered throughout memory. This indirection adds overhead when accessing elements, as the CPU needs to follow pointers to find the actual data.\n",
        " 2.   Homogeneous Data Types:\n",
        " *   NumPy arrays are homogeneous, meaning all elements have the same data type (e.g., all integers or all floats). This allows NumPy to perform operations more efficiently, as it can use optimized low-level code for specific data types.\n",
        " *   Python lists can store elements of different data types, which requires more complex handling and type checking during operations.\n",
        " 3.   Optimized Operations:\n",
        " *   NumPy operations, including slicing, are often implemented in highly optimized C code. This results in much faster execution compared to the equivalent Python code.\n",
        " *   Python lists rely on the interpreter for most operations, which is generally slower than compiled code.\n",
        " 4.   Views vs. Copies:\n",
        " *   NumPy array slicing often returns a \"view\" of the original array, meaning it shares the same underlying data buffer. This avoids the overhead of creating a new copy of the data.\n",
        " *   Python list slicing always creates a new list, which involves copying all the elements.\n",
        " 5.   Vectorization:\n",
        " *   NumPy is designed for vectorized operations, which means that operations can be applied to entire arrays at once, rather than iterating through each element individually. This vectorization allows NumPy to take advantage of CPU-level optimizations and parallelism, resulting in significantly faster performance.\n",
        "\n",
        "\n",
        "\n"
      ],
      "metadata": {
        "id": "_LRxx5IJUgXp"
      }
    },
    {
      "cell_type": "markdown",
      "source": [
        "22. What are some common use cases for Seaborn?  \n",
        "Ans. Seaborn is a Python data visualization library built on top of Matplotlib. It provides a high-level interface for creating informative and attractive statistical graphics. Here are some common use cases for Seaborn:   \n",
        " 1.   Exploratory Data Analysis (EDA):\n",
        " *   Distribution plots: Visualize the distribution of single variables using histograms, kernel density plots, and rug plots.\n",
        " *   Categorical plots: Explore the relationship between numerical values and categories using bar plots, box plots, violin plots, and count plots.\n",
        " *   Relational plots: Understand relationships between variables using scatter plots, line plots, and point plots.\n",
        " *   Pair plots: Examine pairwise relationships between multiple variables in a dataset.\n",
        " *   Heatmaps: Visualize correlation matrices and patterns in data.\n",
        " 2.   Statistical Analysis:\n",
        " *   Regression plots: Visualize relationships between variables and fit regression models.\n",
        " *   Joint plots: Combine scatter plots with marginal distributions to visualize joint distributions.\n",
        " *   Matrix plots: Display data in matrix format, often used for correlation matrices or time-series data.\n",
        " 3.   Data Visualization:\n",
        " *   Creating publication-quality graphics:\n",
        "Seaborn provides aesthetically pleasing default styles and themes, making it easy to create professional-looking visualizations.\n",
        " *   Customizing plots:\n",
        "Seaborn allows for extensive customization of plot elements, such as colors, labels, and titles.\n",
        " *   Working with Pandas DataFrames:\n",
        "Seaborn seamlessly integrates with Pandas, making it easy to visualize data directly from DataFrames.\n",
        " *   Identifying patterns and trends:\n",
        "Visualizations help in identifying trends, outliers, and relationships in data.\n",
        " *   Presenting data insights:\n",
        "Visualizations created with Seaborn are used to communicate findings and insights from data analysis."
      ],
      "metadata": {
        "id": "NvfwL_5xWNCs"
      }
    },
    {
      "cell_type": "markdown",
      "source": [
        "**Practical Questions:-**"
      ],
      "metadata": {
        "id": "zuK-B7-CXrP-"
      }
    },
    {
      "cell_type": "code",
      "source": [
        "# 1. How do you create a 2D NumPy array and calculate the sum of each row?\n",
        "\n",
        "import numpy as np\n",
        "arr = np.array([5, 4, 3, 2])\n",
        "row_sums = np.sum(arr, axis=0)\n",
        "print(row_sums)"
      ],
      "metadata": {
        "colab": {
          "base_uri": "https://localhost:8080/"
        },
        "id": "YtwmT3xSXv-i",
        "outputId": "f10b3033-45c1-44e3-d3e7-944f63fc63f1"
      },
      "execution_count": 2,
      "outputs": [
        {
          "output_type": "stream",
          "name": "stdout",
          "text": [
            "14\n"
          ]
        }
      ]
    },
    {
      "cell_type": "code",
      "source": [
        "# 2. Write a Pandas script to find the mean of a specific column in a DataFrame.\n",
        "\n",
        "import pandas as pd\n",
        "\n",
        "def cal_column_mean(df, column_name):\n",
        "    if column_name not in df.columns:\n",
        "        print(f\"Error: Column '{column_name}' not found in DataFrame.\")\n",
        "        return None\n",
        "    if not pd.api.types.is_numeric_dtype(df[column_name]):\n",
        "         print(f\"Error: Column '{column_name}' is not numeric.\")\n",
        "         return None\n",
        "\n",
        "    return df[column_name].mean()\n",
        "\n",
        "if __name__ == '__main__':\n",
        "    data = {'col1': [1, 2, 3, 4, 5],\n",
        "            'col2': [6, 7, 8, 9, 10],\n",
        "            'col3': ['a', 'b', 'c', 'd', 'e']}\n",
        "    df = pd.DataFrame(data)\n",
        "\n",
        "    column_to_average = 'col1'\n",
        "    mean_value = cal_column_mean(df, column_to_average)\n",
        "    if mean_value is not None:\n",
        "        print(f\"The mean of column '{column_to_average}' is: {mean_value}\")\n",
        "\n",
        "    column_to_average = 'col2'\n",
        "    mean_value = cal_column_mean(df, column_to_average)\n",
        "    if mean_value is not None:\n",
        "        print(f\"The mean of column '{column_to_average}' is: {mean_value}\")\n",
        "\n",
        "    column_to_average = 'col3'\n",
        "    mean_value = cal_column_mean(df, column_to_average)\n",
        "    if mean_value is not None:\n",
        "        print(f\"The mean of column '{column_to_average}' is: {mean_value}\")\n",
        "\n",
        "    column_to_average = 'col4'\n",
        "    mean_value = cal_column_mean(df, column_to_average)\n",
        "    if mean_value is not None:\n",
        "        print(f\"The mean of column '{column_to_average}' is: {mean_value}\")"
      ],
      "metadata": {
        "colab": {
          "base_uri": "https://localhost:8080/"
        },
        "id": "EzYL03L9YS8c",
        "outputId": "f8b8ffcd-048f-428e-ccbc-ac1a61bd244e"
      },
      "execution_count": 8,
      "outputs": [
        {
          "output_type": "stream",
          "name": "stdout",
          "text": [
            "The mean of column 'col1' is: 3.0\n",
            "The mean of column 'col2' is: 8.0\n",
            "Error: Column 'col3' is not numeric.\n",
            "Error: Column 'col4' not found in DataFrame.\n"
          ]
        }
      ]
    },
    {
      "cell_type": "code",
      "source": [
        "# 3. Create a scatter plot using Matplotlib.\n",
        "\n",
        "import matplotlib.pyplot as plt\n",
        "\n",
        "x = [1, 2, 3, 4, 5]\n",
        "y = [2, 4, 1, 3, 5]\n",
        "\n",
        "plt.scatter(x, y)\n",
        "plt.xlabel(\"X-axis\")\n",
        "plt.ylabel(\"Y-axis\")\n",
        "plt.title(\"Scatter Plot Example\")\n",
        "plt.show()"
      ],
      "metadata": {
        "colab": {
          "base_uri": "https://localhost:8080/",
          "height": 472
        },
        "id": "xT1jRffwZHZq",
        "outputId": "c6512831-d508-4ad7-a315-0f06ece9547b"
      },
      "execution_count": 9,
      "outputs": [
        {
          "output_type": "display_data",
          "data": {
            "text/plain": [
              "<Figure size 640x480 with 1 Axes>"
            ],
            "image/png": "[encoded data removed]"
          },
          "metadata": {}
        }
      ]
    },
    {
      "cell_type": "code",
      "source": [
        "# 4. How do you calculate the correlation matrix using Seaborn and visualize it with a heatmap.\n",
        "\n",
        "import seaborn as sns\n",
        "import pandas as pd\n",
        "import matplotlib.pyplot as plt\n",
        "\n",
        "data = {'col1': [1, 2, 3], 'col2': [5, 6, 7]}\n",
        "df = pd.DataFrame(data)\n",
        "df.to_csv('test.csv', index=False)\n",
        "\n",
        "data1 = pd.read_csv('test.csv')\n",
        "corr_matrix = data1.corr()\n",
        "\n",
        "plt.figure(figsize=(10, 8))\n",
        "sns.heatmap(corr_matrix, annot=True, cmap='coolwarm')\n",
        "plt.title('Correlation Matrix Heatmap')\n",
        "plt.show()"
      ],
      "metadata": {
        "colab": {
          "base_uri": "https://localhost:8080/",
          "height": 699
        },
        "id": "wNL-2RVVZchR",
        "outputId": "add01971-bd09-4612-f3fd-66f71dcc6c3c"
      },
      "execution_count": 50,
      "outputs": [
        {
          "output_type": "display_data",
          "data": {
            "text/plain": [
              "<Figure size 1000x800 with 2 Axes>"
            ],
            "image/png": "[encoded data removed]"
          },
          "metadata": {}
        }
      ]
    },
    {
      "cell_type": "code",
      "source": [
        "# 5. Generate a bar plot using Plotly.\n",
        "\n",
        "import plotly.express as px\n",
        "categories = ['A', 'B', 'C', 'D']\n",
        "values = [20, 35, 15, 40]\n",
        "fig = px.bar(x=categories, y=values, title='Simple Bar Chart')\n",
        "fig.show()"
      ],
      "metadata": {
        "colab": {
          "base_uri": "https://localhost:8080/",
          "height": 542
        },
        "id": "ghne1BzFcJqb",
        "outputId": "95b3784a-597f-4f76-ab9b-3fde7bd964ee"
      },
      "execution_count": 22,
      "outputs": [
        {
          "output_type": "display_data",
          "data": {
            "text/html": [
              "<html>\n",
              "<head><meta charset=\"utf-8\" /></head>\n",
              "<body>\n",
              "    <div>            <script src=\"https://cdnjs.cloudflare.com/ajax/libs/mathjax/2.7.5/MathJax.js?config=TeX-AMS-MML_SVG\"></script><script type=\"text/javascript\">if (window.MathJax && window.MathJax.Hub && window.MathJax.Hub.Config) {window.MathJax.Hub.Config({SVG: {font: \"STIX-Web\"}});}</script>                <script type=\"text/javascript\">window.PlotlyConfig = {MathJaxConfig: 'local'};</script>\n",
              "        <script charset=\"utf-8\" src=\"https://cdn.plot.ly/plotly-2.35.2.min.js\"></script>                <div id=\"6203b656-04e6-4b19-94c6-d4cdaa6c6987\" class=\"plotly-graph-div\" style=\"height:525px; width:100%;\"></div>            <script type=\"text/javascript\">                                    window.PLOTLYENV=window.PLOTLYENV || {};                                    if (document.getElementById(\"6203b656-04e6-4b19-94c6-d4cdaa6c6987\")) {                    Plotly.newPlot(                        \"6203b656-04e6-4b19-94c6-d4cdaa6c6987\",                        [{\"alignmentgroup\":\"True\",\"hovertemplate\":\"x=%{x}\\u003cbr\\u003ey=%{y}\\u003cextra\\u003e\\u003c\\u002fextra\\u003e\",\"legendgroup\":\"\",\"marker\":{\"color\":\"#636efa\",\"pattern\":{\"shape\":\"\"}},\"name\":\"\",\"offsetgroup\":\"\",\"orientation\":\"v\",\"showlegend\":false,\"textposition\":\"auto\",\"x\":[\"A\",\"B\",\"C\",\"D\"],\"xaxis\":\"x\",\"y\":[20,35,15,40],\"yaxis\":\"y\",\"type\":\"bar\"}],                        {\"template\":{\"data\":{\"histogram2dcontour\":[{\"type\":\"histogram2dcontour\",\"colorbar\":{\"outlinewidth\":0,\"ticks\":\"\"},\"colorscale\":[[0.0,\"#0d0887\"],[0.1111111111111111,\"#46039f\"],[0.2222222222222222,\"#7201a8\"],[0.3333333333333333,\"#9c179e\"],[0.4444444444444444,\"#bd3786\"],[0.5555555555555556,\"#d8576b\"],[0.6666666666666666,\"#ed7953\"],[0.7777777777777778,\"#fb9f3a\"],[0.8888888888888888,\"#fdca26\"],[1.0,\"#f0f921\"]]}],\"choropleth\":[{\"type\":\"choropleth\",\"colorbar\":{\"outlinewidth\":0,\"ticks\":\"\"}}],\"histogram2d\":[{\"type\":\"histogram2d\",\"colorbar\":{\"outlinewidth\":0,\"ticks\":\"\"},\"colorscale\":[[0.0,\"#0d0887\"],[0.1111111111111111,\"#46039f\"],[0.2222222222222222,\"#7201a8\"],[0.3333333333333333,\"#9c179e\"],[0.4444444444444444,\"#bd3786\"],[0.5555555555555556,\"#d8576b\"],[0.6666666666666666,\"#ed7953\"],[0.7777777777777778,\"#fb9f3a\"],[0.8888888888888888,\"#fdca26\"],[1.0,\"#f0f921\"]]}],\"heatmap\":[{\"type\":\"heatmap\",\"colorbar\":{\"outlinewidth\":0,\"ticks\":\"\"},\"colorscale\":[[0.0,\"#0d0887\"],[0.1111111111111111,\"#46039f\"],[0.2222222222222222,\"#7201a8\"],[0.3333333333333333,\"#9c179e\"],[0.4444444444444444,\"#bd3786\"],[0.5555555555555556,\"#d8576b\"],[0.6666666666666666,\"#ed7953\"],[0.7777777777777778,\"#fb9f3a\"],[0.8888888888888888,\"#fdca26\"],[1.0,\"#f0f921\"]]}],\"heatmapgl\":[{\"type\":\"heatmapgl\",\"colorbar\":{\"outlinewidth\":0,\"ticks\":\"\"},\"colorscale\":[[0.0,\"#0d0887\"],[0.1111111111111111,\"#46039f\"],[0.2222222222222222,\"#7201a8\"],[0.3333333333333333,\"#9c179e\"],[0.4444444444444444,\"#bd3786\"],[0.5555555555555556,\"#d8576b\"],[0.6666666666666666,\"#ed7953\"],[0.7777777777777778,\"#fb9f3a\"],[0.8888888888888888,\"#fdca26\"],[1.0,\"#f0f921\"]]}],\"contourcarpet\":[{\"type\":\"contourcarpet\",\"colorbar\":{\"outlinewidth\":0,\"ticks\":\"\"}}],\"contour\":[{\"type\":\"contour\",\"colorbar\":{\"outlinewidth\":0,\"ticks\":\"\"},\"colorscale\":[[0.0,\"#0d0887\"],[0.1111111111111111,\"#46039f\"],[0.2222222222222222,\"#7201a8\"],[0.3333333333333333,\"#9c179e\"],[0.4444444444444444,\"#bd3786\"],[0.5555555555555556,\"#d8576b\"],[0.6666666666666666,\"#ed7953\"],[0.7777777777777778,\"#fb9f3a\"],[0.8888888888888888,\"#fdca26\"],[1.0,\"#f0f921\"]]}],\"surface\":[{\"type\":\"surface\",\"colorbar\":{\"outlinewidth\":0,\"ticks\":\"\"},\"colorscale\":[[0.0,\"#0d0887\"],[0.1111111111111111,\"#46039f\"],[0.2222222222222222,\"#7201a8\"],[0.3333333333333333,\"#9c179e\"],[0.4444444444444444,\"#bd3786\"],[0.5555555555555556,\"#d8576b\"],[0.6666666666666666,\"#ed7953\"],[0.7777777777777778,\"#fb9f3a\"],[0.8888888888888888,\"#fdca26\"],[1.0,\"#f0f921\"]]}],\"mesh3d\":[{\"type\":\"mesh3d\",\"colorbar\":{\"outlinewidth\":0,\"ticks\":\"\"}}],\"scatter\":[{\"fillpattern\":{\"fillmode\":\"overlay\",\"size\":10,\"solidity\":0.2},\"type\":\"scatter\"}],\"parcoords\":[{\"type\":\"parcoords\",\"line\":{\"colorbar\":{\"outlinewidth\":0,\"ticks\":\"\"}}}],\"scatterpolargl\":[{\"type\":\"scatterpolargl\",\"marker\":{\"colorbar\":{\"outlinewidth\":0,\"ticks\":\"\"}}}],\"bar\":[{\"error_x\":{\"color\":\"#2a3f5f\"},\"error_y\":{\"color\":\"#2a3f5f\"},\"marker\":{\"line\":{\"color\":\"#E5ECF6\",\"width\":0.5},\"pattern\":{\"fillmode\":\"overlay\",\"size\":10,\"solidity\":0.2}},\"type\":\"bar\"}],\"scattergeo\":[{\"type\":\"scattergeo\",\"marker\":{\"colorbar\":{\"outlinewidth\":0,\"ticks\":\"\"}}}],\"scatterpolar\":[{\"type\":\"scatterpolar\",\"marker\":{\"colorbar\":{\"outlinewidth\":0,\"ticks\":\"\"}}}],\"histogram\":[{\"marker\":{\"pattern\":{\"fillmode\":\"overlay\",\"size\":10,\"solidity\":0.2}},\"type\":\"histogram\"}],\"scattergl\":[{\"type\":\"scattergl\",\"marker\":{\"colorbar\":{\"outlinewidth\":0,\"ticks\":\"\"}}}],\"scatter3d\":[{\"type\":\"scatter3d\",\"line\":{\"colorbar\":{\"outlinewidth\":0,\"ticks\":\"\"}},\"marker\":{\"colorbar\":{\"outlinewidth\":0,\"ticks\":\"\"}}}],\"scattermapbox\":[{\"type\":\"scattermapbox\",\"marker\":{\"colorbar\":{\"outlinewidth\":0,\"ticks\":\"\"}}}],\"scatterternary\":[{\"type\":\"scatterternary\",\"marker\":{\"colorbar\":{\"outlinewidth\":0,\"ticks\":\"\"}}}],\"scattercarpet\":[{\"type\":\"scattercarpet\",\"marker\":{\"colorbar\":{\"outlinewidth\":0,\"ticks\":\"\"}}}],\"carpet\":[{\"aaxis\":{\"endlinecolor\":\"#2a3f5f\",\"gridcolor\":\"white\",\"linecolor\":\"white\",\"minorgridcolor\":\"white\",\"startlinecolor\":\"#2a3f5f\"},\"baxis\":{\"endlinecolor\":\"#2a3f5f\",\"gridcolor\":\"white\",\"linecolor\":\"white\",\"minorgridcolor\":\"white\",\"startlinecolor\":\"#2a3f5f\"},\"type\":\"carpet\"}],\"table\":[{\"cells\":{\"fill\":{\"color\":\"#EBF0F8\"},\"line\":{\"color\":\"white\"}},\"header\":{\"fill\":{\"color\":\"#C8D4E3\"},\"line\":{\"color\":\"white\"}},\"type\":\"table\"}],\"barpolar\":[{\"marker\":{\"line\":{\"color\":\"#E5ECF6\",\"width\":0.5},\"pattern\":{\"fillmode\":\"overlay\",\"size\":10,\"solidity\":0.2}},\"type\":\"barpolar\"}],\"pie\":[{\"automargin\":true,\"type\":\"pie\"}]},\"layout\":{\"autotypenumbers\":\"strict\",\"colorway\":[\"#636efa\",\"#EF553B\",\"#00cc96\",\"#ab63fa\",\"#FFA15A\",\"#19d3f3\",\"#FF6692\",\"#B6E880\",\"#FF97FF\",\"#FECB52\"],\"font\":{\"color\":\"#2a3f5f\"},\"hovermode\":\"closest\",\"hoverlabel\":{\"align\":\"left\"},\"paper_bgcolor\":\"white\",\"plot_bgcolor\":\"#E5ECF6\",\"polar\":{\"bgcolor\":\"#E5ECF6\",\"angularaxis\":{\"gridcolor\":\"white\",\"linecolor\":\"white\",\"ticks\":\"\"},\"radialaxis\":{\"gridcolor\":\"white\",\"linecolor\":\"white\",\"ticks\":\"\"}},\"ternary\":{\"bgcolor\":\"#E5ECF6\",\"aaxis\":{\"gridcolor\":\"white\",\"linecolor\":\"white\",\"ticks\":\"\"},\"baxis\":{\"gridcolor\":\"white\",\"linecolor\":\"white\",\"ticks\":\"\"},\"caxis\":{\"gridcolor\":\"white\",\"linecolor\":\"white\",\"ticks\":\"\"}},\"coloraxis\":{\"colorbar\":{\"outlinewidth\":0,\"ticks\":\"\"}},\"colorscale\":{\"sequential\":[[0.0,\"#0d0887\"],[0.1111111111111111,\"#46039f\"],[0.2222222222222222,\"#7201a8\"],[0.3333333333333333,\"#9c179e\"],[0.4444444444444444,\"#bd3786\"],[0.5555555555555556,\"#d8576b\"],[0.6666666666666666,\"#ed7953\"],[0.7777777777777778,\"#fb9f3a\"],[0.8888888888888888,\"#fdca26\"],[1.0,\"#f0f921\"]],\"sequentialminus\":[[0.0,\"#0d0887\"],[0.1111111111111111,\"#46039f\"],[0.2222222222222222,\"#7201a8\"],[0.3333333333333333,\"#9c179e\"],[0.4444444444444444,\"#bd3786\"],[0.5555555555555556,\"#d8576b\"],[0.6666666666666666,\"#ed7953\"],[0.7777777777777778,\"#fb9f3a\"],[0.8888888888888888,\"#fdca26\"],[1.0,\"#f0f921\"]],\"diverging\":[[0,\"#8e0152\"],[0.1,\"#c51b7d\"],[0.2,\"#de77ae\"],[0.3,\"#f1b6da\"],[0.4,\"#fde0ef\"],[0.5,\"#f7f7f7\"],[0.6,\"#e6f5d0\"],[0.7,\"#b8e186\"],[0.8,\"#7fbc41\"],[0.9,\"#4d9221\"],[1,\"#276419\"]]},\"xaxis\":{\"gridcolor\":\"white\",\"linecolor\":\"white\",\"ticks\":\"\",\"title\":{\"standoff\":15},\"zerolinecolor\":\"white\",\"automargin\":true,\"zerolinewidth\":2},\"yaxis\":{\"gridcolor\":\"white\",\"linecolor\":\"white\",\"ticks\":\"\",\"title\":{\"standoff\":15},\"zerolinecolor\":\"white\",\"automargin\":true,\"zerolinewidth\":2},\"scene\":{\"xaxis\":{\"backgroundcolor\":\"#E5ECF6\",\"gridcolor\":\"white\",\"linecolor\":\"white\",\"showbackground\":true,\"ticks\":\"\",\"zerolinecolor\":\"white\",\"gridwidth\":2},\"yaxis\":{\"backgroundcolor\":\"#E5ECF6\",\"gridcolor\":\"white\",\"linecolor\":\"white\",\"showbackground\":true,\"ticks\":\"\",\"zerolinecolor\":\"white\",\"gridwidth\":2},\"zaxis\":{\"backgroundcolor\":\"#E5ECF6\",\"gridcolor\":\"white\",\"linecolor\":\"white\",\"showbackground\":true,\"ticks\":\"\",\"zerolinecolor\":\"white\",\"gridwidth\":2}},\"shapedefaults\":{\"line\":{\"color\":\"#2a3f5f\"}},\"annotationdefaults\":{\"arrowcolor\":\"#2a3f5f\",\"arrowhead\":0,\"arrowwidth\":1},\"geo\":{\"bgcolor\":\"white\",\"landcolor\":\"#E5ECF6\",\"subunitcolor\":\"white\",\"showland\":true,\"showlakes\":true,\"lakecolor\":\"white\"},\"title\":{\"x\":0.05},\"mapbox\":{\"style\":\"light\"}}},\"xaxis\":{\"anchor\":\"y\",\"domain\":[0.0,1.0],\"title\":{\"text\":\"x\"}},\"yaxis\":{\"anchor\":\"x\",\"domain\":[0.0,1.0],\"title\":{\"text\":\"y\"}},\"legend\":{\"tracegroupgap\":0},\"title\":{\"text\":\"Simple Bar Chart\"},\"barmode\":\"relative\"},                        {\"responsive\": true}                    ).then(function(){\n",
              "                            \n",
              "var gd = document.getElementById('6203b656-04e6-4b19-94c6-d4cdaa6c6987');\n",
              "var x = new MutationObserver(function (mutations, observer) {{\n",
              "        var display = window.getComputedStyle(gd).display;\n",
              "        if (!display || display === 'none') {{\n",
              "            console.log([gd, 'removed!']);\n",
              "            Plotly.purge(gd);\n",
              "            observer.disconnect();\n",
              "        }}\n",
              "}});\n",
              "\n",
              "// Listen for the removal of the full notebook cells\n",
              "var notebookContainer = gd.closest('#notebook-container');\n",
              "if (notebookContainer) {{\n",
              "    x.observe(notebookContainer, {childList: true});\n",
              "}}\n",
              "\n",
              "// Listen for the clearing of the current output cell\n",
              "var outputEl = gd.closest('.output');\n",
              "if (outputEl) {{\n",
              "    x.observe(outputEl, {childList: true});\n",
              "}}\n",
              "\n",
              "                        })                };                            </script>        </div>\n",
              "</body>\n",
              "</html>"
            ]
          },
          "metadata": {}
        }
      ]
    },
    {
      "cell_type": "code",
      "source": [
        "# 6. Create a DataFrame and add a new column based on an existing column.\n",
        "\n",
        "import pandas as pd\n",
        "data = {'col1': [1, 2, 3, 4], 'col2': [5, 6, 7, 8]}\n",
        "df = pd.DataFrame(data)\n",
        "print(f\"This is original DataFrame: \\n{df}\")\n",
        "# Method 1: Using direct assignment\n",
        "df['new_col1'] = df['col1'] * 2\n",
        "print(f\"\\nThis column is added through method 1: \\n{df}\")\n",
        "\n",
        "# Method 2: Using the assign method\n",
        "df = df.assign(new_col2=df['col2'] + 10)\n",
        "print(f\"\\nThis column is added through method 2: \\n{df}\")\n",
        "\n",
        "# Method 3: Using insert method to add column at specific position\n",
        "df.insert(2, 'new_col3', df['col1'] + df['col2'])\n",
        "print(f\"\\nThis column is added through method 3: \\n{df}\")"
      ],
      "metadata": {
        "colab": {
          "base_uri": "https://localhost:8080/"
        },
        "id": "mMkcvMc8gojP",
        "outputId": "28d70060-d94c-4517-c1f8-fce6f46d19a4"
      },
      "execution_count": 27,
      "outputs": [
        {
          "output_type": "stream",
          "name": "stdout",
          "text": [
            "This is original DataFrame: \n",
            "   col1  col2\n",
            "0     1     5\n",
            "1     2     6\n",
            "2     3     7\n",
            "3     4     8\n",
            "\n",
            "This column is added through method 1: \n",
            "   col1  col2  new_col1\n",
            "0     1     5         2\n",
            "1     2     6         4\n",
            "2     3     7         6\n",
            "3     4     8         8\n",
            "\n",
            "This column is added through method 2: \n",
            "   col1  col2  new_col1  new_col2\n",
            "0     1     5         2        15\n",
            "1     2     6         4        16\n",
            "2     3     7         6        17\n",
            "3     4     8         8        18\n",
            "\n",
            "This column is added through method 3: \n",
            "   col1  col2  new_col3  new_col1  new_col2\n",
            "0     1     5         6         2        15\n",
            "1     2     6         8         4        16\n",
            "2     3     7        10         6        17\n",
            "3     4     8        12         8        18\n"
          ]
        }
      ]
    },
    {
      "cell_type": "code",
      "source": [
        "# 7. Write a program to perform element-wise multiplication of two NumPy arrays.\n",
        "\n",
        "import numpy as np\n",
        "\n",
        "def multiply_arrays(array1, array2):\n",
        "    try:\n",
        "        result = np.multiply(array1, array2)\n",
        "        return result\n",
        "    except ValueError:\n",
        "        print(\"\\nError: Arrays have incompatible shapes for element-wise multiplication.\")\n",
        "        return None\n",
        "\n",
        "array1 = np.array([[1, 2], [3, 4]])\n",
        "array2 = np.array([[5, 6], [7, 8]])\n",
        "\n",
        "result_array = multiply_arrays(array1, array2)\n",
        "\n",
        "if result_array is not None:\n",
        "    print(\"Array 1:\\n\", array1)\n",
        "    print(\"\\nArray 2:\\n\", array2)\n",
        "    print(\"\\nElement-wise product:\\n\", result_array)\n",
        "\n",
        "array3 = np.array([1, 2, 3])\n",
        "array4 = np.array([4, 5, 6])\n",
        "result_array2 = multiply_arrays(array3, array4)\n",
        "\n",
        "if result_array2 is not None:\n",
        "    print(\"\\nArray 3:\\n\", array3)\n",
        "    print(\"\\nArray 4:\\n\", array4)\n",
        "    print(\"\\nElement-wise product:\\n\", result_array2)\n",
        "\n",
        "array5 = np.array([1, 2, 3])\n",
        "array6 = np.array([4, 5])\n",
        "result_array3 = multiply_arrays(array5, array6)"
      ],
      "metadata": {
        "colab": {
          "base_uri": "https://localhost:8080/"
        },
        "id": "EjMIFdgFg82G",
        "outputId": "c5a0cdde-a9ed-446c-b967-5815e2d8cef9"
      },
      "execution_count": 30,
      "outputs": [
        {
          "output_type": "stream",
          "name": "stdout",
          "text": [
            "Array 1:\n",
            " [[1 2]\n",
            " [3 4]]\n",
            "\n",
            "Array 2:\n",
            " [[5 6]\n",
            " [7 8]]\n",
            "\n",
            "Element-wise product:\n",
            " [[ 5 12]\n",
            " [21 32]]\n",
            "\n",
            "Array 3:\n",
            " [1 2 3]\n",
            "\n",
            "Array 4:\n",
            " [4 5 6]\n",
            "\n",
            "Element-wise product:\n",
            " [ 4 10 18]\n",
            "\n",
            "Error: Arrays have incompatible shapes for element-wise multiplication.\n"
          ]
        }
      ]
    },
    {
      "cell_type": "code",
      "source": [
        "# 8. Create a line plot with multiple lines using Matplotlib.\n",
        "\n",
        "import matplotlib.pyplot as plt\n",
        "import numpy as np\n",
        "\n",
        "x = np.linspace(0, 10, 100)\n",
        "y1 = np.sin(x)\n",
        "y2 = np.cos(x)\n",
        "y3 = np.sin(x) * np.cos(x)\n",
        "\n",
        "plt.plot(x, y1, label='sin(x)')\n",
        "plt.plot(x, y2, label='cos(x)')\n",
        "plt.plot(x, y3, label='sin(x) * cos(x)')\n",
        "\n",
        "plt.xlabel('x-axis')\n",
        "plt.ylabel('y-axis')\n",
        "plt.title('Multiple Line Plot')\n",
        "plt.legend()\n",
        "plt.grid(True)\n",
        "\n",
        "plt.show()"
      ],
      "metadata": {
        "colab": {
          "base_uri": "https://localhost:8080/",
          "height": 472
        },
        "id": "2neizLjpiG2k",
        "outputId": "e2cbef44-8847-4c95-f57d-360e9bd6b23c"
      },
      "execution_count": 31,
      "outputs": [
        {
          "output_type": "display_data",
          "data": {
            "text/plain": [
              "<Figure size 640x480 with 1 Axes>"
            ],
            "image/png": "[encoded data removed]"
          },
          "metadata": {}
        }
      ]
    },
    {
      "cell_type": "code",
      "source": [
        "# 9. Generate a Pandas DataFrame and filter rows where a column value is greater than a threshold.\n",
        "\n",
        "import pandas as pd\n",
        "data = {'col1': [1, 2, 3, 4, 5],\n",
        "        'col2': [6, 7, 8, 9, 10]}\n",
        "df = pd.DataFrame(data)\n",
        "threshold = 3\n",
        "filtered_df = df[df['col1'] > threshold]\n",
        "\n",
        "print(\"Original DataFrame:\")\n",
        "print(df)\n",
        "print(\"\\nFiltered DataFrame (col1 > {}):\".format(threshold))\n",
        "print(filtered_df)"
      ],
      "metadata": {
        "colab": {
          "base_uri": "https://localhost:8080/"
        },
        "id": "hZd9WEMAinsD",
        "outputId": "14506d84-772f-4722-8f68-2c2a9bc22b2e"
      },
      "execution_count": 32,
      "outputs": [
        {
          "output_type": "stream",
          "name": "stdout",
          "text": [
            "Original DataFrame:\n",
            "   col1  col2\n",
            "0     1     6\n",
            "1     2     7\n",
            "2     3     8\n",
            "3     4     9\n",
            "4     5    10\n",
            "\n",
            "Filtered DataFrame (col1 > 3):\n",
            "   col1  col2\n",
            "3     4     9\n",
            "4     5    10\n"
          ]
        }
      ]
    },
    {
      "cell_type": "code",
      "source": [
        "# 10. Create a histogram using Seaborn to visualize a distribution.\n",
        "\n",
        "import seaborn as sns\n",
        "import matplotlib.pyplot as plt\n",
        "\n",
        "data = [1, 1, 2, 2, 2, 3, 3, 4, 5]\n",
        "\n",
        "sns.histplot(data=data)\n",
        "plt.show()"
      ],
      "metadata": {
        "colab": {
          "base_uri": "https://localhost:8080/",
          "height": 430
        },
        "id": "FMbVtJx0i6bx",
        "outputId": "ae3f2e22-804c-4529-a6bb-de5fb2a1d54b"
      },
      "execution_count": 33,
      "outputs": [
        {
          "output_type": "display_data",
          "data": {
            "text/plain": [
              "<Figure size 640x480 with 1 Axes>"
            ],
            "image/png": "[encoded data removed]"
          },
          "metadata": {}
        }
      ]
    },
    {
      "cell_type": "code",
      "source": [
        "# 11. Perform matrix multiplication using NumPy.\n",
        "\n",
        "import numpy as np\n",
        "matrix1 = np.array([[1, 2], [3, 4]])\n",
        "matrix2 = np.array([[5, 6], [7, 8]])\n",
        "print(f\"The matrix1 is: {matrix1} and matrix2 is: {matrix2}\")\n",
        "result = np.dot(matrix1, matrix2)\n",
        "print(f\"This is the 1st mesthod of Matrix multiplication: {result}\")\n",
        "\n",
        "result1 = np.matmul(matrix1, matrix2)  # Matrix multiplication\n",
        "print(f\"This is the 1st mesthod of Matrix multiplication: {result1}\")\n",
        "\n",
        "result2 = matrix1 @ matrix2  # Matrix multiplication\n",
        "print(f\"This is the 1st mesthod of Matrix multiplication: {result2}\")"
      ],
      "metadata": {
        "colab": {
          "base_uri": "https://localhost:8080/"
        },
        "id": "MVdAAaVwjMKC",
        "outputId": "edf5670b-258c-4a91-bf4f-b3510e151aaa"
      },
      "execution_count": 38,
      "outputs": [
        {
          "output_type": "stream",
          "name": "stdout",
          "text": [
            "The matrix1 is: [[1 2]\n",
            " [3 4]] and matrix2 is: [[5 6]\n",
            " [7 8]]\n",
            "This is the 1st mesthod of Matrix multiplication: [[19 22]\n",
            " [43 50]]\n",
            "This is the 1st mesthod of Matrix multiplication: [[19 22]\n",
            " [43 50]]\n",
            "This is the 1st mesthod of Matrix multiplication: [[19 22]\n",
            " [43 50]]\n"
          ]
        }
      ]
    },
    {
      "cell_type": "code",
      "source": [
        "# 12. Use Pandas to load a CSV file and display its first 5 rows.\n",
        "\n",
        "import pandas as pd\n",
        "\n",
        "file_path = 'https://raw.githubusercontent.com/datasciencedojo/datasets/master/titanic.csv'\n",
        "\n",
        "df = pd.read_csv(file_path)\n",
        "\n",
        "print(df.head())"
      ],
      "metadata": {
        "colab": {
          "base_uri": "https://localhost:8080/"
        },
        "id": "3nTT6pigj8g0",
        "outputId": "0753338b-e4f4-4f82-9dba-a3c8c5ccf400"
      },
      "execution_count": 40,
      "outputs": [
        {
          "output_type": "stream",
          "name": "stdout",
          "text": [
            "   PassengerId  Survived  Pclass  \\\n",
            "0            1         0       3   \n",
            "1            2         1       1   \n",
            "2            3         1       3   \n",
            "3            4         1       1   \n",
            "4            5         0       3   \n",
            "\n",
            "                                                Name     Sex   Age  SibSp  \\\n",
            "0                            Braund, Mr. Owen Harris    male  22.0      1   \n",
            "1  Cumings, Mrs. John Bradley (Florence Briggs Th...  female  38.0      1   \n",
            "2                             Heikkinen, Miss. Laina  female  26.0      0   \n",
            "3       Futrelle, Mrs. Jacques Heath (Lily May Peel)  female  35.0      1   \n",
            "4                           Allen, Mr. William Henry    male  35.0      0   \n",
            "\n",
            "   Parch            Ticket     Fare Cabin Embarked  \n",
            "0      0         A/5 21171   7.2500   NaN        S  \n",
            "1      0          PC 17599  71.2833   C85        C  \n",
            "2      0  STON/O2. 3101282   7.9250   NaN        S  \n",
            "3      0            113803  53.1000  C123        S  \n",
            "4      0            373450   8.0500   NaN        S  \n"
          ]
        }
      ]
    },
    {
      "cell_type": "code",
      "source": [
        "# 13. Create a 3D scatter plot using Plotly.\n",
        "\n",
        "import plotly.express as px\n",
        "import pandas as pd\n",
        "data = {'x': [1, 2, 3, 4, 5],\n",
        "        'y': [6, 7, 2, 4, 5],\n",
        "        'z': [10, 5, 12, 13, 14],\n",
        "        'color': ['A', 'B', 'A', 'C', 'B']}\n",
        "df = pd.DataFrame(data)\n",
        "fig = px.scatter_3d(df, x='x', y='y', z='z', color='color',\n",
        "                  title='3D Scatter Plot')\n",
        "fig.show()"
      ],
      "metadata": {
        "colab": {
          "base_uri": "https://localhost:8080/",
          "height": 542
        },
        "id": "BI28rKpYkzCQ",
        "outputId": "0aedd662-5ab6-4687-bd2e-4b9baac9847d"
      },
      "execution_count": 41,
      "outputs": [
        {
          "output_type": "display_data",
          "data": {
            "text/html": [
              "<html>\n",
              "<head><meta charset=\"utf-8\" /></head>\n",
              "<body>\n",
              "    <div>            <script src=\"https://cdnjs.cloudflare.com/ajax/libs/mathjax/2.7.5/MathJax.js?config=TeX-AMS-MML_SVG\"></script><script type=\"text/javascript\">if (window.MathJax && window.MathJax.Hub && window.MathJax.Hub.Config) {window.MathJax.Hub.Config({SVG: {font: \"STIX-Web\"}});}</script>                <script type=\"text/javascript\">window.PlotlyConfig = {MathJaxConfig: 'local'};</script>\n",
              "        <script charset=\"utf-8\" src=\"https://cdn.plot.ly/plotly-2.35.2.min.js\"></script>                <div id=\"45617e70-771e-4167-b6e8-45b0ba0df968\" class=\"plotly-graph-div\" style=\"height:525px; width:100%;\"></div>            <script type=\"text/javascript\">                                    window.PLOTLYENV=window.PLOTLYENV || {};                                    if (document.getElementById(\"45617e70-771e-4167-b6e8-45b0ba0df968\")) {                    Plotly.newPlot(                        \"45617e70-771e-4167-b6e8-45b0ba0df968\",                        [{\"hovertemplate\":\"color=A\\u003cbr\\u003ex=%{x}\\u003cbr\\u003ey=%{y}\\u003cbr\\u003ez=%{z}\\u003cextra\\u003e\\u003c\\u002fextra\\u003e\",\"legendgroup\":\"A\",\"marker\":{\"color\":\"#636efa\",\"symbol\":\"circle\"},\"mode\":\"markers\",\"name\":\"A\",\"scene\":\"scene\",\"showlegend\":true,\"x\":[1,3],\"y\":[6,2],\"z\":[10,12],\"type\":\"scatter3d\"},{\"hovertemplate\":\"color=B\\u003cbr\\u003ex=%{x}\\u003cbr\\u003ey=%{y}\\u003cbr\\u003ez=%{z}\\u003cextra\\u003e\\u003c\\u002fextra\\u003e\",\"legendgroup\":\"B\",\"marker\":{\"color\":\"#EF553B\",\"symbol\":\"circle\"},\"mode\":\"markers\",\"name\":\"B\",\"scene\":\"scene\",\"showlegend\":true,\"x\":[2,5],\"y\":[7,5],\"z\":[5,14],\"type\":\"scatter3d\"},{\"hovertemplate\":\"color=C\\u003cbr\\u003ex=%{x}\\u003cbr\\u003ey=%{y}\\u003cbr\\u003ez=%{z}\\u003cextra\\u003e\\u003c\\u002fextra\\u003e\",\"legendgroup\":\"C\",\"marker\":{\"color\":\"#00cc96\",\"symbol\":\"circle\"},\"mode\":\"markers\",\"name\":\"C\",\"scene\":\"scene\",\"showlegend\":true,\"x\":[4],\"y\":[4],\"z\":[13],\"type\":\"scatter3d\"}],                        {\"template\":{\"data\":{\"histogram2dcontour\":[{\"type\":\"histogram2dcontour\",\"colorbar\":{\"outlinewidth\":0,\"ticks\":\"\"},\"colorscale\":[[0.0,\"#0d0887\"],[0.1111111111111111,\"#46039f\"],[0.2222222222222222,\"#7201a8\"],[0.3333333333333333,\"#9c179e\"],[0.4444444444444444,\"#bd3786\"],[0.5555555555555556,\"#d8576b\"],[0.6666666666666666,\"#ed7953\"],[0.7777777777777778,\"#fb9f3a\"],[0.8888888888888888,\"#fdca26\"],[1.0,\"#f0f921\"]]}],\"choropleth\":[{\"type\":\"choropleth\",\"colorbar\":{\"outlinewidth\":0,\"ticks\":\"\"}}],\"histogram2d\":[{\"type\":\"histogram2d\",\"colorbar\":{\"outlinewidth\":0,\"ticks\":\"\"},\"colorscale\":[[0.0,\"#0d0887\"],[0.1111111111111111,\"#46039f\"],[0.2222222222222222,\"#7201a8\"],[0.3333333333333333,\"#9c179e\"],[0.4444444444444444,\"#bd3786\"],[0.5555555555555556,\"#d8576b\"],[0.6666666666666666,\"#ed7953\"],[0.7777777777777778,\"#fb9f3a\"],[0.8888888888888888,\"#fdca26\"],[1.0,\"#f0f921\"]]}],\"heatmap\":[{\"type\":\"heatmap\",\"colorbar\":{\"outlinewidth\":0,\"ticks\":\"\"},\"colorscale\":[[0.0,\"#0d0887\"],[0.1111111111111111,\"#46039f\"],[0.2222222222222222,\"#7201a8\"],[0.3333333333333333,\"#9c179e\"],[0.4444444444444444,\"#bd3786\"],[0.5555555555555556,\"#d8576b\"],[0.6666666666666666,\"#ed7953\"],[0.7777777777777778,\"#fb9f3a\"],[0.8888888888888888,\"#fdca26\"],[1.0,\"#f0f921\"]]}],\"heatmapgl\":[{\"type\":\"heatmapgl\",\"colorbar\":{\"outlinewidth\":0,\"ticks\":\"\"},\"colorscale\":[[0.0,\"#0d0887\"],[0.1111111111111111,\"#46039f\"],[0.2222222222222222,\"#7201a8\"],[0.3333333333333333,\"#9c179e\"],[0.4444444444444444,\"#bd3786\"],[0.5555555555555556,\"#d8576b\"],[0.6666666666666666,\"#ed7953\"],[0.7777777777777778,\"#fb9f3a\"],[0.8888888888888888,\"#fdca26\"],[1.0,\"#f0f921\"]]}],\"contourcarpet\":[{\"type\":\"contourcarpet\",\"colorbar\":{\"outlinewidth\":0,\"ticks\":\"\"}}],\"contour\":[{\"type\":\"contour\",\"colorbar\":{\"outlinewidth\":0,\"ticks\":\"\"},\"colorscale\":[[0.0,\"#0d0887\"],[0.1111111111111111,\"#46039f\"],[0.2222222222222222,\"#7201a8\"],[0.3333333333333333,\"#9c179e\"],[0.4444444444444444,\"#bd3786\"],[0.5555555555555556,\"#d8576b\"],[0.6666666666666666,\"#ed7953\"],[0.7777777777777778,\"#fb9f3a\"],[0.8888888888888888,\"#fdca26\"],[1.0,\"#f0f921\"]]}],\"surface\":[{\"type\":\"surface\",\"colorbar\":{\"outlinewidth\":0,\"ticks\":\"\"},\"colorscale\":[[0.0,\"#0d0887\"],[0.1111111111111111,\"#46039f\"],[0.2222222222222222,\"#7201a8\"],[0.3333333333333333,\"#9c179e\"],[0.4444444444444444,\"#bd3786\"],[0.5555555555555556,\"#d8576b\"],[0.6666666666666666,\"#ed7953\"],[0.7777777777777778,\"#fb9f3a\"],[0.8888888888888888,\"#fdca26\"],[1.0,\"#f0f921\"]]}],\"mesh3d\":[{\"type\":\"mesh3d\",\"colorbar\":{\"outlinewidth\":0,\"ticks\":\"\"}}],\"scatter\":[{\"fillpattern\":{\"fillmode\":\"overlay\",\"size\":10,\"solidity\":0.2},\"type\":\"scatter\"}],\"parcoords\":[{\"type\":\"parcoords\",\"line\":{\"colorbar\":{\"outlinewidth\":0,\"ticks\":\"\"}}}],\"scatterpolargl\":[{\"type\":\"scatterpolargl\",\"marker\":{\"colorbar\":{\"outlinewidth\":0,\"ticks\":\"\"}}}],\"bar\":[{\"error_x\":{\"color\":\"#2a3f5f\"},\"error_y\":{\"color\":\"#2a3f5f\"},\"marker\":{\"line\":{\"color\":\"#E5ECF6\",\"width\":0.5},\"pattern\":{\"fillmode\":\"overlay\",\"size\":10,\"solidity\":0.2}},\"type\":\"bar\"}],\"scattergeo\":[{\"type\":\"scattergeo\",\"marker\":{\"colorbar\":{\"outlinewidth\":0,\"ticks\":\"\"}}}],\"scatterpolar\":[{\"type\":\"scatterpolar\",\"marker\":{\"colorbar\":{\"outlinewidth\":0,\"ticks\":\"\"}}}],\"histogram\":[{\"marker\":{\"pattern\":{\"fillmode\":\"overlay\",\"size\":10,\"solidity\":0.2}},\"type\":\"histogram\"}],\"scattergl\":[{\"type\":\"scattergl\",\"marker\":{\"colorbar\":{\"outlinewidth\":0,\"ticks\":\"\"}}}],\"scatter3d\":[{\"type\":\"scatter3d\",\"line\":{\"colorbar\":{\"outlinewidth\":0,\"ticks\":\"\"}},\"marker\":{\"colorbar\":{\"outlinewidth\":0,\"ticks\":\"\"}}}],\"scattermapbox\":[{\"type\":\"scattermapbox\",\"marker\":{\"colorbar\":{\"outlinewidth\":0,\"ticks\":\"\"}}}],\"scatterternary\":[{\"type\":\"scatterternary\",\"marker\":{\"colorbar\":{\"outlinewidth\":0,\"ticks\":\"\"}}}],\"scattercarpet\":[{\"type\":\"scattercarpet\",\"marker\":{\"colorbar\":{\"outlinewidth\":0,\"ticks\":\"\"}}}],\"carpet\":[{\"aaxis\":{\"endlinecolor\":\"#2a3f5f\",\"gridcolor\":\"white\",\"linecolor\":\"white\",\"minorgridcolor\":\"white\",\"startlinecolor\":\"#2a3f5f\"},\"baxis\":{\"endlinecolor\":\"#2a3f5f\",\"gridcolor\":\"white\",\"linecolor\":\"white\",\"minorgridcolor\":\"white\",\"startlinecolor\":\"#2a3f5f\"},\"type\":\"carpet\"}],\"table\":[{\"cells\":{\"fill\":{\"color\":\"#EBF0F8\"},\"line\":{\"color\":\"white\"}},\"header\":{\"fill\":{\"color\":\"#C8D4E3\"},\"line\":{\"color\":\"white\"}},\"type\":\"table\"}],\"barpolar\":[{\"marker\":{\"line\":{\"color\":\"#E5ECF6\",\"width\":0.5},\"pattern\":{\"fillmode\":\"overlay\",\"size\":10,\"solidity\":0.2}},\"type\":\"barpolar\"}],\"pie\":[{\"automargin\":true,\"type\":\"pie\"}]},\"layout\":{\"autotypenumbers\":\"strict\",\"colorway\":[\"#636efa\",\"#EF553B\",\"#00cc96\",\"#ab63fa\",\"#FFA15A\",\"#19d3f3\",\"#FF6692\",\"#B6E880\",\"#FF97FF\",\"#FECB52\"],\"font\":{\"color\":\"#2a3f5f\"},\"hovermode\":\"closest\",\"hoverlabel\":{\"align\":\"left\"},\"paper_bgcolor\":\"white\",\"plot_bgcolor\":\"#E5ECF6\",\"polar\":{\"bgcolor\":\"#E5ECF6\",\"angularaxis\":{\"gridcolor\":\"white\",\"linecolor\":\"white\",\"ticks\":\"\"},\"radialaxis\":{\"gridcolor\":\"white\",\"linecolor\":\"white\",\"ticks\":\"\"}},\"ternary\":{\"bgcolor\":\"#E5ECF6\",\"aaxis\":{\"gridcolor\":\"white\",\"linecolor\":\"white\",\"ticks\":\"\"},\"baxis\":{\"gridcolor\":\"white\",\"linecolor\":\"white\",\"ticks\":\"\"},\"caxis\":{\"gridcolor\":\"white\",\"linecolor\":\"white\",\"ticks\":\"\"}},\"coloraxis\":{\"colorbar\":{\"outlinewidth\":0,\"ticks\":\"\"}},\"colorscale\":{\"sequential\":[[0.0,\"#0d0887\"],[0.1111111111111111,\"#46039f\"],[0.2222222222222222,\"#7201a8\"],[0.3333333333333333,\"#9c179e\"],[0.4444444444444444,\"#bd3786\"],[0.5555555555555556,\"#d8576b\"],[0.6666666666666666,\"#ed7953\"],[0.7777777777777778,\"#fb9f3a\"],[0.8888888888888888,\"#fdca26\"],[1.0,\"#f0f921\"]],\"sequentialminus\":[[0.0,\"#0d0887\"],[0.1111111111111111,\"#46039f\"],[0.2222222222222222,\"#7201a8\"],[0.3333333333333333,\"#9c179e\"],[0.4444444444444444,\"#bd3786\"],[0.5555555555555556,\"#d8576b\"],[0.6666666666666666,\"#ed7953\"],[0.7777777777777778,\"#fb9f3a\"],[0.8888888888888888,\"#fdca26\"],[1.0,\"#f0f921\"]],\"diverging\":[[0,\"#8e0152\"],[0.1,\"#c51b7d\"],[0.2,\"#de77ae\"],[0.3,\"#f1b6da\"],[0.4,\"#fde0ef\"],[0.5,\"#f7f7f7\"],[0.6,\"#e6f5d0\"],[0.7,\"#b8e186\"],[0.8,\"#7fbc41\"],[0.9,\"#4d9221\"],[1,\"#276419\"]]},\"xaxis\":{\"gridcolor\":\"white\",\"linecolor\":\"white\",\"ticks\":\"\",\"title\":{\"standoff\":15},\"zerolinecolor\":\"white\",\"automargin\":true,\"zerolinewidth\":2},\"yaxis\":{\"gridcolor\":\"white\",\"linecolor\":\"white\",\"ticks\":\"\",\"title\":{\"standoff\":15},\"zerolinecolor\":\"white\",\"automargin\":true,\"zerolinewidth\":2},\"scene\":{\"xaxis\":{\"backgroundcolor\":\"#E5ECF6\",\"gridcolor\":\"white\",\"linecolor\":\"white\",\"showbackground\":true,\"ticks\":\"\",\"zerolinecolor\":\"white\",\"gridwidth\":2},\"yaxis\":{\"backgroundcolor\":\"#E5ECF6\",\"gridcolor\":\"white\",\"linecolor\":\"white\",\"showbackground\":true,\"ticks\":\"\",\"zerolinecolor\":\"white\",\"gridwidth\":2},\"zaxis\":{\"backgroundcolor\":\"#E5ECF6\",\"gridcolor\":\"white\",\"linecolor\":\"white\",\"showbackground\":true,\"ticks\":\"\",\"zerolinecolor\":\"white\",\"gridwidth\":2}},\"shapedefaults\":{\"line\":{\"color\":\"#2a3f5f\"}},\"annotationdefaults\":{\"arrowcolor\":\"#2a3f5f\",\"arrowhead\":0,\"arrowwidth\":1},\"geo\":{\"bgcolor\":\"white\",\"landcolor\":\"#E5ECF6\",\"subunitcolor\":\"white\",\"showland\":true,\"showlakes\":true,\"lakecolor\":\"white\"},\"title\":{\"x\":0.05},\"mapbox\":{\"style\":\"light\"}}},\"scene\":{\"domain\":{\"x\":[0.0,1.0],\"y\":[0.0,1.0]},\"xaxis\":{\"title\":{\"text\":\"x\"}},\"yaxis\":{\"title\":{\"text\":\"y\"}},\"zaxis\":{\"title\":{\"text\":\"z\"}}},\"legend\":{\"title\":{\"text\":\"color\"},\"tracegroupgap\":0},\"title\":{\"text\":\"3D Scatter Plot\"}},                        {\"responsive\": true}                    ).then(function(){\n",
              "                            \n",
              "var gd = document.getElementById('45617e70-771e-4167-b6e8-45b0ba0df968');\n",
              "var x = new MutationObserver(function (mutations, observer) {{\n",
              "        var display = window.getComputedStyle(gd).display;\n",
              "        if (!display || display === 'none') {{\n",
              "            console.log([gd, 'removed!']);\n",
              "            Plotly.purge(gd);\n",
              "            observer.disconnect();\n",
              "        }}\n",
              "}});\n",
              "\n",
              "// Listen for the removal of the full notebook cells\n",
              "var notebookContainer = gd.closest('#notebook-container');\n",
              "if (notebookContainer) {{\n",
              "    x.observe(notebookContainer, {childList: true});\n",
              "}}\n",
              "\n",
              "// Listen for the clearing of the current output cell\n",
              "var outputEl = gd.closest('.output');\n",
              "if (outputEl) {{\n",
              "    x.observe(outputEl, {childList: true});\n",
              "}}\n",
              "\n",
              "                        })                };                            </script>        </div>\n",
              "</body>\n",
              "</html>"
            ]
          },
          "metadata": {}
        }
      ]
    },
    {
      "cell_type": "code",
      "source": [],
      "metadata": {
        "id": "Zij3hkpVlL0r"
      },
      "execution_count": 42,
      "outputs": []
    },
    {
      "cell_type": "code",
      "source": [],
      "metadata": {
        "id": "rXjpdgDUlT3q"
      },
      "execution_count": null,
      "outputs": []
    }
  ]
}