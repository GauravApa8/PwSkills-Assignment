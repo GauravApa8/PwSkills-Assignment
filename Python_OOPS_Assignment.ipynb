{
  "nbformat": 4,
  "nbformat_minor": 0,
  "metadata": {
    "colab": {
      "provenance": []
    },
    "kernelspec": {
      "name": "python3",
      "display_name": "Python 3"
    },
    "language_info": {
      "name": "python"
    }
  },
  "cells": [
    {
      "cell_type": "markdown",
      "source": [
        "**Python OOPs Questions**"
      ],
      "metadata": {
        "id": "dPgPHZxrWSku"
      }
    },
    {
      "cell_type": "markdown",
      "source": [
        "1.  What is Object-Oriented Programming (OOP)?  \n",
        "Ans. Object-oriented programming (OOP) is a programming paradigm that organizes code into reusable units called \"objects.\" These objects contain both data (attributes) and the actions (methods) that can be performed on that data."
      ],
      "metadata": {
        "id": "IQhfYOBeWayR"
      }
    },
    {
      "cell_type": "markdown",
      "source": [
        "2. What is a class in OOP?  \n",
        "Ans. A class in Python, fundamental to object-oriented programming (OOP), serves as a blueprint for creating objects. It encapsulates data (attributes) and behaviors (methods) into a single unit. Classes facilitate code reusability and organization."
      ],
      "metadata": {
        "id": "cTs8l2VIWtvT"
      }
    },
    {
      "cell_type": "markdown",
      "source": [
        "3. What is an object in OOP?  \n",
        "Ans. In Python, an object is a fundamental concept in object-oriented programming (OOP). It is an instance of a class, which is a blueprint for creating objects. Objects encapsulate data (attributes) and behavior (methods) into a single unit.  \n",
        "Every object has three key characteristics:  \n",
        "Identity: A unique identifier that distinguishes it from other objects.  \n",
        "State: The set of attributes that define the object's current condition.\n",
        "\n",
        " Behavior: The set of methods that define what the object can do."
      ],
      "metadata": {
        "id": "l_wJpf_yXExM"
      }
    },
    {
      "cell_type": "markdown",
      "source": [
        "4. What is the difference between abstraction and encapsulation?  \n",
        "Ans. Abstraction and encapsulation are fundamental concepts in object-oriented programming, serving distinct purposes in managing complexity and data integrity.  \n",
        "\n",
        "Abstraction focuses on presenting only essential information to the user, hiding complex implementation details. It simplifies interaction with objects by providing a high-level view of their functionality. Abstraction is achieved through abstract classes, interfaces, and methods, defining a contract for what an object does rather than how it does it.  \n",
        "\n",
        "Encapsulation, on the other hand, involves bundling data and methods that operate on that data within a single unit (a class). It controls access to the data, preventing unauthorized modification and ensuring data integrity. Encapsulation is implemented using access modifiers (e.g., private, protected) to restrict direct access to certain attributes and methods, requiring interaction through defined interfaces.  \n",
        "\n",
        "The key difference lies in their focus: abstraction manages complexity by hiding implementation details, while encapsulation protects data by controlling access. Abstraction deals with what an object does, while encapsulation deals with how it does it. Encapsulation can be seen as a way to achieve data abstraction."
      ],
      "metadata": {
        "id": "BT1w_2JZXl2-"
      }
    },
    {
      "cell_type": "markdown",
      "source": [
        "5.  What are dunder methods in Python?  \n",
        "Ans. Dunder methods, also known as magic methods, are special methods in Python that begin and end with double underscores (e.g., __init__, __str__, __len__). They provide a way to define how objects of a class should behave with built-in operators and functions. These methods enable operator overloading, allowing custom classes to support operations like addition, subtraction, comparison, and more.  \n",
        "Some common dunder methods include:  \n",
        "__init__: Constructor for initializing objects.  \n",
        "__str__: Returns a string representation of the object for users.  \n",
        "__repr__: Returns a string representation of the object for developers.  \n",
        "__len__: Returns the length of the object.  \n",
        "__getitem__: Enables indexing and slicing.  \n",
        "__setitem__: Enables assignment to indexed elements.  \n",
        "__delitem__: Enables deletion of indexed elements.  \n",
        "__add__: Defines addition behavior.  \n",
        "__sub__: Defines subtraction behavior.  \n",
        "__mul__: Defines multiplication behavior.  \n",
        "__eq__: Defines equality comparison.  \n",
        "__lt__: Defines less-than comparison.  \n",
        "Dunder methods are automatically called by the Python interpreter when their corresponding operations are performed, facilitating seamless integration between user-defined classes and Python's built-in functionalities."
      ],
      "metadata": {
        "id": "vBH6xG3zYGxv"
      }
    },
    {
      "cell_type": "markdown",
      "source": [
        "6.  Explain the concept of inheritance in OOP.  \n",
        "Ans. Inheritance is a fundamental concept in object-oriented programming (OOP) that allows a class (called a child or derived class) to inherit attributes and methods from another class (called a parent or base class). This promotes code reuse, modularity, and a hierarchical class structure."
      ],
      "metadata": {
        "id": "ciwBHYZgZAGA"
      }
    },
    {
      "cell_type": "markdown",
      "source": [
        "7. What is polymorphism in OOP?  \n",
        "Ans. Polymorphism, derived from the Greek words \"poly\" (many) and \"morph\" (form), refers to the ability of a single entity (like a function, method, or object) to take on multiple forms or behaviors. In Python, polymorphism is a core concept of object-oriented programming (OOP) that enables code flexibility and reusability. It allows objects of different classes to respond to the same method call in a way that is appropriate for their specific type.  \n",
        "There are two main types of polymorphism in Python:    \n",
        "*   Compile-time Polymorphism (Method Overloading):\n",
        "*   Runtime Polymorphism (Method Overriding):"
      ],
      "metadata": {
        "id": "20RUD98qZ5Z1"
      }
    },
    {
      "cell_type": "markdown",
      "source": [
        "8.  How is encapsulation achieved in Python?  \n",
        "Ans. Encapsulation in Python is achieved by bundling data (attributes) and methods that operate on that data within a class, restricting direct access to some of the class's components. This mechanism is implemented using access modifiers, primarily through naming conventions, as Python doesn't enforce access restrictions as strictly as some other languages.  \n",
        "Public Members:   \n",
        "\n",
        "*   By default, all attributes and methods in Python are public. They can be accessed from anywhere, both inside and outside the class.\n",
        "Protected Members:\n",
        "\n",
        "*   Attributes or methods prefixed with a single underscore (_) are considered protected. This indicates they are intended for internal use within the class and its subclasses, but can still be accessed from outside.\n",
        "Private Members:\n",
        "*   Attributes or methods prefixed with double underscores (__) are treated as private. Python applies name mangling to these members, making it harder (but not impossible) to access them directly from outside the class.\n",
        "\n",
        "  \n",
        "\n"
      ],
      "metadata": {
        "id": "V8BVblC5avBo"
      }
    },
    {
      "cell_type": "markdown",
      "source": [
        "9. What is a constructor in Python?  \n",
        "Ans. A constructor in Python is a special method used to initialize objects of a class. It is automatically called when an object is created. The constructor's primary purpose is to set up the initial state of the object by assigning values to its attributes. In Python, the constructor is named (____init__)."
      ],
      "metadata": {
        "id": "e-NFoSuieRNa"
      }
    },
    {
      "cell_type": "markdown",
      "source": [
        "10.  What are class and static methods in Python?  \n",
        "Ans. In Python, class and static methods are special types of methods bound to a class rather than an instance of the class. They serve different purposes and are defined using decorators.  \n",
        "Class Methods:  \n",
        "A class method is defined using the @classmethod decorator. It receives the class itself as the first argument, conventionally named cls. Class methods can access and modify class-level attributes and are often used as factory methods or for operations that pertain to the class as a whole.  \n",
        "Static Methods:  \n",
        "A static method is defined using the @staticmethod decorator. It does not receive any implicit first argument (neither the instance nor the class). Static methods are essentially functions that are grouped within a class because they logically belong there. They cannot access or modify class or instance attributes."
      ],
      "metadata": {
        "id": "6MXlkuAoelMx"
      }
    },
    {
      "cell_type": "markdown",
      "source": [
        "11. What is method overloading in Python?  \n",
        "Ans. Method overloading in Python refers to the possibility of defining multiple methods with the same name within a class, where each method has a different number or type of parameters. However, Python does not natively support method overloading in the same way as some other languages like Java or C++. Instead, it achieves similar functionality through techniques like default arguments or variable arguments.  \n",
        "When multiple methods with the same name are defined, Python only retains the most recently defined one. This means that directly defining multiple methods with the same name but different signatures will not result in traditional method overloading.  \n",
        "To simulate method overloading, one can use default arguments. By providing default values for some or all of the parameters, a single method can handle different numbers of arguments. Another approach involves using variable arguments (*args and **kwargs), which allows a method to accept an arbitrary number of positional or keyword arguments, respectively. Inside the method, the logic can then be adjusted based on the arguments received."
      ],
      "metadata": {
        "id": "PHWyBTJofcnN"
      }
    },
    {
      "cell_type": "markdown",
      "source": [
        "12. What is method overriding in OOP?  \n",
        "Ans. Method overriding in Python is a feature of object-oriented programming that allows a subclass to provide a specific implementation for a method that is already defined in its superclass. When a method in a subclass has the same name, parameters, and return type as a method in its superclass, the subclass method overrides the superclass method. This means that when the method is called on an object of the subclass, the subclass's version of the method will be executed instead of the superclass's version."
      ],
      "metadata": {
        "id": "qgoRFZlMf3tM"
      }
    },
    {
      "cell_type": "markdown",
      "source": [
        "13.  What is a property decorator in Python?  \n",
        "Ans. In Python, a property decorator is a built-in feature that allows methods to be accessed like attributes. It provides a way to encapsulate the implementation details of getting, setting, or deleting an attribute while presenting a clean and intuitive interface to the user. The @property decorator is used in conjunction with getter, setter, and deleter methods to manage attribute access and modification."
      ],
      "metadata": {
        "id": "3VJYMlGagJmg"
      }
    },
    {
      "cell_type": "markdown",
      "source": [
        "14. Why is polymorphism important in OOP?  \n",
        "Ans. Polymorphism, meaning \"many forms,\" is a core principle in object-oriented programming (OOP) that allows objects of different classes to be treated as objects of a common type. In Python, this is crucial for writing flexible and maintainable code.  \n",
        "The importance of polymorphism in Python OOP includes:  \n",
        "Code reusability: Write generic code that works with objects of different classes.  \n",
        "Flexibility: Easily add new classes without modifying existing code.\n",
        "\n",
        " Maintainability: Reduce code duplication and improve code organization.  \n",
        " Extensibility: Extend functionality by creating new subclasses that implement specific behaviors.  \n",
        "Abstraction: Focus on the common interface rather than the specific implementation details."
      ],
      "metadata": {
        "id": "csFfYZtIgaFI"
      }
    },
    {
      "cell_type": "markdown",
      "source": [
        "15.  What is an abstract class in Python?  \n",
        "Ans. An abstract class in Python serves as a blueprint for other classes, defining methods that subclasses must implement. It cannot be instantiated directly and is created using the abc (Abstract Base Classes) module. Abstract classes can contain abstract methods, which are declared but lack implementation, requiring subclasses to provide concrete implementations.  \n",
        "To define an abstract class, it should inherit from abc.ABC. Abstract methods are marked with the @abstractmethod decorator. If a subclass fails to implement all abstract methods from its abstract base class, it also becomes an abstract class. Attempting to instantiate an abstract class directly will result in a TypeError."
      ],
      "metadata": {
        "id": "aEy0FOkjhC_M"
      }
    },
    {
      "cell_type": "markdown",
      "source": [
        "16. What are the advantages of OOP?  \n",
        "Ans. Object-oriented programming (OOP) offers numerous advantages in Python, including increased code organization, reusability, and scalability. OOP allows you to break down complex problems into manageable objects, making code easier to understand, maintain, and debug.  \n",
        "\n",
        "\n",
        "1.   Code Organization and Maintainability:\n",
        "*   Modularity:  \n",
        "OOP promotes modularity by grouping related data and behaviors into objects, making it easier to manage and maintain large projects.\n",
        "*   Reduced Redundancy:  \n",
        "Code reuse through inheritance and encapsulation minimizes redundant code, saving development time and effort.\n",
        "*   Simplified Debugging:  \n",
        "OOP makes it easier to identify and fix errors by isolating bugs within specific objects, reducing the need to review unrelated code.\n",
        "*   Improved Structure:  \n",
        "OOP provides a clear and structured way to organize code, making it easier for developers to understand and maintain the codebase.\n",
        "\n",
        "2.   Code Reusability and Scalability:  \n",
        "*   Inheritance:  \n",
        "Inheritance allows classes to inherit attributes and methods from other classes, enabling code reuse and reducing redundancy.\n",
        "*   Scalability:  \n",
        "OOP makes it easier to extend and modify applications by adding new features and functionality without disrupting existing code.\n",
        "*   Flexibility:  \n",
        "OOP's concepts like polymorphism offer flexibility in how objects interact and can be used in different contexts.\n",
        "3.   Enhanced Productivity and Security:  \n",
        "*   Increased Productivity:  \n",
        "OOP practices, such as code reusability and modularity, can significantly increase developer productivity.\n",
        "*   Improved Security:  \n",
        "OOP concepts like encapsulation and abstraction can enhance security by hiding sensitive data and controlling access to it.\n",
        "*   Easier Problem Solving:  \n",
        "OOP allows you to break down complex problems into smaller, manageable objects, making it easier to solve.\n",
        "\n",
        "\n",
        "\n",
        "\n",
        "\n",
        "\n",
        "\n",
        "\n"
      ],
      "metadata": {
        "id": "uOXSvPkNhXSU"
      }
    },
    {
      "cell_type": "markdown",
      "source": [
        "17. What is the difference between a class variable and an instance variable?  \n",
        "Ans. The key difference between class and instance variables lies in their scope and how they are accessed. Class variables are shared among all instances of a class, while instance variables are unique to each instance.  \n",
        "Class Variables:  \n",
        "*   Defined within a class but outside any methods.\n",
        "*   Shared by all instances of the class.\n",
        "*   Accessed using the class name or an instance of the class.\n",
        "*   Changes made to a class variable affect all instances.  \n",
        "Instance Variables:  \n",
        "*   Defined within a method, typically the __init__ constructor.\n",
        "*   Unique to each instance of the class.\n",
        "*   Accessed using the instance name.\n",
        "*   Changes made to an instance variable only affect that specific instance."
      ],
      "metadata": {
        "id": "Owx17cwdjG-y"
      }
    },
    {
      "cell_type": "markdown",
      "source": [
        "18. What is multiple inheritance in Python?  \n",
        "Ans. Multiple inheritance in Python is a feature that allows a class to inherit attributes and methods from more than one parent class. This enables a class to combine functionalities from different sources, creating more complex and versatile class hierarchies. However, it can also introduce complexities, particularly when dealing with naming conflicts or the \"diamond problem,\" where a class inherits from two classes that have a common ancestor. Python resolves method and attribute lookup in multiple inheritance using the Method Resolution Order (MRO), which follows a C3 linearization algorithm to ensure a consistent and predictable order."
      ],
      "metadata": {
        "id": "JSYyfMc3j9N8"
      }
    },
    {
      "cell_type": "markdown",
      "source": [
        "19. Explain the purpose of ‘’__str__’ and ‘__repr__’ ‘ methods in Python.  \n",
        "Ans. In Python, __str__ and __repr__ are special methods, also known as \"dunder methods\", used to define how objects are represented as strings. They serve different purposes and are intended for different audiences.  \n",
        "__str__(self): This method is used to create a human-readable, informal string representation of an object. It's called by the built-in str() function and implicitly by the print() function. The purpose of __str__ is to provide a user-friendly output that is easy to understand. If __str__ is not defined, Python falls back to using __repr__.  \n",
        "__repr__(self): This method is used to create a more detailed, unambiguous string representation of an object. It's called by the built-in repr() function and is often used for debugging and logging. The goal of __repr__ is to provide a string that, if possible, can be used to recreate the object. If no __str__ method is defined, print() will call __repr__()."
      ],
      "metadata": {
        "id": "Pk1wCeezkHjd"
      }
    },
    {
      "cell_type": "markdown",
      "source": [
        "20. What is the significance of the ‘super()’ function in Python?  \n",
        "Ans. The super() function in Python is used to call methods from a parent class in a subclass. It provides a way to access and utilize inherited functionality, promoting code reuse and maintainability. It is particularly useful in scenarios involving inheritance and method overriding.  \n",
        " 1.   Key Benefits of Using super():\n",
        "*   Accessing Parent Class Methods:  \n",
        "super() allows a subclass to invoke methods defined in its parent class, including the __init__ method for proper initialization.\n",
        "*   Avoiding Hardcoding:  \n",
        "It eliminates the need to explicitly reference the parent class name, making the code more flexible and adaptable to changes in the inheritance hierarchy.\n",
        "*   Maintaining MRO:  \n",
        "super() follows the method resolution order (MRO), ensuring that methods are called in the correct sequence, especially in multiple inheritance scenarios.\n",
        " 2.   Common Use Cases:\n",
        "*   Initializing Inherited Attributes:  \n",
        "When a subclass needs to initialize attributes inherited from its parent class, super().__init__() can be used to call the parent class's constructor.\n",
        "*   Extending or Modifying Inherited Behavior:  \n",
        "Subclasses can override methods from the parent class and use super() to call the original method, adding or modifying functionality while preserving the base behavior.\n",
        "*   Handling Multiple Inheritance:  \n",
        "In complex inheritance structures, super() helps manage method calls from multiple parent classes, ensuring proper execution order and avoiding conflicts.\n",
        "\n",
        "\n",
        "\n",
        "\n",
        "\n"
      ],
      "metadata": {
        "id": "NrXKBa76kh1X"
      }
    },
    {
      "cell_type": "markdown",
      "source": [
        "21. What is the significance of the __del__ method in Python?  \n",
        "Ans.  \n",
        "The __del__ method, also known as a destructor, in Python is a special method called when an object is about to be destroyed. It provides an opportunity to perform cleanup actions, such as releasing external resources or finalizing operations before the object is removed from memory.  \n",
        "\n",
        "When an object's reference count drops to zero, meaning it's no longer being used or referenced in the program, the garbage collector reclaims the memory occupied by that object. Just before the garbage collector does this, the __del__ method, if defined, is automatically invoked.  \n",
        "\n",
        "It's important to note that the __del__ method is not always called immediately when an object is no longer referenced. The timing of garbage collection is not deterministic and depends on various factors, including the system's memory usage and the Python interpreter's implementation. Therefore, relying solely on __del__ for critical cleanup tasks is generally discouraged.  \n",
        "\n",
        "Instead of __del__, it's recommended to use context managers (using the with statement) or explicitly define cleanup methods and call them when necessary. This approach provides more control and predictability over resource management."
      ],
      "metadata": {
        "id": "ND5h_-8Ilrnu"
      }
    },
    {
      "cell_type": "markdown",
      "source": [
        "22.  What is the difference between @staticmethod and @classmethod in Python?  \n",
        "Ans. The key differences between @staticmethod and @classmethod in Python involve how they interact with the class and its instances:  \n",
        "@staticmethod:  \n",
        "*   It is a function that belongs to a class but does not have access to the class itself or its instances.\n",
        "*   It does not take self or cls as its first argument.\n",
        "*   It is essentially a regular function that is placed within the class for organizational purposes, often when it has a logical connection to the class but doesn't need to access its attributes.  \n",
        "@classmethod:  \n",
        "*   It is a method that is bound to the class and not the instance of the class.\n",
        "*   It takes cls as its first argument, which represents the class itself.\n",
        "*   It can access and modify class-level attributes.\n",
        "*   It is often used for factory methods (creating instances of the class in different ways) or when needing to operate on class-level data.\n",
        "\n",
        "\n",
        "\n",
        "\n",
        "\n"
      ],
      "metadata": {
        "id": "efki1-DUmXPe"
      }
    },
    {
      "cell_type": "markdown",
      "source": [
        "23. How does polymorphism work in Python with inheritance?  \n",
        "Ans. Polymorphism in Python, in the context of inheritance, enables objects of different classes to respond to the same method call in a way that is specific to their class. This is primarily achieved through method overriding. When a subclass inherits from a parent class, it can redefine methods of the parent class.  \n",
        "Here's how it works:\n",
        "*   Inheritance: A subclass inherits attributes and methods from a parent class.\n",
        "*   Method Overriding: The subclass provides its own implementation for a method already defined in its parent class.\n",
        "*   Polymorphism: When a method is called on an object, Python determines the correct method implementation to execute based on the object's actual class, not the declared type.\n",
        "\n",
        "\n",
        "\n",
        "\n",
        "\n",
        "\n"
      ],
      "metadata": {
        "id": "0yStNQKAnFQd"
      }
    },
    {
      "cell_type": "markdown",
      "source": [
        "24. What is method chaining in Python OOP?  \n",
        "Ans. Method chaining in Python is a programming technique used in object-oriented programming where multiple methods are called sequentially on the same object in a single statement. This is achieved by having each method return the object itself (usually self), allowing subsequent methods to be called directly on the result. It enhances code readability and conciseness by avoiding the need for intermediate variables."
      ],
      "metadata": {
        "id": "DwPSFYv9ngjn"
      }
    },
    {
      "cell_type": "markdown",
      "source": [
        "25. What is the purpose of the __call__ method in Python?  \n",
        "Ans. The __call__ method in Python enables instances of a class to be called like regular functions. When a class implements the __call__ method, it makes its instances \"callable.\" This means you can apply the function call syntax () directly to an object of that class. The __call__ method can take arguments, similar to a regular function."
      ],
      "metadata": {
        "id": "SJhHZqCjnqz6"
      }
    },
    {
      "cell_type": "markdown",
      "source": [
        "**Practical Questions**"
      ],
      "metadata": {
        "id": "TGu5ICRTn1F_"
      }
    },
    {
      "cell_type": "code",
      "source": [
        "# 1. Create a parent class Animal with a method speak() that prints a generic message. Create a child class Dog that overrides the speak() method to print \"Bark!\".\n",
        "\n",
        "class Animal:\n",
        "    def speak(self):\n",
        "        print(\"Normal animal sound\")\n",
        "\n",
        "class Dog(Animal):\n",
        "    def speak(self):\n",
        "        print(\"Bark!\")\n",
        "\n",
        "animal = Animal()\n",
        "animal.speak()\n",
        "# here method speak() overrides from the parent class.\n",
        "\n",
        "dog = Dog()\n",
        "dog.speak()"
      ],
      "metadata": {
        "colab": {
          "base_uri": "https://localhost:8080/"
        },
        "id": "Q_z0Umzin7JJ",
        "outputId": "9bea64c2-0ec0-4750-dfb4-984fe88d3338"
      },
      "execution_count": 55,
      "outputs": [
        {
          "output_type": "stream",
          "name": "stdout",
          "text": [
            "Normal animal sound\n",
            "Bark!\n"
          ]
        }
      ]
    },
    {
      "cell_type": "code",
      "source": [
        "# 2. Write a program to create an abstract class Shape with a method area(). Derive classes Circle and Rectangle from it and implement the area() method in both.\n",
        "\n",
        "import abc\n",
        "import math\n",
        "\n",
        "class Shape(abc.ABC):\n",
        "    @abc.abstractmethod\n",
        "    def area(self):\n",
        "        pass\n",
        "\n",
        "class Circle(Shape):\n",
        "    def __init__(self, radius):\n",
        "        self.radius = radius\n",
        "\n",
        "    def area(self):\n",
        "        return math.pi * self.radius ** 2\n",
        "\n",
        "class Rectangle(Shape):\n",
        "    def __init__(self, length, width):\n",
        "        self.length = length\n",
        "        self.width = width\n",
        "\n",
        "    def area(self):\n",
        "        return self.length * self.width\n",
        "\n",
        "circle = Circle(5)\n",
        "rectangle = Rectangle(4, 6)\n",
        "\n",
        "print(f\"Area of circle: {circle.area()}\")\n",
        "print(f\"Area of rectangle: {rectangle.area()}\")"
      ],
      "metadata": {
        "colab": {
          "base_uri": "https://localhost:8080/"
        },
        "id": "7PyxuSDpoZ6G",
        "outputId": "d8e8884a-16d9-40d3-a2e3-62ffc5a04a33"
      },
      "execution_count": 4,
      "outputs": [
        {
          "output_type": "stream",
          "name": "stdout",
          "text": [
            "Area of circle: 78.53981633974483\n",
            "Area of rectangle: 24\n"
          ]
        }
      ]
    },
    {
      "cell_type": "code",
      "source": [
        "# 3. Implement a multi-level inheritance scenario where a class Vehicle has an attribute type. Derive a class Car and further derive a class ElectricCar that adds a battery attribute.\n",
        "\n",
        "class Vehicle:\n",
        "    def __init__(self, type):\n",
        "        self.type = type\n",
        "\n",
        "class Car(Vehicle):\n",
        "    def __init__(self, type, num_doors):\n",
        "        super().__init__(type)\n",
        "        self.num_doors = num_doors\n",
        "\n",
        "class ElectricCar(Car):\n",
        "    def __init__(self, type, num_doors, battery_capacity):\n",
        "        super().__init__(type, num_doors)\n",
        "        self.battery_capacity = battery_capacity\n",
        "\n",
        "\n",
        "vehicle = Vehicle(\"generic\")\n",
        "car = Car(\"sedan\", 4)\n",
        "electric_car = ElectricCar(\"hatchback\", 3, \"60 kWh\")\n",
        "\n",
        "print(f\"Vehicle type: {vehicle.type}\")\n",
        "print(f\"Car type: {car.type}, Number of doors: {car.num_doors}\")\n",
        "print(f\"Electric car type: {electric_car.type}, Number of doors: {electric_car.num_doors}, Battery capacity: {electric_car.battery_capacity}\")"
      ],
      "metadata": {
        "colab": {
          "base_uri": "https://localhost:8080/"
        },
        "id": "7_a9j6_QppCg",
        "outputId": "f60da578-b01f-4b40-b6e9-cd1a8c72303b"
      },
      "execution_count": 5,
      "outputs": [
        {
          "output_type": "stream",
          "name": "stdout",
          "text": [
            "Vehicle type: generic\n",
            "Car type: sedan, Number of doors: 4\n",
            "Electric car type: hatchback, Number of doors: 3, Battery capacity: 60 kWh\n"
          ]
        }
      ]
    },
    {
      "cell_type": "code",
      "source": [
        "# 4. Demonstrate polymorphism by creating a base class Bird with a method fly(). Create two derived classes Sparrow and Penguin that override the fly() method.\n",
        "\n",
        "class Bird:\n",
        "    def fly(self):\n",
        "        print(\"General birds are flying\")\n",
        "\n",
        "class Sparrow(Bird):\n",
        "    def fly(self):\n",
        "        print(\"Sparrow is flying\")\n",
        "\n",
        "class Penguin(Bird):\n",
        "    def fly(self):\n",
        "        print(\"Penguin cannot fly\")\n",
        "\n",
        "def make_bird_fly(bird):\n",
        "    bird.fly()\n",
        "\n",
        "\n",
        "bird = Bird()\n",
        "sparrow = Sparrow()\n",
        "penguin = Penguin()\n",
        "\n",
        "make_bird_fly(bird)\n",
        "make_bird_fly(sparrow)\n",
        "make_bird_fly(penguin)"
      ],
      "metadata": {
        "colab": {
          "base_uri": "https://localhost:8080/"
        },
        "id": "5Iq_Rp0Uqajw",
        "outputId": "9572017f-f0a9-4034-b2dc-c98ef36dadd8"
      },
      "execution_count": 6,
      "outputs": [
        {
          "output_type": "stream",
          "name": "stdout",
          "text": [
            "General birds are flying\n",
            "Sparrow is flying\n",
            "Penguin cannot fly\n"
          ]
        }
      ]
    },
    {
      "cell_type": "code",
      "source": [
        "# 5. Write a program to demonstrate encapsulation by creating a class BankAccount with private attributes balance and methods to deposit, withdraw, and check balance.\n",
        "\n",
        "class BankAccount:\n",
        "    def __init__(self, initial_balance=0):\n",
        "        self.__balance = initial_balance  # Private attribute\n",
        "\n",
        "    def deposit(self, amount):\n",
        "        if amount > 0:\n",
        "            self.__balance += amount\n",
        "            print(f\"Deposited: {amount}. New balance: {self.__balance}\")\n",
        "        else:\n",
        "            print(\"Invalid deposit amount.\")\n",
        "\n",
        "    def withdraw(self, amount):\n",
        "        if amount > 0 and amount <= self.__balance:\n",
        "            self.__balance -= amount\n",
        "            print(f\"Withdrawn: {amount}. New balance: {self.__balance}\")\n",
        "        elif amount > self.__balance:\n",
        "            print(\"Insufficient balance.\")\n",
        "        else:\n",
        "            print(\"Invalid withdrawal amount.\")\n",
        "\n",
        "    def get_balance(self):\n",
        "        return self.__balance  # Method to access private attribute\n",
        "\n",
        "account = BankAccount(1000)\n",
        "account.deposit(500)\n",
        "account.withdraw(200)\n",
        "print(f\"Current balance: {account.get_balance()}\")"
      ],
      "metadata": {
        "colab": {
          "base_uri": "https://localhost:8080/"
        },
        "id": "dCdR5z32rAon",
        "outputId": "05d40fc9-b4c1-460f-9fa5-39789dfce2d2"
      },
      "execution_count": 7,
      "outputs": [
        {
          "output_type": "stream",
          "name": "stdout",
          "text": [
            "Deposited: 500. New balance: 1500\n",
            "Withdrawn: 200. New balance: 1300\n",
            "Current balance: 1300\n"
          ]
        }
      ]
    },
    {
      "cell_type": "code",
      "source": [
        "# 6. Demonstrate runtime polymorphism using a method play() in a base class Instrument. Derive classes Guitar and Piano that implement their own version of play().\n",
        "\n",
        "class Instrument:\n",
        "    def play(self):\n",
        "        print(\"General instrument sound\")\n",
        "\n",
        "class Guitar(Instrument):\n",
        "    def play(self):\n",
        "        print(\"pleasant sound of a guitar\")\n",
        "\n",
        "class Piano(Instrument):\n",
        "    def play(self):\n",
        "        print(\"Playing piano keys\")\n",
        "\n",
        "def instrument_play(instrument):\n",
        "    instrument.play()\n",
        "\n",
        "\n",
        "if __name__ == \"__main__\":\n",
        "    instruments = [Instrument(), Guitar(), Piano()]\n",
        "\n",
        "    for instrument in instruments:\n",
        "        instrument_play(instrument)"
      ],
      "metadata": {
        "colab": {
          "base_uri": "https://localhost:8080/"
        },
        "id": "pO2TUKlvrdJ-",
        "outputId": "f1035037-ded1-4c44-dc91-7c1c26819742"
      },
      "execution_count": 9,
      "outputs": [
        {
          "output_type": "stream",
          "name": "stdout",
          "text": [
            "General instrument sound\n",
            "pleasant sound of a guitar\n",
            "Playing piano keys\n"
          ]
        }
      ]
    },
    {
      "cell_type": "code",
      "source": [
        "# 7. Create a class MathOperations with a class method add_numbers() to add two numbers and a static method subtract_numbers() to subtract two numbers.\n",
        "\n",
        "class MathOperations:\n",
        "    @classmethod\n",
        "    def add_numbers(cls, num1, num2):\n",
        "        return num1 + num2\n",
        "\n",
        "    @staticmethod\n",
        "    def subtract_numbers(num1, num2):\n",
        "        return num1 - num2\n",
        "\n",
        "# Calling the class method\n",
        "sum_result = MathOperations.add_numbers(10, 5)\n",
        "print(f\"Sum: {sum_result}\")\n",
        "\n",
        "# Calling the static method\n",
        "difference_result = MathOperations.subtract_numbers(10, 5)\n",
        "print(f\"Difference: {difference_result}\")"
      ],
      "metadata": {
        "colab": {
          "base_uri": "https://localhost:8080/"
        },
        "id": "-sy1p0FQr0VD",
        "outputId": "e0e913e9-96ce-4ff7-ea99-4b46706b20c2"
      },
      "execution_count": 10,
      "outputs": [
        {
          "output_type": "stream",
          "name": "stdout",
          "text": [
            "Sum: 15\n",
            "Difference: 5\n"
          ]
        }
      ]
    },
    {
      "cell_type": "code",
      "source": [
        "# 8. Implement a class Person with a class method to count the total number of persons created.\n",
        "\n",
        "class Person:\n",
        "    _count = 0  # Class variable to keep track of the number of instances\n",
        "\n",
        "    def __init__(self, name):\n",
        "        self.name = name\n",
        "        Person._count += 1  # Increment the count each time a new person is created\n",
        "\n",
        "    @classmethod\n",
        "    def get_count(cls):\n",
        "        return cls._count # Return the current count of Person objects\n",
        "\n",
        "person1 = Person(\"Ajay\")\n",
        "person2 = Person(\"Gaurav\")\n",
        "person3 = Person(\"Akash\")\n",
        "\n",
        "print(f\"Count of the person added: {Person.get_count()}\")"
      ],
      "metadata": {
        "colab": {
          "base_uri": "https://localhost:8080/"
        },
        "id": "nvn8j9a2sccF",
        "outputId": "5de59f55-01c1-4d93-95c9-0af360e62fa2"
      },
      "execution_count": 14,
      "outputs": [
        {
          "output_type": "stream",
          "name": "stdout",
          "text": [
            "Count of the person added: 3\n"
          ]
        }
      ]
    },
    {
      "cell_type": "code",
      "source": [
        "# 9. Write a class Fraction with attributes numerator and denominator. Override the str method to display the fraction as \"numerator/denominator\".\n",
        "\n",
        "class Fraction:\n",
        "    def __init__(self, numerator, denominator):\n",
        "        self.numerator = numerator\n",
        "        self.denominator = denominator\n",
        "\n",
        "    def __str__(self):\n",
        "        return f\"{self.numerator}/{self.denominator}\"\n",
        "\n",
        "fraction1 = Fraction(3, 4)\n",
        "print(f\"First example of fraction with Numerator / Denominator is: {fraction1}\")\n",
        "\n",
        "fraction2 = Fraction(1, 2)\n",
        "print(f\"First example of fraction with Numerator / Denominator is: {fraction2}\")"
      ],
      "metadata": {
        "colab": {
          "base_uri": "https://localhost:8080/"
        },
        "id": "QhM-WB5psxkP",
        "outputId": "69615470-40db-4c6a-849b-0c7203010440"
      },
      "execution_count": 16,
      "outputs": [
        {
          "output_type": "stream",
          "name": "stdout",
          "text": [
            "First example of fraction with Numerator / Denominator is: 3/4\n",
            "First example of fraction with Numerator / Denominator is: 1/2\n"
          ]
        }
      ]
    },
    {
      "cell_type": "code",
      "source": [
        "# 10. Demonstrate operator overloading by creating a class Vector and overriding the add method to add two vectors.\n",
        "\n",
        "class Vector:\n",
        "    def __init__(self, x, y):\n",
        "        self.x = x\n",
        "        self.y = y\n",
        "\n",
        "    def __add__(self, other):\n",
        "        if isinstance(other, Vector):\n",
        "            return Vector(self.x + other.x, self.y + other.y)\n",
        "        else:\n",
        "            raise TypeError(\"Unsupported operand type for +: Vector and {}\".format(type(other)))\n",
        "\n",
        "    def __str__(self):\n",
        "        return f\"({self.x}, {self.y})\"\n",
        "\n",
        "v1 = Vector(1, 2)\n",
        "v2 = Vector(3, 4)\n",
        "v3 = v1 + v2\n",
        "print(f\"Elements in v1: {v1}\")\n",
        "print(f\"Elements in v2: {v2}\")\n",
        "print(f\"Adding use of overloaded __add__ method v1 + v2: {v3}\")\n",
        "\n",
        "# Example of unsupported operand type\n",
        "try:\n",
        "    v4 = v1 + 5\n",
        "except TypeError as e:\n",
        "    print(e)"
      ],
      "metadata": {
        "colab": {
          "base_uri": "https://localhost:8080/"
        },
        "id": "6CKYP-d_tsN1",
        "outputId": "d139a5c7-e2d5-4ffd-ebda-43d480a1ceb2"
      },
      "execution_count": 18,
      "outputs": [
        {
          "output_type": "stream",
          "name": "stdout",
          "text": [
            "Elements in v1: (1, 2)\n",
            "Elements in v2: (3, 4)\n",
            "Adding use of overloaded __add__ method v1 + v2: (4, 6)\n",
            "Unsupported operand type for +: Vector and <class 'int'>\n"
          ]
        }
      ]
    },
    {
      "cell_type": "code",
      "source": [
        "# 11. Create a class Person with attributes name and age. Add a method greet() that prints \"Hello, my name is {name} and I am {age} years old.\"\n",
        "\n",
        "class Person:\n",
        "    def __init__(self, name, age):\n",
        "        self.name = name\n",
        "        self.age = age\n",
        "\n",
        "    def greet(self):\n",
        "        print(f\"Hello, my name is {self.name} and I am {self.age} years old.\")\n",
        "\n",
        "\n",
        "person1 = Person(\"Gaurav\", 27)\n",
        "person1.greet()\n",
        "\n",
        "person2 = Person(\"Ajay\", 30)\n",
        "person2.greet()"
      ],
      "metadata": {
        "colab": {
          "base_uri": "https://localhost:8080/"
        },
        "id": "MoF9_PcIuWSp",
        "outputId": "2829c9d3-1cae-4e32-c268-5caf72c86371"
      },
      "execution_count": 19,
      "outputs": [
        {
          "output_type": "stream",
          "name": "stdout",
          "text": [
            "Hello, my name is Gaurav and I am 27 years old.\n",
            "Hello, my name is Ajay and I am 30 years old.\n"
          ]
        }
      ]
    },
    {
      "cell_type": "code",
      "source": [
        "# 12. Implement a class Student with attributes name and grades. Create a method average_grade() to compute the average of the grades.\n",
        "\n",
        "class Student:\n",
        "    def __init__(self, name, grades):\n",
        "        self.name = name\n",
        "        self.grades = grades\n",
        "\n",
        "    def average_grade(self):\n",
        "        if not self.grades:\n",
        "            return 0\n",
        "        return sum(self.grades) / len(self.grades)\n",
        "\n",
        "\n",
        "student1 = Student(\"Gaurav\", [90, 85, 92, 78])\n",
        "print(f\"Average grade for {student1.name}: {student1.average_grade()}\")\n",
        "\n",
        "student2 = Student(\"Ajay\", [70, 65, 72, 80])\n",
        "print(f\"Average grade for {student2.name}: {student2.average_grade()}\")\n",
        "\n",
        "student3 = Student(\"Akash\", [])\n",
        "print(f\"Average grade for {student3.name}: {student3.average_grade()}\")"
      ],
      "metadata": {
        "colab": {
          "base_uri": "https://localhost:8080/"
        },
        "id": "CFfvVW41vGFY",
        "outputId": "72d4745d-960b-49cd-bed6-58dc6ba71fdc"
      },
      "execution_count": 20,
      "outputs": [
        {
          "output_type": "stream",
          "name": "stdout",
          "text": [
            "Average grade for Gaurav: 86.25\n",
            "Average grade for Ajay: 71.75\n",
            "Average grade for Akash: 0\n"
          ]
        }
      ]
    },
    {
      "cell_type": "code",
      "source": [
        "# 13. Create a class Rectangle with methods set_dimensions() to set the dimensions and area() to calculate the area.\n",
        "\n",
        "class Rectangle:\n",
        "    def __init__(self):\n",
        "        self.length = 0\n",
        "        self.width = 0\n",
        "\n",
        "    def set_dimensions(self, length, width):\n",
        "        \"\"\"Sets the dimensions of the rectangle.\"\"\"\n",
        "        self.length = length\n",
        "        self.width = width\n",
        "\n",
        "    def area(self):\n",
        "        \"\"\"Calculates the area of the rectangle.\"\"\"\n",
        "        return self.length * self.width\n",
        "\n",
        "rect = Rectangle()\n",
        "rect.set_dimensions(5, 6)\n",
        "print(f\"Area of the Rectangle is: {rect.area()}\")"
      ],
      "metadata": {
        "colab": {
          "base_uri": "https://localhost:8080/"
        },
        "id": "JtLxaJIwvepO",
        "outputId": "4d121070-eaac-419a-b0eb-e47a34ffd9b7"
      },
      "execution_count": 22,
      "outputs": [
        {
          "output_type": "stream",
          "name": "stdout",
          "text": [
            "Area of the Rectangle is: 30\n"
          ]
        }
      ]
    },
    {
      "cell_type": "code",
      "source": [
        "# 14. Create a class Employee with a method calculate_salary() that computes the salary based on hours worked and hourly rate. Create a derived class Manager that adds a bonus to the salary.\n",
        "\n",
        "class Employee:\n",
        "    def __init__(self, hourly_rate):\n",
        "        self.hourly_rate = hourly_rate\n",
        "\n",
        "    def calculate_salary(self, hours_worked):\n",
        "        \"\"\"Calculates the salary based on hours worked and hourly rate.\"\"\"\n",
        "        return hours_worked * self.hourly_rate\n",
        "\n",
        "class Manager(Employee):\n",
        "    def __init__(self, hourly_rate, bonus_percentage):\n",
        "        super().__init__(hourly_rate)\n",
        "        self.bonus_percentage = bonus_percentage\n",
        "\n",
        "    def calculate_salary(self, hours_worked):\n",
        "        \"\"\"Calculates the salary including a bonus.\"\"\"\n",
        "        base_salary = super().calculate_salary(hours_worked)\n",
        "        bonus = base_salary * (self.bonus_percentage / 100)\n",
        "        return base_salary + bonus\n",
        "\n",
        "employee = Employee(hourly_rate=20)\n",
        "manager = Manager(hourly_rate=30, bonus_percentage=10)\n",
        "\n",
        "employee_salary = employee.calculate_salary(hours_worked=40)\n",
        "manager_salary = manager.calculate_salary(hours_worked=40)\n",
        "\n",
        "print(f\"Employee salary: {employee_salary}\")\n",
        "print(f\"Bonus salary added by the Manager based on hours worked and hourly rate: {manager_salary}\")"
      ],
      "metadata": {
        "colab": {
          "base_uri": "https://localhost:8080/"
        },
        "id": "Ifn48MiGwSlD",
        "outputId": "9a2ed8e7-0508-449d-c5d0-e3967cc83873"
      },
      "execution_count": 23,
      "outputs": [
        {
          "output_type": "stream",
          "name": "stdout",
          "text": [
            "Employee salary: 800\n",
            "Bonus salary added by the Manager based on hours worked and hourly rate: 1320.0\n"
          ]
        }
      ]
    },
    {
      "cell_type": "code",
      "source": [
        "# 15. Create a class Product with attributes name, price, and quantity. Implement a method total_price() that calculates the total price of the product.\n",
        "\n",
        "class Product:\n",
        "    def __init__(self, name, price, quantity):\n",
        "\n",
        "        self.name = name\n",
        "        self.price = price\n",
        "        self.quantity = quantity\n",
        "\n",
        "    def total_price(self):\n",
        "        return self.price * self.quantity\n",
        "\n",
        "product1 = Product(\"Laptops\", 42000.79, 2)\n",
        "print(f\"Total price of {product1.name} are: ${product1.total_price()}\")\n",
        "\n",
        "product2 = Product(\"Mobile\", 7500.88, 5)\n",
        "print(f\"Total price of {product2.name} phones are: ${product2.total_price()}\")"
      ],
      "metadata": {
        "colab": {
          "base_uri": "https://localhost:8080/"
        },
        "id": "cFwCYB-9xLKH",
        "outputId": "708c61c3-362f-4c39-f4e9-be34a33d5268"
      },
      "execution_count": 27,
      "outputs": [
        {
          "output_type": "stream",
          "name": "stdout",
          "text": [
            "Total price of Laptops are: $84001.58\n",
            "Total price of Mobile phones are: $37504.4\n"
          ]
        }
      ]
    },
    {
      "cell_type": "code",
      "source": [
        "# 16.  Create a class Animal with an abstract method sound(). Create two derived classes Cow and Sheep that implement the sound() method.\n",
        "\n",
        "from abc import ABC, abstractmethod\n",
        "class Animal(ABC):\n",
        "\n",
        "    @abstractmethod\n",
        "    def sound(self):\n",
        "        pass\n",
        "class Cow(Animal):\n",
        "\n",
        "    def sound(self):\n",
        "        return \"Moooo\"\n",
        "class Sheep(Animal):\n",
        "    def sound(self):\n",
        "        return \"Meeee meeee\"\n",
        "cow = Cow()\n",
        "print(cow.sound())\n",
        "\n",
        "sheep = Sheep()\n",
        "print(sheep.sound())"
      ],
      "metadata": {
        "colab": {
          "base_uri": "https://localhost:8080/"
        },
        "id": "ZQXF8_K6yECL",
        "outputId": "2a5ca0a9-6bf3-4903-f593-76084d4d7f89"
      },
      "execution_count": 29,
      "outputs": [
        {
          "output_type": "stream",
          "name": "stdout",
          "text": [
            "Moooo\n",
            "Meeee meeee\n"
          ]
        }
      ]
    },
    {
      "cell_type": "code",
      "source": [
        "# 17. Create a class Book with attributes title, author, and year_published. Add a method get_book_info() that returns a formatted string with the book's details.\n",
        "\n",
        "class Book:\n",
        "    def __init__(self, title, author, year_published):\n",
        "        self.title = title\n",
        "        self.author = author\n",
        "        self.year_published = year_published\n",
        "\n",
        "    def get_book_info(self):\n",
        "        return f\"Title: {self.title}, Author: {self.author}, Year Published: {self.year_published}\"\n",
        "\n",
        "book = Book(\"Data Analytics\", \"Ajay Gupta\", 2025)\n",
        "book1 = Book(\"Data Science\", \"Gaurav Suman\", 2024)\n",
        "print(book.get_book_info())\n",
        "print(book1.get_book_info())"
      ],
      "metadata": {
        "colab": {
          "base_uri": "https://localhost:8080/"
        },
        "id": "MhVLtZYFzd-H",
        "outputId": "7e0f4fd3-2bc8-4915-e5a5-4e42a3dc682f"
      },
      "execution_count": 53,
      "outputs": [
        {
          "output_type": "stream",
          "name": "stdout",
          "text": [
            "Title: Data Analytics, Author: Ajay Gupta, Year Published: 2025\n",
            "Title: Data Science, Author: Gaurav Suman, Year Published: 2024\n"
          ]
        }
      ]
    },
    {
      "cell_type": "code",
      "source": [
        "# 18. Create a class House with attributes address and price. Create a derived class Mansion that adds an attribute number_of_rooms.\n",
        "\n",
        "class House:\n",
        "  def __init__(self, Address, Price):\n",
        "    self.Address = Address\n",
        "    self.Price = Price\n",
        "class Mansion(House):\n",
        "  def __init__(self,Address, Price, number_of_rooms):\n",
        "      super().__init__(Address, Price)\n",
        "      self.number_of_rooms = number_of_rooms\n",
        "\n",
        "house = House(\"123 Hardiya Madhaul\", 250000)\n",
        "mansion = Mansion(\"456 Manpur Ratnauli\", 1000000, 10)\n",
        "\n",
        "print(f\"House Address: {house.Address}, Price: {house.Price}\")\n",
        "print(f\"Mansion Address: {mansion.Address}, Price: {mansion.Price}, Rooms: {mansion.number_of_rooms}\")"
      ],
      "metadata": {
        "colab": {
          "base_uri": "https://localhost:8080/"
        },
        "id": "g0oC1C3q3b7y",
        "outputId": "f78c783a-1d9e-4da9-e93e-84b653577aa0"
      },
      "execution_count": 35,
      "outputs": [
        {
          "output_type": "stream",
          "name": "stdout",
          "text": [
            "House Address: 123 Hardiya Madhaul, Price: 250000\n",
            "Mansion Address: 456 Manpur Ratnauli, Price: 1000000, Rooms: 10\n"
          ]
        }
      ]
    },
    {
      "cell_type": "code",
      "source": [
        "print(f\"Title of the book: {book.title}\")\n",
        "print(f\"Author of the book: {book.author}\")\n",
        "print(f\"Publication year of the book: {book.year_published}\")\n",
        "\n",
        "print(f\"\\nTitle of the book: {book1.title}\")\n",
        "print(f\"Author of the book: {book1.author}\")\n",
        "print(f\"Publication year of the book: {book1.year_published}\")"
      ],
      "metadata": {
        "id": "nxAmGssI42i1"
      },
      "execution_count": null,
      "outputs": []
    }
  ]
}